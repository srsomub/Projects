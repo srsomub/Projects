{
 "cells": [
  {
   "cell_type": "markdown",
   "id": "overall-stewart",
   "metadata": {},
   "source": [
    "# Scraping Top Repositories for Topics on GitHub"
   ]
  },
  {
   "cell_type": "markdown",
   "id": "indonesian-japanese",
   "metadata": {},
   "source": [
    "Here are the steps we'll follow:\n",
    "\n",
    "- We're going to scrape https://github.com/topics\n",
    "- We'll get a list of topics. For each topic, we'll get topic title, topic page URL and topic description\n",
    "- For each topic, we'll get the top 25 repositories in the topic from the topic page\n",
    "- For each repository, we'll grab the repository name , username , stars and repository URL\n",
    "- For each topic we'll create a CSV file in the following format:\n"
   ]
  },
  {
   "cell_type": "code",
   "execution_count": 1,
   "id": "photographic-programming",
   "metadata": {},
   "outputs": [],
   "source": [
    "import requests\n",
    "import pandas as pd\n",
    "from bs4 import BeautifulSoup\n",
    "import os"
   ]
  },
  {
   "cell_type": "code",
   "execution_count": 2,
   "id": "missing-discipline",
   "metadata": {},
   "outputs": [],
   "source": [
    "topic_Url='https://github.com/topics'"
   ]
  },
  {
   "cell_type": "code",
   "execution_count": 3,
   "id": "supported-hygiene",
   "metadata": {},
   "outputs": [],
   "source": [
    "response=requests.get(topic_Url)"
   ]
  },
  {
   "cell_type": "code",
   "execution_count": 4,
   "id": "photographic-university",
   "metadata": {},
   "outputs": [
    {
     "data": {
      "text/plain": [
       "200"
      ]
     },
     "execution_count": 4,
     "metadata": {},
     "output_type": "execute_result"
    }
   ],
   "source": [
    "response.status_code"
   ]
  },
  {
   "cell_type": "code",
   "execution_count": 5,
   "id": "biological-there",
   "metadata": {},
   "outputs": [],
   "source": [
    "soup=BeautifulSoup(response.content)"
   ]
  },
  {
   "cell_type": "code",
   "execution_count": 6,
   "id": "pointed-anaheim",
   "metadata": {},
   "outputs": [],
   "source": [
    "topic_name=soup.find_all('p',{'class':'f3 lh-condensed mb-0 mt-1 Link--primary'})"
   ]
  },
  {
   "cell_type": "code",
   "execution_count": 7,
   "metadata": {},
   "outputs": [
    {
     "data": {
      "text/plain": [
       "[<p class=\"f3 lh-condensed mb-0 mt-1 Link--primary\">3D</p>,\n",
       " <p class=\"f3 lh-condensed mb-0 mt-1 Link--primary\">Ajax</p>,\n",
       " <p class=\"f3 lh-condensed mb-0 mt-1 Link--primary\">Algorithm</p>,\n",
       " <p class=\"f3 lh-condensed mb-0 mt-1 Link--primary\">Amp</p>,\n",
       " <p class=\"f3 lh-condensed mb-0 mt-1 Link--primary\">Android</p>,\n",
       " <p class=\"f3 lh-condensed mb-0 mt-1 Link--primary\">Angular</p>,\n",
       " <p class=\"f3 lh-condensed mb-0 mt-1 Link--primary\">Ansible</p>,\n",
       " <p class=\"f3 lh-condensed mb-0 mt-1 Link--primary\">API</p>,\n",
       " <p class=\"f3 lh-condensed mb-0 mt-1 Link--primary\">Arduino</p>,\n",
       " <p class=\"f3 lh-condensed mb-0 mt-1 Link--primary\">ASP.NET</p>,\n",
       " <p class=\"f3 lh-condensed mb-0 mt-1 Link--primary\">Atom</p>,\n",
       " <p class=\"f3 lh-condensed mb-0 mt-1 Link--primary\">Awesome Lists</p>,\n",
       " <p class=\"f3 lh-condensed mb-0 mt-1 Link--primary\">Amazon Web Services</p>,\n",
       " <p class=\"f3 lh-condensed mb-0 mt-1 Link--primary\">Azure</p>,\n",
       " <p class=\"f3 lh-condensed mb-0 mt-1 Link--primary\">Babel</p>,\n",
       " <p class=\"f3 lh-condensed mb-0 mt-1 Link--primary\">Bash</p>,\n",
       " <p class=\"f3 lh-condensed mb-0 mt-1 Link--primary\">Bitcoin</p>,\n",
       " <p class=\"f3 lh-condensed mb-0 mt-1 Link--primary\">Bootstrap</p>,\n",
       " <p class=\"f3 lh-condensed mb-0 mt-1 Link--primary\">Bot</p>,\n",
       " <p class=\"f3 lh-condensed mb-0 mt-1 Link--primary\">C</p>,\n",
       " <p class=\"f3 lh-condensed mb-0 mt-1 Link--primary\">Chrome</p>,\n",
       " <p class=\"f3 lh-condensed mb-0 mt-1 Link--primary\">Chrome extension</p>,\n",
       " <p class=\"f3 lh-condensed mb-0 mt-1 Link--primary\">Command line interface</p>,\n",
       " <p class=\"f3 lh-condensed mb-0 mt-1 Link--primary\">Clojure</p>,\n",
       " <p class=\"f3 lh-condensed mb-0 mt-1 Link--primary\">Code quality</p>,\n",
       " <p class=\"f3 lh-condensed mb-0 mt-1 Link--primary\">Code review</p>,\n",
       " <p class=\"f3 lh-condensed mb-0 mt-1 Link--primary\">Compiler</p>,\n",
       " <p class=\"f3 lh-condensed mb-0 mt-1 Link--primary\">Continuous integration</p>,\n",
       " <p class=\"f3 lh-condensed mb-0 mt-1 Link--primary\">COVID-19</p>,\n",
       " <p class=\"f3 lh-condensed mb-0 mt-1 Link--primary\">C++</p>]"
      ]
     },
     "execution_count": 7,
     "metadata": {},
     "output_type": "execute_result"
    }
   ],
   "source": [
    "topic_name"
   ]
  },
  {
   "cell_type": "code",
   "execution_count": 8,
   "id": "local-intensity",
   "metadata": {},
   "outputs": [
    {
     "data": {
      "text/plain": [
       "30"
      ]
     },
     "execution_count": 8,
     "metadata": {},
     "output_type": "execute_result"
    }
   ],
   "source": [
    "len(topic_name)"
   ]
  },
  {
   "cell_type": "code",
   "execution_count": 9,
   "id": "random-march",
   "metadata": {},
   "outputs": [
    {
     "name": "stdout",
     "output_type": "stream",
     "text": [
      "['3D', 'Ajax', 'Algorithm', 'Amp', 'Android', 'Angular', 'Ansible', 'API', 'Arduino', 'ASP.NET', 'Atom', 'Awesome Lists', 'Amazon Web Services', 'Azure', 'Babel', 'Bash', 'Bitcoin', 'Bootstrap', 'Bot', 'C', 'Chrome', 'Chrome extension', 'Command line interface', 'Clojure', 'Code quality', 'Code review', 'Compiler', 'Continuous integration', 'COVID-19', 'C++']\n"
     ]
    }
   ],
   "source": [
    "topicName=[]\n",
    "for i in topic_name:\n",
    "    topicName.append(i.text)\n",
    "print(topicName)"
   ]
  },
  {
   "cell_type": "code",
   "execution_count": 10,
   "id": "native-mistake",
   "metadata": {},
   "outputs": [],
   "source": [
    "# Get Description of Topics\n",
    "topic_desc=soup.find_all('p',{'class':\"f5 color-fg-muted mb-0 mt-1\"})"
   ]
  },
  {
   "cell_type": "code",
   "execution_count": 11,
   "id": "balanced-keyboard",
   "metadata": {},
   "outputs": [],
   "source": [
    "desc_lis = [topic.text.strip() for topic in topic_desc]"
   ]
  },
  {
   "cell_type": "code",
   "execution_count": 12,
   "metadata": {},
   "outputs": [
    {
     "data": {
      "text/plain": [
       "['3D refers to the use of three-dimensional graphics, modeling, and animation in various industries.',\n",
       " 'Ajax is a technique for creating interactive web applications.',\n",
       " 'Algorithms are self-contained sequences that carry out a variety of tasks.']"
      ]
     },
     "execution_count": 12,
     "metadata": {},
     "output_type": "execute_result"
    }
   ],
   "source": [
    "desc_lis[:3]"
   ]
  },
  {
   "cell_type": "code",
   "execution_count": 13,
   "id": "surgical-bearing",
   "metadata": {},
   "outputs": [],
   "source": [
    "# Get URl of topics \n",
    "link_tags=soup.find_all('a',{'class':\"no-underline flex-grow-0\"})"
   ]
  },
  {
   "cell_type": "code",
   "execution_count": 14,
   "id": "brilliant-paint",
   "metadata": {},
   "outputs": [
    {
     "data": {
      "text/plain": [
       "<a class=\"no-underline flex-grow-0\" href=\"/topics/3d\">\n",
       "<div class=\"color-bg-accent f4 color-fg-muted text-bold rounded mr-3 flex-shrink-0 text-center\" style=\"width:64px; height:64px; line-height:64px;\">\n",
       "            #\n",
       "          </div>\n",
       "</a>"
      ]
     },
     "execution_count": 14,
     "metadata": {},
     "output_type": "execute_result"
    }
   ],
   "source": [
    "link_tags[0]"
   ]
  },
  {
   "cell_type": "code",
   "execution_count": 15,
   "id": "nonprofit-communist",
   "metadata": {},
   "outputs": [
    {
     "name": "stdout",
     "output_type": "stream",
     "text": [
      "/topics/3d\n"
     ]
    }
   ],
   "source": [
    "url_1 = link_tags[0]['href']\n",
    "print(url_1)"
   ]
  },
  {
   "cell_type": "code",
   "execution_count": 16,
   "metadata": {},
   "outputs": [],
   "source": [
    "base_url='http://github.com'"
   ]
  },
  {
   "cell_type": "code",
   "execution_count": 17,
   "id": "mighty-textbook",
   "metadata": {},
   "outputs": [
    {
     "name": "stdout",
     "output_type": "stream",
     "text": [
      "http://github.com/topics/3d\n"
     ]
    }
   ],
   "source": [
    "print(base_url+url_1)"
   ]
  },
  {
   "cell_type": "code",
   "execution_count": 18,
   "id": "measured-tribute",
   "metadata": {},
   "outputs": [
    {
     "name": "stdout",
     "output_type": "stream",
     "text": [
      "['http://github.com/topics/3d', 'http://github.com/topics/ajax', 'http://github.com/topics/algorithm', 'http://github.com/topics/amphp', 'http://github.com/topics/android', 'http://github.com/topics/angular', 'http://github.com/topics/ansible', 'http://github.com/topics/api', 'http://github.com/topics/arduino', 'http://github.com/topics/aspnet', 'http://github.com/topics/atom', 'http://github.com/topics/awesome', 'http://github.com/topics/aws', 'http://github.com/topics/azure', 'http://github.com/topics/babel', 'http://github.com/topics/bash', 'http://github.com/topics/bitcoin', 'http://github.com/topics/bootstrap', 'http://github.com/topics/bot', 'http://github.com/topics/c', 'http://github.com/topics/chrome', 'http://github.com/topics/chrome-extension', 'http://github.com/topics/cli', 'http://github.com/topics/clojure', 'http://github.com/topics/code-quality', 'http://github.com/topics/code-review', 'http://github.com/topics/compiler', 'http://github.com/topics/continuous-integration', 'http://github.com/topics/covid-19', 'http://github.com/topics/cpp']\n"
     ]
    }
   ],
   "source": [
    "linkTags=[]\n",
    "for i in link_tags:\n",
    "    linkTags.append(base_url+ i['href'])\n",
    "print(linkTags)"
   ]
  },
  {
   "cell_type": "markdown",
   "id": "opposed-underwear",
   "metadata": {},
   "source": [
    "### Creating CSV file for Topics"
   ]
  },
  {
   "cell_type": "code",
   "execution_count": 19,
   "id": "active-azerbaijan",
   "metadata": {},
   "outputs": [],
   "source": [
    "topicDict={\n",
    "    'Title':topicName,\n",
    "    'Description':desc_lis,\n",
    "    'URL':linkTags\n",
    "}"
   ]
  },
  {
   "cell_type": "code",
   "execution_count": 20,
   "id": "brilliant-tribe",
   "metadata": {},
   "outputs": [
    {
     "data": {
      "text/html": [
       "<div>\n",
       "<style scoped>\n",
       "    .dataframe tbody tr th:only-of-type {\n",
       "        vertical-align: middle;\n",
       "    }\n",
       "\n",
       "    .dataframe tbody tr th {\n",
       "        vertical-align: top;\n",
       "    }\n",
       "\n",
       "    .dataframe thead th {\n",
       "        text-align: right;\n",
       "    }\n",
       "</style>\n",
       "<table border=\"1\" class=\"dataframe\">\n",
       "  <thead>\n",
       "    <tr style=\"text-align: right;\">\n",
       "      <th></th>\n",
       "      <th>Title</th>\n",
       "      <th>Description</th>\n",
       "      <th>URL</th>\n",
       "    </tr>\n",
       "  </thead>\n",
       "  <tbody>\n",
       "    <tr>\n",
       "      <th>0</th>\n",
       "      <td>3D</td>\n",
       "      <td>3D refers to the use of three-dimensional grap...</td>\n",
       "      <td>http://github.com/topics/3d</td>\n",
       "    </tr>\n",
       "    <tr>\n",
       "      <th>1</th>\n",
       "      <td>Ajax</td>\n",
       "      <td>Ajax is a technique for creating interactive w...</td>\n",
       "      <td>http://github.com/topics/ajax</td>\n",
       "    </tr>\n",
       "    <tr>\n",
       "      <th>2</th>\n",
       "      <td>Algorithm</td>\n",
       "      <td>Algorithms are self-contained sequences that c...</td>\n",
       "      <td>http://github.com/topics/algorithm</td>\n",
       "    </tr>\n",
       "    <tr>\n",
       "      <th>3</th>\n",
       "      <td>Amp</td>\n",
       "      <td>Amp is a non-blocking concurrency library for ...</td>\n",
       "      <td>http://github.com/topics/amphp</td>\n",
       "    </tr>\n",
       "    <tr>\n",
       "      <th>4</th>\n",
       "      <td>Android</td>\n",
       "      <td>Android is an operating system built by Google...</td>\n",
       "      <td>http://github.com/topics/android</td>\n",
       "    </tr>\n",
       "    <tr>\n",
       "      <th>5</th>\n",
       "      <td>Angular</td>\n",
       "      <td>Angular is an open source web application plat...</td>\n",
       "      <td>http://github.com/topics/angular</td>\n",
       "    </tr>\n",
       "    <tr>\n",
       "      <th>6</th>\n",
       "      <td>Ansible</td>\n",
       "      <td>Ansible is a simple and powerful automation en...</td>\n",
       "      <td>http://github.com/topics/ansible</td>\n",
       "    </tr>\n",
       "    <tr>\n",
       "      <th>7</th>\n",
       "      <td>API</td>\n",
       "      <td>An API (Application Programming Interface) is ...</td>\n",
       "      <td>http://github.com/topics/api</td>\n",
       "    </tr>\n",
       "    <tr>\n",
       "      <th>8</th>\n",
       "      <td>Arduino</td>\n",
       "      <td>Arduino is an open source platform for buildin...</td>\n",
       "      <td>http://github.com/topics/arduino</td>\n",
       "    </tr>\n",
       "    <tr>\n",
       "      <th>9</th>\n",
       "      <td>ASP.NET</td>\n",
       "      <td>ASP.NET is a web framework for building modern...</td>\n",
       "      <td>http://github.com/topics/aspnet</td>\n",
       "    </tr>\n",
       "    <tr>\n",
       "      <th>10</th>\n",
       "      <td>Atom</td>\n",
       "      <td>Atom is a open source text editor built with w...</td>\n",
       "      <td>http://github.com/topics/atom</td>\n",
       "    </tr>\n",
       "    <tr>\n",
       "      <th>11</th>\n",
       "      <td>Awesome Lists</td>\n",
       "      <td>An awesome list is a list of awesome things cu...</td>\n",
       "      <td>http://github.com/topics/awesome</td>\n",
       "    </tr>\n",
       "    <tr>\n",
       "      <th>12</th>\n",
       "      <td>Amazon Web Services</td>\n",
       "      <td>Amazon Web Services provides on-demand cloud c...</td>\n",
       "      <td>http://github.com/topics/aws</td>\n",
       "    </tr>\n",
       "    <tr>\n",
       "      <th>13</th>\n",
       "      <td>Azure</td>\n",
       "      <td>Azure is a cloud computing service created by ...</td>\n",
       "      <td>http://github.com/topics/azure</td>\n",
       "    </tr>\n",
       "    <tr>\n",
       "      <th>14</th>\n",
       "      <td>Babel</td>\n",
       "      <td>Babel is a compiler for writing next generatio...</td>\n",
       "      <td>http://github.com/topics/babel</td>\n",
       "    </tr>\n",
       "    <tr>\n",
       "      <th>15</th>\n",
       "      <td>Bash</td>\n",
       "      <td>Bash is a shell and command language interpret...</td>\n",
       "      <td>http://github.com/topics/bash</td>\n",
       "    </tr>\n",
       "    <tr>\n",
       "      <th>16</th>\n",
       "      <td>Bitcoin</td>\n",
       "      <td>Bitcoin is a cryptocurrency developed by Satos...</td>\n",
       "      <td>http://github.com/topics/bitcoin</td>\n",
       "    </tr>\n",
       "    <tr>\n",
       "      <th>17</th>\n",
       "      <td>Bootstrap</td>\n",
       "      <td>Bootstrap is an HTML, CSS, and JavaScript fram...</td>\n",
       "      <td>http://github.com/topics/bootstrap</td>\n",
       "    </tr>\n",
       "    <tr>\n",
       "      <th>18</th>\n",
       "      <td>Bot</td>\n",
       "      <td>A bot is an application that runs automated ta...</td>\n",
       "      <td>http://github.com/topics/bot</td>\n",
       "    </tr>\n",
       "    <tr>\n",
       "      <th>19</th>\n",
       "      <td>C</td>\n",
       "      <td>C is a general purpose programming language th...</td>\n",
       "      <td>http://github.com/topics/c</td>\n",
       "    </tr>\n",
       "    <tr>\n",
       "      <th>20</th>\n",
       "      <td>Chrome</td>\n",
       "      <td>Chrome is a web browser from the tech company ...</td>\n",
       "      <td>http://github.com/topics/chrome</td>\n",
       "    </tr>\n",
       "    <tr>\n",
       "      <th>21</th>\n",
       "      <td>Chrome extension</td>\n",
       "      <td>Chrome extensions enable users to customize th...</td>\n",
       "      <td>http://github.com/topics/chrome-extension</td>\n",
       "    </tr>\n",
       "    <tr>\n",
       "      <th>22</th>\n",
       "      <td>Command line interface</td>\n",
       "      <td>A CLI, or command-line interface, is a console...</td>\n",
       "      <td>http://github.com/topics/cli</td>\n",
       "    </tr>\n",
       "    <tr>\n",
       "      <th>23</th>\n",
       "      <td>Clojure</td>\n",
       "      <td>Clojure is a dynamic, general-purpose programm...</td>\n",
       "      <td>http://github.com/topics/clojure</td>\n",
       "    </tr>\n",
       "    <tr>\n",
       "      <th>24</th>\n",
       "      <td>Code quality</td>\n",
       "      <td>Automate your code review with style, quality,...</td>\n",
       "      <td>http://github.com/topics/code-quality</td>\n",
       "    </tr>\n",
       "    <tr>\n",
       "      <th>25</th>\n",
       "      <td>Code review</td>\n",
       "      <td>Ensure your code meets quality standards and s...</td>\n",
       "      <td>http://github.com/topics/code-review</td>\n",
       "    </tr>\n",
       "    <tr>\n",
       "      <th>26</th>\n",
       "      <td>Compiler</td>\n",
       "      <td>Compilers are software that translate higher-l...</td>\n",
       "      <td>http://github.com/topics/compiler</td>\n",
       "    </tr>\n",
       "    <tr>\n",
       "      <th>27</th>\n",
       "      <td>Continuous integration</td>\n",
       "      <td>Automatically build and test your code as you ...</td>\n",
       "      <td>http://github.com/topics/continuous-integration</td>\n",
       "    </tr>\n",
       "    <tr>\n",
       "      <th>28</th>\n",
       "      <td>COVID-19</td>\n",
       "      <td>The coronavirus disease 2019 (COVID-19) is an ...</td>\n",
       "      <td>http://github.com/topics/covid-19</td>\n",
       "    </tr>\n",
       "    <tr>\n",
       "      <th>29</th>\n",
       "      <td>C++</td>\n",
       "      <td>C++ is a general purpose and object-oriented p...</td>\n",
       "      <td>http://github.com/topics/cpp</td>\n",
       "    </tr>\n",
       "  </tbody>\n",
       "</table>\n",
       "</div>"
      ],
      "text/plain": [
       "                     Title                                        Description  \\\n",
       "0                       3D  3D refers to the use of three-dimensional grap...   \n",
       "1                     Ajax  Ajax is a technique for creating interactive w...   \n",
       "2                Algorithm  Algorithms are self-contained sequences that c...   \n",
       "3                      Amp  Amp is a non-blocking concurrency library for ...   \n",
       "4                  Android  Android is an operating system built by Google...   \n",
       "5                  Angular  Angular is an open source web application plat...   \n",
       "6                  Ansible  Ansible is a simple and powerful automation en...   \n",
       "7                      API  An API (Application Programming Interface) is ...   \n",
       "8                  Arduino  Arduino is an open source platform for buildin...   \n",
       "9                  ASP.NET  ASP.NET is a web framework for building modern...   \n",
       "10                    Atom  Atom is a open source text editor built with w...   \n",
       "11           Awesome Lists  An awesome list is a list of awesome things cu...   \n",
       "12     Amazon Web Services  Amazon Web Services provides on-demand cloud c...   \n",
       "13                   Azure  Azure is a cloud computing service created by ...   \n",
       "14                   Babel  Babel is a compiler for writing next generatio...   \n",
       "15                    Bash  Bash is a shell and command language interpret...   \n",
       "16                 Bitcoin  Bitcoin is a cryptocurrency developed by Satos...   \n",
       "17               Bootstrap  Bootstrap is an HTML, CSS, and JavaScript fram...   \n",
       "18                     Bot  A bot is an application that runs automated ta...   \n",
       "19                       C  C is a general purpose programming language th...   \n",
       "20                  Chrome  Chrome is a web browser from the tech company ...   \n",
       "21        Chrome extension  Chrome extensions enable users to customize th...   \n",
       "22  Command line interface  A CLI, or command-line interface, is a console...   \n",
       "23                 Clojure  Clojure is a dynamic, general-purpose programm...   \n",
       "24            Code quality  Automate your code review with style, quality,...   \n",
       "25             Code review  Ensure your code meets quality standards and s...   \n",
       "26                Compiler  Compilers are software that translate higher-l...   \n",
       "27  Continuous integration  Automatically build and test your code as you ...   \n",
       "28                COVID-19  The coronavirus disease 2019 (COVID-19) is an ...   \n",
       "29                     C++  C++ is a general purpose and object-oriented p...   \n",
       "\n",
       "                                                URL  \n",
       "0                       http://github.com/topics/3d  \n",
       "1                     http://github.com/topics/ajax  \n",
       "2                http://github.com/topics/algorithm  \n",
       "3                    http://github.com/topics/amphp  \n",
       "4                  http://github.com/topics/android  \n",
       "5                  http://github.com/topics/angular  \n",
       "6                  http://github.com/topics/ansible  \n",
       "7                      http://github.com/topics/api  \n",
       "8                  http://github.com/topics/arduino  \n",
       "9                   http://github.com/topics/aspnet  \n",
       "10                    http://github.com/topics/atom  \n",
       "11                 http://github.com/topics/awesome  \n",
       "12                     http://github.com/topics/aws  \n",
       "13                   http://github.com/topics/azure  \n",
       "14                   http://github.com/topics/babel  \n",
       "15                    http://github.com/topics/bash  \n",
       "16                 http://github.com/topics/bitcoin  \n",
       "17               http://github.com/topics/bootstrap  \n",
       "18                     http://github.com/topics/bot  \n",
       "19                       http://github.com/topics/c  \n",
       "20                  http://github.com/topics/chrome  \n",
       "21        http://github.com/topics/chrome-extension  \n",
       "22                     http://github.com/topics/cli  \n",
       "23                 http://github.com/topics/clojure  \n",
       "24            http://github.com/topics/code-quality  \n",
       "25             http://github.com/topics/code-review  \n",
       "26                http://github.com/topics/compiler  \n",
       "27  http://github.com/topics/continuous-integration  \n",
       "28                http://github.com/topics/covid-19  \n",
       "29                     http://github.com/topics/cpp  "
      ]
     },
     "execution_count": 20,
     "metadata": {},
     "output_type": "execute_result"
    }
   ],
   "source": [
    "topicsDf=pd.DataFrame(topicDict)\n",
    "topicsDf"
   ]
  },
  {
   "cell_type": "code",
   "execution_count": 21,
   "id": "italian-dynamics",
   "metadata": {},
   "outputs": [],
   "source": [
    "topicsDf.to_csv('Top 30 Topics on GitHub.csv',index=False)"
   ]
  },
  {
   "cell_type": "markdown",
   "id": "composite-enzyme",
   "metadata": {},
   "source": [
    "# Extract Repository out of topic page"
   ]
  },
  {
   "cell_type": "markdown",
   "id": "patient-forest",
   "metadata": {},
   "source": [
    "- Lets Begin with One repository"
   ]
  },
  {
   "cell_type": "code",
   "execution_count": 22,
   "id": "alternate-heating",
   "metadata": {},
   "outputs": [
    {
     "data": {
      "text/plain": [
       "'http://github.com/topics/3d'"
      ]
     },
     "execution_count": 22,
     "metadata": {},
     "output_type": "execute_result"
    }
   ],
   "source": [
    "linkTags[0]"
   ]
  },
  {
   "cell_type": "code",
   "execution_count": 23,
   "metadata": {},
   "outputs": [],
   "source": [
    "response = requests.get(linkTags[0])\n",
    "soup1 = BeautifulSoup(response.content)"
   ]
  },
  {
   "cell_type": "code",
   "execution_count": 27,
   "metadata": {},
   "outputs": [
    {
     "data": {
      "text/plain": [
       "20"
      ]
     },
     "execution_count": 27,
     "metadata": {},
     "output_type": "execute_result"
    }
   ],
   "source": [
    "raw_name_repo_link = soup1.find_all('h3',{'class':\"f3 color-fg-muted text-normal lh-condensed\"})\n",
    "len(raw_name_repo_link)"
   ]
  },
  {
   "cell_type": "code",
   "execution_count": 30,
   "metadata": {},
   "outputs": [],
   "source": [
    "# Get star count\n",
    "raw_star_count = soup1.find_all('span',{'id':'repo-stars-counter-star'})"
   ]
  },
  {
   "cell_type": "code",
   "execution_count": 31,
   "id": "inclusive-glance",
   "metadata": {},
   "outputs": [],
   "source": [
    "# Convert 1K stars as 1000 stars\n",
    "def starClean(star_count):\n",
    "    star_count=star_count.strip()\n",
    "    if star_count[-1]=='k':\n",
    "        return int(float(star_count[:-1])*1000)\n",
    "    return int(star_count)"
   ]
  },
  {
   "cell_type": "code",
   "execution_count": 34,
   "id": "proprietary-tutorial",
   "metadata": {},
   "outputs": [],
   "source": [
    "def getTagInOne(repo,startag):\n",
    "    aTags=repo.find_all('a')\n",
    "    userName=aTags[0].text.strip()\n",
    "    repoName=aTags[1].text.strip()\n",
    "    repoUrl=base_url+aTags[1]['href']\n",
    "    starTag=starClean(startag.text)\n",
    "    \n",
    "    return userName,repoName,repoUrl,starTag\n",
    "    "
   ]
  },
  {
   "cell_type": "code",
   "execution_count": 35,
   "id": "concerned-gospel",
   "metadata": {},
   "outputs": [
    {
     "data": {
      "text/plain": [
       "('mrdoob', 'three.js', 'http://github.com/mrdoob/three.js', 96000)"
      ]
     },
     "execution_count": 35,
     "metadata": {},
     "output_type": "execute_result"
    }
   ],
   "source": [
    "getTagInOne(raw_name_repo_link[0],raw_star_count[0])"
   ]
  },
  {
   "cell_type": "code",
   "execution_count": 36,
   "id": "crazy-traffic",
   "metadata": {},
   "outputs": [],
   "source": [
    "repoDict={\n",
    "    \"Username\":[],\n",
    "    \"Repository Name\":[],\n",
    "    \"Repository Url\":[],\n",
    "    \"Stars\":[]\n",
    "    \n",
    "}\n",
    "\n",
    "\n",
    "for i in range(len(raw_name_repo_link)):\n",
    "    oneStatment=getTagInOne(raw_name_repo_link[i],raw_star_count[i])\n",
    "    \n",
    "    repoDict['Username'].append(oneStatment[0])\n",
    "    repoDict['Repository Name'].append(oneStatment[1])\n",
    "    repoDict['Repository Url'].append(oneStatment[2])\n",
    "    repoDict['Stars'].append(oneStatment[3])"
   ]
  },
  {
   "cell_type": "code",
   "execution_count": 37,
   "id": "powered-medicine",
   "metadata": {},
   "outputs": [
    {
     "data": {
      "text/html": [
       "<div>\n",
       "<style scoped>\n",
       "    .dataframe tbody tr th:only-of-type {\n",
       "        vertical-align: middle;\n",
       "    }\n",
       "\n",
       "    .dataframe tbody tr th {\n",
       "        vertical-align: top;\n",
       "    }\n",
       "\n",
       "    .dataframe thead th {\n",
       "        text-align: right;\n",
       "    }\n",
       "</style>\n",
       "<table border=\"1\" class=\"dataframe\">\n",
       "  <thead>\n",
       "    <tr style=\"text-align: right;\">\n",
       "      <th></th>\n",
       "      <th>Username</th>\n",
       "      <th>Repository Name</th>\n",
       "      <th>Repository Url</th>\n",
       "      <th>Stars</th>\n",
       "    </tr>\n",
       "  </thead>\n",
       "  <tbody>\n",
       "    <tr>\n",
       "      <th>0</th>\n",
       "      <td>mrdoob</td>\n",
       "      <td>three.js</td>\n",
       "      <td>http://github.com/mrdoob/three.js</td>\n",
       "      <td>96000</td>\n",
       "    </tr>\n",
       "    <tr>\n",
       "      <th>1</th>\n",
       "      <td>pmndrs</td>\n",
       "      <td>react-three-fiber</td>\n",
       "      <td>http://github.com/pmndrs/react-three-fiber</td>\n",
       "      <td>24600</td>\n",
       "    </tr>\n",
       "    <tr>\n",
       "      <th>2</th>\n",
       "      <td>libgdx</td>\n",
       "      <td>libgdx</td>\n",
       "      <td>http://github.com/libgdx/libgdx</td>\n",
       "      <td>22200</td>\n",
       "    </tr>\n",
       "    <tr>\n",
       "      <th>3</th>\n",
       "      <td>BabylonJS</td>\n",
       "      <td>Babylon.js</td>\n",
       "      <td>http://github.com/BabylonJS/Babylon.js</td>\n",
       "      <td>21700</td>\n",
       "    </tr>\n",
       "    <tr>\n",
       "      <th>4</th>\n",
       "      <td>ssloy</td>\n",
       "      <td>tinyrenderer</td>\n",
       "      <td>http://github.com/ssloy/tinyrenderer</td>\n",
       "      <td>18400</td>\n",
       "    </tr>\n",
       "  </tbody>\n",
       "</table>\n",
       "</div>"
      ],
      "text/plain": [
       "    Username    Repository Name                              Repository Url  \\\n",
       "0     mrdoob           three.js           http://github.com/mrdoob/three.js   \n",
       "1     pmndrs  react-three-fiber  http://github.com/pmndrs/react-three-fiber   \n",
       "2     libgdx             libgdx             http://github.com/libgdx/libgdx   \n",
       "3  BabylonJS         Babylon.js      http://github.com/BabylonJS/Babylon.js   \n",
       "4      ssloy       tinyrenderer        http://github.com/ssloy/tinyrenderer   \n",
       "\n",
       "   Stars  \n",
       "0  96000  \n",
       "1  24600  \n",
       "2  22200  \n",
       "3  21700  \n",
       "4  18400  "
      ]
     },
     "execution_count": 37,
     "metadata": {},
     "output_type": "execute_result"
    }
   ],
   "source": [
    "pd.DataFrame(repoDict).head()"
   ]
  },
  {
   "cell_type": "markdown",
   "id": "attached-spare",
   "metadata": {},
   "source": [
    "**Merge everthing in one function**"
   ]
  },
  {
   "cell_type": "code",
   "execution_count": 38,
   "id": "single-tower",
   "metadata": {},
   "outputs": [],
   "source": [
    "def getSoup(topic_url):\n",
    "    # Download the page\n",
    "    response = requests.get(topic_url)\n",
    "    \n",
    "    # Check successful response\n",
    "    if response.status_code != 200:\n",
    "        raise Exception('Failed to load page {}'.format(topic_url))\n",
    "        \n",
    "    # Parse using Beautiful soup\n",
    "    soup = BeautifulSoup(response.content)\n",
    "    return soup\n",
    "\n",
    "\n",
    "def starClean(star_count):\n",
    "    star_count=star_count.strip()\n",
    "    if star_count[-1]=='k':\n",
    "        return int(float(star_count[:-1])*1000)\n",
    "    return int(star_count)\n",
    "\n",
    "\n",
    "def getNRLS_InOne(repo,startag):\n",
    "    aTags=repo.find_all('a')\n",
    "    userName=aTags[0].text.strip()\n",
    "    repoName=aTags[1].text.strip()\n",
    "    repoUrl=baseUrl+aTags[1]['href']\n",
    "    starTag=starClean(startag.text)\n",
    "    \n",
    "    return userName,repoName,repoUrl,starTag\n",
    "\n",
    "def getRepoPD(soup):\n",
    "    \n",
    "    # Get Tags\n",
    "    repoTags=soup.find_all('h3',{'class':'f3 color-fg-muted text-normal lh-condensed'})\n",
    "    starTags=soup.find_all('span',{'class':'Counter js-social-count'})\n",
    "    \n",
    "    repoDict={\n",
    "    \"Username\":[],\n",
    "    \"Repository Name\":[],\n",
    "    \"Repository Url\":[],\n",
    "    \"Stars\":[]\n",
    "    \n",
    "    }\n",
    "    \n",
    "    # Get all the 30 Repository present in Topics\n",
    "    for i in range(len(repoTag)):\n",
    "        oneStatment=getTagInOne(repoTags[i],starTags[i])\n",
    "\n",
    "        repoDict['Username'].append(oneStatment[0])\n",
    "        repoDict['Repository Name'].append(oneStatment[1])\n",
    "        repoDict['Repository Url'].append(oneStatment[2])\n",
    "        repoDict['Stars'].append(oneStatment[3])\n",
    "        \n",
    "    # Convert into Pandas Dataframe\n",
    "    return pd.DataFrame(repoDict)"
   ]
  },
  {
   "cell_type": "code",
   "execution_count": 39,
   "id": "incomplete-jerusalem",
   "metadata": {},
   "outputs": [],
   "source": [
    "def getCSVfile(topicUrl,path):\n",
    "    if os.path.exists(path):\n",
    "        print(f\"File with name {path} already exists.\\nSkipping......{path}\")\n",
    "        return\n",
    "    \n",
    "    df=getRepoPD(getSoup(topicUrl))\n",
    "    df.to_csv(path,index=None)"
   ]
  },
  {
   "cell_type": "markdown",
   "id": "quality-jefferson",
   "metadata": {},
   "source": [
    "#### Top 30 Topics "
   ]
  },
  {
   "cell_type": "code",
   "execution_count": 40,
   "id": "aging-sierra",
   "metadata": {
    "scrolled": false
   },
   "outputs": [
    {
     "data": {
      "text/html": [
       "<div>\n",
       "<style scoped>\n",
       "    .dataframe tbody tr th:only-of-type {\n",
       "        vertical-align: middle;\n",
       "    }\n",
       "\n",
       "    .dataframe tbody tr th {\n",
       "        vertical-align: top;\n",
       "    }\n",
       "\n",
       "    .dataframe thead th {\n",
       "        text-align: right;\n",
       "    }\n",
       "</style>\n",
       "<table border=\"1\" class=\"dataframe\">\n",
       "  <thead>\n",
       "    <tr style=\"text-align: right;\">\n",
       "      <th></th>\n",
       "      <th>Title</th>\n",
       "      <th>Description</th>\n",
       "      <th>URL</th>\n",
       "    </tr>\n",
       "  </thead>\n",
       "  <tbody>\n",
       "    <tr>\n",
       "      <th>0</th>\n",
       "      <td>3D</td>\n",
       "      <td>3D refers to the use of three-dimensional grap...</td>\n",
       "      <td>http://github.com/topics/3d</td>\n",
       "    </tr>\n",
       "    <tr>\n",
       "      <th>1</th>\n",
       "      <td>Ajax</td>\n",
       "      <td>Ajax is a technique for creating interactive w...</td>\n",
       "      <td>http://github.com/topics/ajax</td>\n",
       "    </tr>\n",
       "    <tr>\n",
       "      <th>2</th>\n",
       "      <td>Algorithm</td>\n",
       "      <td>Algorithms are self-contained sequences that c...</td>\n",
       "      <td>http://github.com/topics/algorithm</td>\n",
       "    </tr>\n",
       "    <tr>\n",
       "      <th>3</th>\n",
       "      <td>Amp</td>\n",
       "      <td>Amp is a non-blocking concurrency library for ...</td>\n",
       "      <td>http://github.com/topics/amphp</td>\n",
       "    </tr>\n",
       "    <tr>\n",
       "      <th>4</th>\n",
       "      <td>Android</td>\n",
       "      <td>Android is an operating system built by Google...</td>\n",
       "      <td>http://github.com/topics/android</td>\n",
       "    </tr>\n",
       "    <tr>\n",
       "      <th>5</th>\n",
       "      <td>Angular</td>\n",
       "      <td>Angular is an open source web application plat...</td>\n",
       "      <td>http://github.com/topics/angular</td>\n",
       "    </tr>\n",
       "    <tr>\n",
       "      <th>6</th>\n",
       "      <td>Ansible</td>\n",
       "      <td>Ansible is a simple and powerful automation en...</td>\n",
       "      <td>http://github.com/topics/ansible</td>\n",
       "    </tr>\n",
       "    <tr>\n",
       "      <th>7</th>\n",
       "      <td>API</td>\n",
       "      <td>An API (Application Programming Interface) is ...</td>\n",
       "      <td>http://github.com/topics/api</td>\n",
       "    </tr>\n",
       "    <tr>\n",
       "      <th>8</th>\n",
       "      <td>Arduino</td>\n",
       "      <td>Arduino is an open source platform for buildin...</td>\n",
       "      <td>http://github.com/topics/arduino</td>\n",
       "    </tr>\n",
       "    <tr>\n",
       "      <th>9</th>\n",
       "      <td>ASP.NET</td>\n",
       "      <td>ASP.NET is a web framework for building modern...</td>\n",
       "      <td>http://github.com/topics/aspnet</td>\n",
       "    </tr>\n",
       "    <tr>\n",
       "      <th>10</th>\n",
       "      <td>Atom</td>\n",
       "      <td>Atom is a open source text editor built with w...</td>\n",
       "      <td>http://github.com/topics/atom</td>\n",
       "    </tr>\n",
       "    <tr>\n",
       "      <th>11</th>\n",
       "      <td>Awesome Lists</td>\n",
       "      <td>An awesome list is a list of awesome things cu...</td>\n",
       "      <td>http://github.com/topics/awesome</td>\n",
       "    </tr>\n",
       "    <tr>\n",
       "      <th>12</th>\n",
       "      <td>Amazon Web Services</td>\n",
       "      <td>Amazon Web Services provides on-demand cloud c...</td>\n",
       "      <td>http://github.com/topics/aws</td>\n",
       "    </tr>\n",
       "    <tr>\n",
       "      <th>13</th>\n",
       "      <td>Azure</td>\n",
       "      <td>Azure is a cloud computing service created by ...</td>\n",
       "      <td>http://github.com/topics/azure</td>\n",
       "    </tr>\n",
       "    <tr>\n",
       "      <th>14</th>\n",
       "      <td>Babel</td>\n",
       "      <td>Babel is a compiler for writing next generatio...</td>\n",
       "      <td>http://github.com/topics/babel</td>\n",
       "    </tr>\n",
       "    <tr>\n",
       "      <th>15</th>\n",
       "      <td>Bash</td>\n",
       "      <td>Bash is a shell and command language interpret...</td>\n",
       "      <td>http://github.com/topics/bash</td>\n",
       "    </tr>\n",
       "    <tr>\n",
       "      <th>16</th>\n",
       "      <td>Bitcoin</td>\n",
       "      <td>Bitcoin is a cryptocurrency developed by Satos...</td>\n",
       "      <td>http://github.com/topics/bitcoin</td>\n",
       "    </tr>\n",
       "    <tr>\n",
       "      <th>17</th>\n",
       "      <td>Bootstrap</td>\n",
       "      <td>Bootstrap is an HTML, CSS, and JavaScript fram...</td>\n",
       "      <td>http://github.com/topics/bootstrap</td>\n",
       "    </tr>\n",
       "    <tr>\n",
       "      <th>18</th>\n",
       "      <td>Bot</td>\n",
       "      <td>A bot is an application that runs automated ta...</td>\n",
       "      <td>http://github.com/topics/bot</td>\n",
       "    </tr>\n",
       "    <tr>\n",
       "      <th>19</th>\n",
       "      <td>C</td>\n",
       "      <td>C is a general purpose programming language th...</td>\n",
       "      <td>http://github.com/topics/c</td>\n",
       "    </tr>\n",
       "    <tr>\n",
       "      <th>20</th>\n",
       "      <td>Chrome</td>\n",
       "      <td>Chrome is a web browser from the tech company ...</td>\n",
       "      <td>http://github.com/topics/chrome</td>\n",
       "    </tr>\n",
       "    <tr>\n",
       "      <th>21</th>\n",
       "      <td>Chrome extension</td>\n",
       "      <td>Chrome extensions enable users to customize th...</td>\n",
       "      <td>http://github.com/topics/chrome-extension</td>\n",
       "    </tr>\n",
       "    <tr>\n",
       "      <th>22</th>\n",
       "      <td>Command line interface</td>\n",
       "      <td>A CLI, or command-line interface, is a console...</td>\n",
       "      <td>http://github.com/topics/cli</td>\n",
       "    </tr>\n",
       "    <tr>\n",
       "      <th>23</th>\n",
       "      <td>Clojure</td>\n",
       "      <td>Clojure is a dynamic, general-purpose programm...</td>\n",
       "      <td>http://github.com/topics/clojure</td>\n",
       "    </tr>\n",
       "    <tr>\n",
       "      <th>24</th>\n",
       "      <td>Code quality</td>\n",
       "      <td>Automate your code review with style, quality,...</td>\n",
       "      <td>http://github.com/topics/code-quality</td>\n",
       "    </tr>\n",
       "    <tr>\n",
       "      <th>25</th>\n",
       "      <td>Code review</td>\n",
       "      <td>Ensure your code meets quality standards and s...</td>\n",
       "      <td>http://github.com/topics/code-review</td>\n",
       "    </tr>\n",
       "    <tr>\n",
       "      <th>26</th>\n",
       "      <td>Compiler</td>\n",
       "      <td>Compilers are software that translate higher-l...</td>\n",
       "      <td>http://github.com/topics/compiler</td>\n",
       "    </tr>\n",
       "    <tr>\n",
       "      <th>27</th>\n",
       "      <td>Continuous integration</td>\n",
       "      <td>Automatically build and test your code as you ...</td>\n",
       "      <td>http://github.com/topics/continuous-integration</td>\n",
       "    </tr>\n",
       "    <tr>\n",
       "      <th>28</th>\n",
       "      <td>COVID-19</td>\n",
       "      <td>The coronavirus disease 2019 (COVID-19) is an ...</td>\n",
       "      <td>http://github.com/topics/covid-19</td>\n",
       "    </tr>\n",
       "    <tr>\n",
       "      <th>29</th>\n",
       "      <td>C++</td>\n",
       "      <td>C++ is a general purpose and object-oriented p...</td>\n",
       "      <td>http://github.com/topics/cpp</td>\n",
       "    </tr>\n",
       "  </tbody>\n",
       "</table>\n",
       "</div>"
      ],
      "text/plain": [
       "                     Title                                        Description  \\\n",
       "0                       3D  3D refers to the use of three-dimensional grap...   \n",
       "1                     Ajax  Ajax is a technique for creating interactive w...   \n",
       "2                Algorithm  Algorithms are self-contained sequences that c...   \n",
       "3                      Amp  Amp is a non-blocking concurrency library for ...   \n",
       "4                  Android  Android is an operating system built by Google...   \n",
       "5                  Angular  Angular is an open source web application plat...   \n",
       "6                  Ansible  Ansible is a simple and powerful automation en...   \n",
       "7                      API  An API (Application Programming Interface) is ...   \n",
       "8                  Arduino  Arduino is an open source platform for buildin...   \n",
       "9                  ASP.NET  ASP.NET is a web framework for building modern...   \n",
       "10                    Atom  Atom is a open source text editor built with w...   \n",
       "11           Awesome Lists  An awesome list is a list of awesome things cu...   \n",
       "12     Amazon Web Services  Amazon Web Services provides on-demand cloud c...   \n",
       "13                   Azure  Azure is a cloud computing service created by ...   \n",
       "14                   Babel  Babel is a compiler for writing next generatio...   \n",
       "15                    Bash  Bash is a shell and command language interpret...   \n",
       "16                 Bitcoin  Bitcoin is a cryptocurrency developed by Satos...   \n",
       "17               Bootstrap  Bootstrap is an HTML, CSS, and JavaScript fram...   \n",
       "18                     Bot  A bot is an application that runs automated ta...   \n",
       "19                       C  C is a general purpose programming language th...   \n",
       "20                  Chrome  Chrome is a web browser from the tech company ...   \n",
       "21        Chrome extension  Chrome extensions enable users to customize th...   \n",
       "22  Command line interface  A CLI, or command-line interface, is a console...   \n",
       "23                 Clojure  Clojure is a dynamic, general-purpose programm...   \n",
       "24            Code quality  Automate your code review with style, quality,...   \n",
       "25             Code review  Ensure your code meets quality standards and s...   \n",
       "26                Compiler  Compilers are software that translate higher-l...   \n",
       "27  Continuous integration  Automatically build and test your code as you ...   \n",
       "28                COVID-19  The coronavirus disease 2019 (COVID-19) is an ...   \n",
       "29                     C++  C++ is a general purpose and object-oriented p...   \n",
       "\n",
       "                                                URL  \n",
       "0                       http://github.com/topics/3d  \n",
       "1                     http://github.com/topics/ajax  \n",
       "2                http://github.com/topics/algorithm  \n",
       "3                    http://github.com/topics/amphp  \n",
       "4                  http://github.com/topics/android  \n",
       "5                  http://github.com/topics/angular  \n",
       "6                  http://github.com/topics/ansible  \n",
       "7                      http://github.com/topics/api  \n",
       "8                  http://github.com/topics/arduino  \n",
       "9                   http://github.com/topics/aspnet  \n",
       "10                    http://github.com/topics/atom  \n",
       "11                 http://github.com/topics/awesome  \n",
       "12                     http://github.com/topics/aws  \n",
       "13                   http://github.com/topics/azure  \n",
       "14                   http://github.com/topics/babel  \n",
       "15                    http://github.com/topics/bash  \n",
       "16                 http://github.com/topics/bitcoin  \n",
       "17               http://github.com/topics/bootstrap  \n",
       "18                     http://github.com/topics/bot  \n",
       "19                       http://github.com/topics/c  \n",
       "20                  http://github.com/topics/chrome  \n",
       "21        http://github.com/topics/chrome-extension  \n",
       "22                     http://github.com/topics/cli  \n",
       "23                 http://github.com/topics/clojure  \n",
       "24            http://github.com/topics/code-quality  \n",
       "25             http://github.com/topics/code-review  \n",
       "26                http://github.com/topics/compiler  \n",
       "27  http://github.com/topics/continuous-integration  \n",
       "28                http://github.com/topics/covid-19  \n",
       "29                     http://github.com/topics/cpp  "
      ]
     },
     "execution_count": 40,
     "metadata": {},
     "output_type": "execute_result"
    }
   ],
   "source": [
    "topicsDf"
   ]
  },
  {
   "cell_type": "code",
   "execution_count": 41,
   "id": "common-laptop",
   "metadata": {},
   "outputs": [
    {
     "name": "stdout",
     "output_type": "stream",
     "text": [
      "3D http://github.com/topics/3d\n",
      "Ajax http://github.com/topics/ajax\n",
      "Algorithm http://github.com/topics/algorithm\n",
      "Amp http://github.com/topics/amphp\n",
      "Android http://github.com/topics/android\n",
      "Angular http://github.com/topics/angular\n",
      "Ansible http://github.com/topics/ansible\n",
      "API http://github.com/topics/api\n",
      "Arduino http://github.com/topics/arduino\n",
      "ASP.NET http://github.com/topics/aspnet\n",
      "Atom http://github.com/topics/atom\n",
      "Awesome Lists http://github.com/topics/awesome\n",
      "Amazon Web Services http://github.com/topics/aws\n",
      "Azure http://github.com/topics/azure\n",
      "Babel http://github.com/topics/babel\n",
      "Bash http://github.com/topics/bash\n",
      "Bitcoin http://github.com/topics/bitcoin\n",
      "Bootstrap http://github.com/topics/bootstrap\n",
      "Bot http://github.com/topics/bot\n",
      "C http://github.com/topics/c\n",
      "Chrome http://github.com/topics/chrome\n",
      "Chrome extension http://github.com/topics/chrome-extension\n",
      "Command line interface http://github.com/topics/cli\n",
      "Clojure http://github.com/topics/clojure\n",
      "Code quality http://github.com/topics/code-quality\n",
      "Code review http://github.com/topics/code-review\n",
      "Compiler http://github.com/topics/compiler\n",
      "Continuous integration http://github.com/topics/continuous-integration\n",
      "COVID-19 http://github.com/topics/covid-19\n",
      "C++ http://github.com/topics/cpp\n"
     ]
    }
   ],
   "source": [
    "for index,row in topicsDf.iterrows():\n",
    "    print(row['Title'],row['URL'])"
   ]
  },
  {
   "cell_type": "markdown",
   "metadata": {},
   "source": [
    "# Saving data into csv based on topic"
   ]
  },
  {
   "cell_type": "code",
   "execution_count": 176,
   "id": "persistent-recording",
   "metadata": {},
   "outputs": [],
   "source": [
    "data='Top 30 Topics on Github'\n",
    "os.makedirs(data,exist_ok=True) # If folder exist then dont make directory \n"
   ]
  },
  {
   "cell_type": "code",
   "execution_count": null,
   "id": "printable-sheriff",
   "metadata": {},
   "outputs": [],
   "source": [
    "for index,row in topicsDf.iterrows():\n",
    "    print(f\"Scraping {row['Title']} Repository.........\")\n",
    "    \n",
    "    getCSVfile(row['URL'],data+'/'+row['Title']+'.csv')"
   ]
  },
  {
   "cell_type": "code",
   "execution_count": null,
   "id": "coupled-colon",
   "metadata": {},
   "outputs": [],
   "source": []
  },
  {
   "cell_type": "code",
   "execution_count": null,
   "id": "dependent-premium",
   "metadata": {},
   "outputs": [],
   "source": []
  },
  {
   "cell_type": "code",
   "execution_count": null,
   "id": "spanish-woman",
   "metadata": {},
   "outputs": [],
   "source": []
  },
  {
   "cell_type": "code",
   "execution_count": null,
   "id": "gross-belle",
   "metadata": {},
   "outputs": [],
   "source": []
  },
  {
   "cell_type": "code",
   "execution_count": null,
   "id": "assured-brunswick",
   "metadata": {},
   "outputs": [],
   "source": []
  }
 ],
 "metadata": {
  "kernelspec": {
   "display_name": "Python 3 (ipykernel)",
   "language": "python",
   "name": "python3"
  },
  "language_info": {
   "codemirror_mode": {
    "name": "ipython",
    "version": 3
   },
   "file_extension": ".py",
   "mimetype": "text/x-python",
   "name": "python",
   "nbconvert_exporter": "python",
   "pygments_lexer": "ipython3",
   "version": "3.10.2"
  }
 },
 "nbformat": 4,
 "nbformat_minor": 5
}
