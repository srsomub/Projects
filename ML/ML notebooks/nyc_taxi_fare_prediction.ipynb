{
 "cells": [
  {
   "cell_type": "markdown",
   "metadata": {
    "id": "ymeK3K4P879t"
   },
   "source": [
    "# New York City Taxi Fare Prediction\n",
    "\n",
    "\n",
    "![](https://media.timeout.com/images/105785000/image.jpg)\n",
    "We'll train a machine learning model to predict the fare for a taxi ride in New York city given information like pickup date & time, pickup location, drop location and no. of passengers. \n",
    "\n",
    "Dataset Link: https://www.kaggle.com/c/new-york-city-taxi-fare-prediction\n"
   ]
  },
  {
   "cell_type": "markdown",
   "metadata": {
    "id": "KprVTPb44pV7"
   },
   "source": [
    "## 1. Download the Dataset\n",
    "\n",
    "- Install required libraries\n",
    "- Download data from Kaggle\n",
    "- View dataset files\n",
    "- Load training set with Pandas\n",
    "- Load test set with Pandas"
   ]
  },
  {
   "cell_type": "markdown",
   "metadata": {
    "id": "ZIsEYgNR6TBe"
   },
   "source": [
    "\n",
    "\n",
    "Dataset link: https://www.kaggle.com/c/new-york-city-taxi-fare-prediction/overview\n",
    "\n"
   ]
  },
  {
   "cell_type": "code",
   "execution_count": 1,
   "metadata": {},
   "outputs": [],
   "source": [
    "import numpy as np\n",
    "import pandas as pd\n",
    "import random\n",
    "import matplotlib.pyplot as plt\n",
    "import seaborn as sns\n",
    "import os\n",
    "import plotly.express as px\n",
    "import seaborn as sns\n",
    "import matplotlib.pyplot as plt\n",
    "import opendatasets as od \n",
    "%matplotlib inline"
   ]
  },
  {
   "cell_type": "markdown",
   "metadata": {
    "id": "QoD0siP-6b5K"
   },
   "source": [
    "### Install Required Libraries"
   ]
  },
  {
   "cell_type": "code",
   "execution_count": 2,
   "metadata": {
    "executionInfo": {
     "elapsed": 3476,
     "status": "ok",
     "timestamp": 1636289854786,
     "user": {
      "displayName": "SR som",
      "photoUrl": "https://lh3.googleusercontent.com/a/default-user=s64",
      "userId": "10192398447837183774"
     },
     "user_tz": -330
    },
    "id": "BMPQKKyo6hR_"
   },
   "outputs": [],
   "source": [
    "!pip install numpy pandas jovian opendatasets scikit-learn xgboost --quiet"
   ]
  },
  {
   "cell_type": "markdown",
   "metadata": {
    "id": "gR7X9VVl6h1J"
   },
   "source": [
    "### Download Data from Kaggle\n",
    "\n",
    "We'll use the opendatasets library: https://github.com/JovianML/opendatasets"
   ]
  },
  {
   "cell_type": "code",
   "execution_count": 3,
   "metadata": {
    "executionInfo": {
     "elapsed": 86,
     "status": "ok",
     "timestamp": 1636289857847,
     "user": {
      "displayName": "SR som",
      "photoUrl": "https://lh3.googleusercontent.com/a/default-user=s64",
      "userId": "10192398447837183774"
     },
     "user_tz": -330
    },
    "id": "RS0BaBV86j0Q"
   },
   "outputs": [],
   "source": [
    "import opendatasets as od"
   ]
  },
  {
   "cell_type": "code",
   "execution_count": 4,
   "metadata": {
    "executionInfo": {
     "elapsed": 91,
     "status": "ok",
     "timestamp": 1636289857855,
     "user": {
      "displayName": "SR som",
      "photoUrl": "https://lh3.googleusercontent.com/a/default-user=s64",
      "userId": "10192398447837183774"
     },
     "user_tz": -330
    },
    "id": "xotpf7sjPUXy"
   },
   "outputs": [],
   "source": [
    "dataset_url = 'https://www.kaggle.com/competitions/new-york-city-taxi-fare-prediction/overview'"
   ]
  },
  {
   "cell_type": "code",
   "execution_count": 5,
   "metadata": {
    "colab": {
     "base_uri": "https://localhost:8080/"
    },
    "executionInfo": {
     "elapsed": 91,
     "status": "ok",
     "timestamp": 1636289857857,
     "user": {
      "displayName": "SR som",
      "photoUrl": "https://lh3.googleusercontent.com/a/default-user=s64",
      "userId": "10192398447837183774"
     },
     "user_tz": -330
    },
    "id": "T-qbpdozPZXD",
    "outputId": "0480c552-19f9-4f29-edba-5730a1d8c1d8"
   },
   "outputs": [
    {
     "name": "stdout",
     "output_type": "stream",
     "text": [
      "Skipping, found downloaded files in \"../Datasets\\new-york-city-taxi-fare-prediction\" (use force=True to force download)\n",
      "CPU times: total: 0 ns\n",
      "Wall time: 0 ns\n"
     ]
    }
   ],
   "source": [
    "%%time\n",
    "od.download(dataset_url,data_dir='../Datasets')"
   ]
  },
  {
   "cell_type": "code",
   "execution_count": 6,
   "metadata": {
    "executionInfo": {
     "elapsed": 73,
     "status": "ok",
     "timestamp": 1636289857865,
     "user": {
      "displayName": "SR som",
      "photoUrl": "https://lh3.googleusercontent.com/a/default-user=s64",
      "userId": "10192398447837183774"
     },
     "user_tz": -330
    },
    "id": "y2t2w_P_P6n-"
   },
   "outputs": [],
   "source": [
    "data_dir = '../Datasets/new-york-city-taxi-fare-prediction'"
   ]
  },
  {
   "cell_type": "markdown",
   "metadata": {
    "id": "CRKXBoII6koE"
   },
   "source": [
    "### View Dataset Files"
   ]
  },
  {
   "cell_type": "code",
   "execution_count": 7,
   "metadata": {},
   "outputs": [],
   "source": [
    "train_df_1000000 = pd.read_csv(data_dir+\"/train.csv\",nrows=1000000)"
   ]
  },
  {
   "cell_type": "code",
   "execution_count": 8,
   "metadata": {},
   "outputs": [
    {
     "data": {
      "text/html": [
       "<div>\n",
       "<style scoped>\n",
       "    .dataframe tbody tr th:only-of-type {\n",
       "        vertical-align: middle;\n",
       "    }\n",
       "\n",
       "    .dataframe tbody tr th {\n",
       "        vertical-align: top;\n",
       "    }\n",
       "\n",
       "    .dataframe thead th {\n",
       "        text-align: right;\n",
       "    }\n",
       "</style>\n",
       "<table border=\"1\" class=\"dataframe\">\n",
       "  <thead>\n",
       "    <tr style=\"text-align: right;\">\n",
       "      <th></th>\n",
       "      <th>key</th>\n",
       "      <th>fare_amount</th>\n",
       "      <th>pickup_datetime</th>\n",
       "      <th>pickup_longitude</th>\n",
       "      <th>pickup_latitude</th>\n",
       "      <th>dropoff_longitude</th>\n",
       "      <th>dropoff_latitude</th>\n",
       "      <th>passenger_count</th>\n",
       "    </tr>\n",
       "  </thead>\n",
       "  <tbody>\n",
       "    <tr>\n",
       "      <th>0</th>\n",
       "      <td>2009-06-15 17:26:21.0000001</td>\n",
       "      <td>4.5</td>\n",
       "      <td>2009-06-15 17:26:21 UTC</td>\n",
       "      <td>-73.844311</td>\n",
       "      <td>40.721319</td>\n",
       "      <td>-73.841610</td>\n",
       "      <td>40.712278</td>\n",
       "      <td>1</td>\n",
       "    </tr>\n",
       "    <tr>\n",
       "      <th>1</th>\n",
       "      <td>2010-01-05 16:52:16.0000002</td>\n",
       "      <td>16.9</td>\n",
       "      <td>2010-01-05 16:52:16 UTC</td>\n",
       "      <td>-74.016048</td>\n",
       "      <td>40.711303</td>\n",
       "      <td>-73.979268</td>\n",
       "      <td>40.782004</td>\n",
       "      <td>1</td>\n",
       "    </tr>\n",
       "    <tr>\n",
       "      <th>2</th>\n",
       "      <td>2011-08-18 00:35:00.00000049</td>\n",
       "      <td>5.7</td>\n",
       "      <td>2011-08-18 00:35:00 UTC</td>\n",
       "      <td>-73.982738</td>\n",
       "      <td>40.761270</td>\n",
       "      <td>-73.991242</td>\n",
       "      <td>40.750562</td>\n",
       "      <td>2</td>\n",
       "    </tr>\n",
       "    <tr>\n",
       "      <th>3</th>\n",
       "      <td>2012-04-21 04:30:42.0000001</td>\n",
       "      <td>7.7</td>\n",
       "      <td>2012-04-21 04:30:42 UTC</td>\n",
       "      <td>-73.987130</td>\n",
       "      <td>40.733143</td>\n",
       "      <td>-73.991567</td>\n",
       "      <td>40.758092</td>\n",
       "      <td>1</td>\n",
       "    </tr>\n",
       "    <tr>\n",
       "      <th>4</th>\n",
       "      <td>2010-03-09 07:51:00.000000135</td>\n",
       "      <td>5.3</td>\n",
       "      <td>2010-03-09 07:51:00 UTC</td>\n",
       "      <td>-73.968095</td>\n",
       "      <td>40.768008</td>\n",
       "      <td>-73.956655</td>\n",
       "      <td>40.783762</td>\n",
       "      <td>1</td>\n",
       "    </tr>\n",
       "  </tbody>\n",
       "</table>\n",
       "</div>"
      ],
      "text/plain": [
       "                             key  fare_amount          pickup_datetime  \\\n",
       "0    2009-06-15 17:26:21.0000001          4.5  2009-06-15 17:26:21 UTC   \n",
       "1    2010-01-05 16:52:16.0000002         16.9  2010-01-05 16:52:16 UTC   \n",
       "2   2011-08-18 00:35:00.00000049          5.7  2011-08-18 00:35:00 UTC   \n",
       "3    2012-04-21 04:30:42.0000001          7.7  2012-04-21 04:30:42 UTC   \n",
       "4  2010-03-09 07:51:00.000000135          5.3  2010-03-09 07:51:00 UTC   \n",
       "\n",
       "   pickup_longitude  pickup_latitude  dropoff_longitude  dropoff_latitude  \\\n",
       "0        -73.844311        40.721319         -73.841610         40.712278   \n",
       "1        -74.016048        40.711303         -73.979268         40.782004   \n",
       "2        -73.982738        40.761270         -73.991242         40.750562   \n",
       "3        -73.987130        40.733143         -73.991567         40.758092   \n",
       "4        -73.968095        40.768008         -73.956655         40.783762   \n",
       "\n",
       "   passenger_count  \n",
       "0                1  \n",
       "1                1  \n",
       "2                2  \n",
       "3                1  \n",
       "4                1  "
      ]
     },
     "execution_count": 8,
     "metadata": {},
     "output_type": "execute_result"
    }
   ],
   "source": [
    "train_df_1000000.head()"
   ]
  },
  {
   "cell_type": "code",
   "execution_count": 9,
   "metadata": {},
   "outputs": [
    {
     "data": {
      "text/plain": [
       "Index(['key', 'fare_amount', 'pickup_datetime', 'pickup_longitude',\n",
       "       'pickup_latitude', 'dropoff_longitude', 'dropoff_latitude',\n",
       "       'passenger_count'],\n",
       "      dtype='object')"
      ]
     },
     "execution_count": 9,
     "metadata": {},
     "output_type": "execute_result"
    }
   ],
   "source": [
    "train_df_1000000.columns"
   ]
  },
  {
   "cell_type": "markdown",
   "metadata": {
    "id": "ZD2m2fpRQUq1"
   },
   "source": [
    "Observations:\n",
    "\n",
    "- This is a supervised learning regression problem\n",
    "- Training data is 5.5 GB in size\n",
    "- Training data has 5.5 million rows\n",
    "- Test set is much smaller (< 10,000 rows)\n",
    "- The training set has 8 columns:\n",
    "    - `key` (a unique identifier)\n",
    "    - `fare_amount` (target column)\n",
    "    - `pickup_datetime`\n",
    "    - `pickup_longitude`\n",
    "    - `pickup_latitude`\n",
    "    - `dropoff_longitude`\n",
    "    - `dropoff_latitude`\n",
    "    - `passenger_count`\n",
    "- The test set has all columns except the target column `fare_amount`.\n",
    "- The submission file should contain the `key` and `fare_amount` for each test sample.\n",
    "\n"
   ]
  },
  {
   "cell_type": "code",
   "execution_count": 10,
   "metadata": {},
   "outputs": [
    {
     "data": {
      "text/plain": [
       "key                   object\n",
       "fare_amount          float64\n",
       "pickup_datetime       object\n",
       "pickup_longitude     float64\n",
       "pickup_latitude      float64\n",
       "dropoff_longitude    float64\n",
       "dropoff_latitude     float64\n",
       "passenger_count        int64\n",
       "dtype: object"
      ]
     },
     "execution_count": 10,
     "metadata": {},
     "output_type": "execute_result"
    }
   ],
   "source": [
    "train_df_1000000.dtypes"
   ]
  },
  {
   "cell_type": "markdown",
   "metadata": {
    "id": "g3ECfaXG6opv"
   },
   "source": [
    "### Loading Training Set\n",
    "\n",
    "Loading the entire dataset into Pandas is going to be slow, so we can use the following optimizations:\n",
    "\n",
    "- Ignore the `key` column\n",
    "- Parse pickup datetime while loading data \n",
    "- Specify data types for other columns\n",
    "   - `float32` for geo coordinates\n",
    "   - `float32` for fare amount\n",
    "   - `uint8` for passenger count          ---------------   As it must be a single numeric value\n",
    "- Work with a 1% sample of the data (~500k rows)\n",
    "\n",
    "We can apply these optimizations while using [`pd.read_csv`](https://pandas.pydata.org/pandas-docs/stable/reference/api/pandas.read_csv.html)"
   ]
  },
  {
   "cell_type": "code",
   "execution_count": 11,
   "metadata": {
    "colab": {
     "base_uri": "https://localhost:8080/"
    },
    "executionInfo": {
     "elapsed": 64,
     "status": "ok",
     "timestamp": 1636289889525,
     "user": {
      "displayName": "SR som",
      "photoUrl": "https://lh3.googleusercontent.com/a/default-user=s64",
      "userId": "10192398447837183774"
     },
     "user_tz": -330
    },
    "id": "svic_1so87Y2",
    "outputId": "d646939b-a6a0-4a72-d3d8-573382ad503c"
   },
   "outputs": [
    {
     "data": {
      "text/plain": [
       "['fare_amount',\n",
       " 'pickup_datetime',\n",
       " 'pickup_longitude',\n",
       " 'pickup_latitude',\n",
       " 'dropoff_longitude',\n",
       " 'dropoff_latitude',\n",
       " 'passenger_count']"
      ]
     },
     "execution_count": 11,
     "metadata": {},
     "output_type": "execute_result"
    }
   ],
   "source": [
    "# Include Columns as per our requirement\n",
    "selected_cols = 'fare_amount,pickup_datetime,pickup_longitude,pickup_latitude,dropoff_longitude,dropoff_latitude,passenger_count'.split(',')\n",
    "selected_cols"
   ]
  },
  {
   "cell_type": "code",
   "execution_count": 12,
   "metadata": {
    "executionInfo": {
     "elapsed": 55,
     "status": "ok",
     "timestamp": 1636289889526,
     "user": {
      "displayName": "SR som",
      "photoUrl": "https://lh3.googleusercontent.com/a/default-user=s64",
      "userId": "10192398447837183774"
     },
     "user_tz": -330
    },
    "id": "WrT0zvAd87Y2"
   },
   "outputs": [],
   "source": [
    "# Set Datatypes of our columns\n",
    "dtypes = {\n",
    "    'fare_amount': 'float32',\n",
    "    'pickup_longitude': 'float32',\n",
    "    'pickup_latitude': 'float32',\n",
    "    'dropoff_longitude': 'float32',\n",
    "    'dropoff_latitude' : 'float32',\n",
    "    'passenger_count': 'uint8'\n",
    "}"
   ]
  },
  {
   "cell_type": "markdown",
   "metadata": {},
   "source": [
    "# Pandas Read function (Advanced)\n",
    "\n",
    "- Pick selected columns from csv\n",
    "- dtype converstion of selected columns\n",
    "- parse datettime column from UTC to +0.00\n",
    "- select randomize data"
   ]
  },
  {
   "cell_type": "code",
   "execution_count": 13,
   "metadata": {
    "id": "53-fOkat6qoX"
   },
   "outputs": [
    {
     "name": "stdout",
     "output_type": "stream",
     "text": [
      "CPU times: total: 3min 36s\n",
      "Wall time: 3min 43s\n"
     ]
    }
   ],
   "source": [
    "%%time \n",
    "# Select limited random rows from dataset\n",
    "\n",
    "sample_frac = 0.09\n",
    "def skip_row(row_idx):\n",
    "    if row_idx == 0:            \n",
    "        return False\n",
    "    return random.random() > sample_frac   \n",
    "\n",
    "random.seed(42)                    \n",
    "df = pd.read_csv(data_dir+\"/train.csv\", \n",
    "                 usecols=selected_cols, \n",
    "                 dtype=dtypes, \n",
    "                 parse_dates=['pickup_datetime'], \n",
    "                 skiprows=skip_row)"
   ]
  },
  {
   "cell_type": "code",
   "execution_count": 14,
   "metadata": {},
   "outputs": [
    {
     "data": {
      "text/plain": [
       "(830241, 7)"
      ]
     },
     "execution_count": 14,
     "metadata": {},
     "output_type": "execute_result"
    }
   ],
   "source": [
    "df.shape"
   ]
  },
  {
   "cell_type": "code",
   "execution_count": 15,
   "metadata": {},
   "outputs": [
    {
     "data": {
      "text/html": [
       "<div>\n",
       "<style scoped>\n",
       "    .dataframe tbody tr th:only-of-type {\n",
       "        vertical-align: middle;\n",
       "    }\n",
       "\n",
       "    .dataframe tbody tr th {\n",
       "        vertical-align: top;\n",
       "    }\n",
       "\n",
       "    .dataframe thead th {\n",
       "        text-align: right;\n",
       "    }\n",
       "</style>\n",
       "<table border=\"1\" class=\"dataframe\">\n",
       "  <thead>\n",
       "    <tr style=\"text-align: right;\">\n",
       "      <th></th>\n",
       "      <th>fare_amount</th>\n",
       "      <th>pickup_datetime</th>\n",
       "      <th>pickup_longitude</th>\n",
       "      <th>pickup_latitude</th>\n",
       "      <th>dropoff_longitude</th>\n",
       "      <th>dropoff_latitude</th>\n",
       "      <th>passenger_count</th>\n",
       "    </tr>\n",
       "  </thead>\n",
       "  <tbody>\n",
       "    <tr>\n",
       "      <th>0</th>\n",
       "      <td>4.0</td>\n",
       "      <td>2014-12-06 20:36:22+00:00</td>\n",
       "      <td>-73.979813</td>\n",
       "      <td>40.751904</td>\n",
       "      <td>-73.979446</td>\n",
       "      <td>40.755482</td>\n",
       "      <td>1</td>\n",
       "    </tr>\n",
       "    <tr>\n",
       "      <th>1</th>\n",
       "      <td>10.0</td>\n",
       "      <td>2014-11-12 12:40:29+00:00</td>\n",
       "      <td>-74.002579</td>\n",
       "      <td>40.739571</td>\n",
       "      <td>-73.994583</td>\n",
       "      <td>40.760681</td>\n",
       "      <td>1</td>\n",
       "    </tr>\n",
       "    <tr>\n",
       "      <th>2</th>\n",
       "      <td>8.0</td>\n",
       "      <td>2013-01-17 17:22:00+00:00</td>\n",
       "      <td>0.000000</td>\n",
       "      <td>0.000000</td>\n",
       "      <td>0.000000</td>\n",
       "      <td>0.000000</td>\n",
       "      <td>2</td>\n",
       "    </tr>\n",
       "    <tr>\n",
       "      <th>3</th>\n",
       "      <td>8.9</td>\n",
       "      <td>2011-06-15 18:07:00+00:00</td>\n",
       "      <td>-73.996330</td>\n",
       "      <td>40.753223</td>\n",
       "      <td>-73.978897</td>\n",
       "      <td>40.766964</td>\n",
       "      <td>3</td>\n",
       "    </tr>\n",
       "    <tr>\n",
       "      <th>4</th>\n",
       "      <td>6.9</td>\n",
       "      <td>2009-12-14 12:33:00+00:00</td>\n",
       "      <td>-73.982430</td>\n",
       "      <td>40.745747</td>\n",
       "      <td>-73.982430</td>\n",
       "      <td>40.745747</td>\n",
       "      <td>1</td>\n",
       "    </tr>\n",
       "  </tbody>\n",
       "</table>\n",
       "</div>"
      ],
      "text/plain": [
       "   fare_amount           pickup_datetime  pickup_longitude  pickup_latitude  \\\n",
       "0          4.0 2014-12-06 20:36:22+00:00        -73.979813        40.751904   \n",
       "1         10.0 2014-11-12 12:40:29+00:00        -74.002579        40.739571   \n",
       "2          8.0 2013-01-17 17:22:00+00:00          0.000000         0.000000   \n",
       "3          8.9 2011-06-15 18:07:00+00:00        -73.996330        40.753223   \n",
       "4          6.9 2009-12-14 12:33:00+00:00        -73.982430        40.745747   \n",
       "\n",
       "   dropoff_longitude  dropoff_latitude  passenger_count  \n",
       "0         -73.979446         40.755482                1  \n",
       "1         -73.994583         40.760681                1  \n",
       "2           0.000000          0.000000                2  \n",
       "3         -73.978897         40.766964                3  \n",
       "4         -73.982430         40.745747                1  "
      ]
     },
     "execution_count": 15,
     "metadata": {},
     "output_type": "execute_result"
    }
   ],
   "source": [
    "df.head()"
   ]
  },
  {
   "cell_type": "markdown",
   "metadata": {
    "id": "riKehMfZ6vbT"
   },
   "source": [
    "### Load Test Set\n",
    "\n",
    "For the test set, we'll simply provide the data types."
   ]
  },
  {
   "cell_type": "code",
   "execution_count": 16,
   "metadata": {
    "id": "vOO33o4o6xDS"
   },
   "outputs": [],
   "source": [
    "test_df = pd.read_csv(data_dir+'/test.csv', dtype=dtypes, parse_dates=['pickup_datetime'])"
   ]
  },
  {
   "cell_type": "markdown",
   "metadata": {
    "id": "f9CYWu1c6yD9"
   },
   "source": [
    "## 2. Explore the Dataset\n",
    "\n",
    "- Basic info about training set\n",
    "- Basic info about test set\n",
    "- Exploratory data analysis & visualization\n",
    "- Ask & answer questions"
   ]
  },
  {
   "cell_type": "markdown",
   "metadata": {
    "id": "HK044Ke76_QB"
   },
   "source": [
    "### Training Set"
   ]
  },
  {
   "cell_type": "code",
   "execution_count": 17,
   "metadata": {},
   "outputs": [],
   "source": [
    "import missingno as msgn"
   ]
  },
  {
   "cell_type": "code",
   "execution_count": 18,
   "metadata": {
    "id": "ThJJwhCR7Gzb"
   },
   "outputs": [
    {
     "name": "stdout",
     "output_type": "stream",
     "text": [
      "<class 'pandas.core.frame.DataFrame'>\n",
      "RangeIndex: 830241 entries, 0 to 830240\n",
      "Data columns (total 7 columns):\n",
      " #   Column             Non-Null Count   Dtype              \n",
      "---  ------             --------------   -----              \n",
      " 0   fare_amount        830241 non-null  float32            \n",
      " 1   pickup_datetime    830241 non-null  datetime64[ns, UTC]\n",
      " 2   pickup_longitude   830241 non-null  float32            \n",
      " 3   pickup_latitude    830241 non-null  float32            \n",
      " 4   dropoff_longitude  830239 non-null  float32            \n",
      " 5   dropoff_latitude   830239 non-null  float32            \n",
      " 6   passenger_count    830241 non-null  uint8              \n",
      "dtypes: datetime64[ns, UTC](1), float32(5), uint8(1)\n",
      "memory usage: 23.0 MB\n"
     ]
    }
   ],
   "source": [
    "df.info()"
   ]
  },
  {
   "cell_type": "code",
   "execution_count": 19,
   "metadata": {},
   "outputs": [
    {
     "data": {
      "text/plain": [
       "<AxesSubplot:>"
      ]
     },
     "execution_count": 19,
     "metadata": {},
     "output_type": "execute_result"
    },
    {
     "data": {
      "image/png": "[encoded data removed]",
      "text/plain": [
       "<Figure size 1800x720 with 3 Axes>"
      ]
     },
     "metadata": {
      "needs_background": "light"
     },
     "output_type": "display_data"
    }
   ],
   "source": [
    "msgn.bar(df)"
   ]
  },
  {
   "cell_type": "code",
   "execution_count": 20,
   "metadata": {
    "id": "GrcLO35KTsWi"
   },
   "outputs": [
    {
     "data": {
      "text/html": [
       "<div>\n",
       "<style scoped>\n",
       "    .dataframe tbody tr th:only-of-type {\n",
       "        vertical-align: middle;\n",
       "    }\n",
       "\n",
       "    .dataframe tbody tr th {\n",
       "        vertical-align: top;\n",
       "    }\n",
       "\n",
       "    .dataframe thead th {\n",
       "        text-align: right;\n",
       "    }\n",
       "</style>\n",
       "<table border=\"1\" class=\"dataframe\">\n",
       "  <thead>\n",
       "    <tr style=\"text-align: right;\">\n",
       "      <th></th>\n",
       "      <th>fare_amount</th>\n",
       "      <th>pickup_longitude</th>\n",
       "      <th>pickup_latitude</th>\n",
       "      <th>dropoff_longitude</th>\n",
       "      <th>dropoff_latitude</th>\n",
       "      <th>passenger_count</th>\n",
       "    </tr>\n",
       "  </thead>\n",
       "  <tbody>\n",
       "    <tr>\n",
       "      <th>count</th>\n",
       "      <td>830241.000000</td>\n",
       "      <td>830241.000000</td>\n",
       "      <td>830241.000000</td>\n",
       "      <td>830239.000000</td>\n",
       "      <td>830239.000000</td>\n",
       "      <td>830241.000000</td>\n",
       "    </tr>\n",
       "    <tr>\n",
       "      <th>mean</th>\n",
       "      <td>11.346478</td>\n",
       "      <td>-72.503807</td>\n",
       "      <td>39.915577</td>\n",
       "      <td>-72.513351</td>\n",
       "      <td>39.930012</td>\n",
       "      <td>1.683936</td>\n",
       "    </tr>\n",
       "    <tr>\n",
       "      <th>std</th>\n",
       "      <td>9.787337</td>\n",
       "      <td>11.798507</td>\n",
       "      <td>8.703607</td>\n",
       "      <td>12.537702</td>\n",
       "      <td>8.977443</td>\n",
       "      <td>1.326036</td>\n",
       "    </tr>\n",
       "    <tr>\n",
       "      <th>min</th>\n",
       "      <td>-52.000000</td>\n",
       "      <td>-2027.098999</td>\n",
       "      <td>-3084.490234</td>\n",
       "      <td>-3356.729736</td>\n",
       "      <td>-2173.847900</td>\n",
       "      <td>0.000000</td>\n",
       "    </tr>\n",
       "    <tr>\n",
       "      <th>25%</th>\n",
       "      <td>6.000000</td>\n",
       "      <td>-73.992027</td>\n",
       "      <td>40.734867</td>\n",
       "      <td>-73.991409</td>\n",
       "      <td>40.733959</td>\n",
       "      <td>1.000000</td>\n",
       "    </tr>\n",
       "    <tr>\n",
       "      <th>50%</th>\n",
       "      <td>8.500000</td>\n",
       "      <td>-73.981796</td>\n",
       "      <td>40.752617</td>\n",
       "      <td>-73.980186</td>\n",
       "      <td>40.753120</td>\n",
       "      <td>1.000000</td>\n",
       "    </tr>\n",
       "    <tr>\n",
       "      <th>75%</th>\n",
       "      <td>12.500000</td>\n",
       "      <td>-73.967140</td>\n",
       "      <td>40.767052</td>\n",
       "      <td>-73.963699</td>\n",
       "      <td>40.768108</td>\n",
       "      <td>2.000000</td>\n",
       "    </tr>\n",
       "    <tr>\n",
       "      <th>max</th>\n",
       "      <td>499.000000</td>\n",
       "      <td>2420.209473</td>\n",
       "      <td>2560.142578</td>\n",
       "      <td>3440.820312</td>\n",
       "      <td>3351.403076</td>\n",
       "      <td>208.000000</td>\n",
       "    </tr>\n",
       "  </tbody>\n",
       "</table>\n",
       "</div>"
      ],
      "text/plain": [
       "         fare_amount  pickup_longitude  pickup_latitude  dropoff_longitude  \\\n",
       "count  830241.000000     830241.000000    830241.000000      830239.000000   \n",
       "mean       11.346478        -72.503807        39.915577         -72.513351   \n",
       "std         9.787337         11.798507         8.703607          12.537702   \n",
       "min       -52.000000      -2027.098999     -3084.490234       -3356.729736   \n",
       "25%         6.000000        -73.992027        40.734867         -73.991409   \n",
       "50%         8.500000        -73.981796        40.752617         -73.980186   \n",
       "75%        12.500000        -73.967140        40.767052         -73.963699   \n",
       "max       499.000000       2420.209473      2560.142578        3440.820312   \n",
       "\n",
       "       dropoff_latitude  passenger_count  \n",
       "count     830239.000000    830241.000000  \n",
       "mean          39.930012         1.683936  \n",
       "std            8.977443         1.326036  \n",
       "min        -2173.847900         0.000000  \n",
       "25%           40.733959         1.000000  \n",
       "50%           40.753120         1.000000  \n",
       "75%           40.768108         2.000000  \n",
       "max         3351.403076       208.000000  "
      ]
     },
     "execution_count": 20,
     "metadata": {},
     "output_type": "execute_result"
    }
   ],
   "source": [
    "df.describe()"
   ]
  },
  {
   "cell_type": "code",
   "execution_count": 21,
   "metadata": {},
   "outputs": [
    {
     "data": {
      "text/plain": [
       "0   2014-12-06 20:36:22+00:00\n",
       "1   2014-11-12 12:40:29+00:00\n",
       "Name: pickup_datetime, dtype: datetime64[ns, UTC]"
      ]
     },
     "execution_count": 21,
     "metadata": {},
     "output_type": "execute_result"
    }
   ],
   "source": [
    "df.pickup_datetime[:2]"
   ]
  },
  {
   "cell_type": "code",
   "execution_count": 22,
   "metadata": {
    "id": "k5jzYKMNTuQc"
   },
   "outputs": [
    {
     "data": {
      "text/plain": [
       "(Timestamp('2009-01-01 00:11:46+0000', tz='UTC'),\n",
       " Timestamp('2015-06-30 23:59:54+0000', tz='UTC'))"
      ]
     },
     "execution_count": 22,
     "metadata": {},
     "output_type": "execute_result"
    }
   ],
   "source": [
    "df.pickup_datetime.min(), df.pickup_datetime.max()"
   ]
  },
  {
   "cell_type": "markdown",
   "metadata": {},
   "source": [
    "**Exploring skewness of the fare_amount"
   ]
  },
  {
   "cell_type": "code",
   "execution_count": 23,
   "metadata": {},
   "outputs": [
    {
     "data": {
      "image/png": "[encoded data removed]",
      "text/plain": [
       "<Figure size 1080x720 with 1 Axes>"
      ]
     },
     "metadata": {
      "needs_background": "light"
     },
     "output_type": "display_data"
    }
   ],
   "source": [
    "plt.figure(figsize=(15,10))\n",
    "sns.countplot(x='fare_amount',data=df[df['fare_amount']<0], palette='flare')\n",
    "plt.title(\"Fare Amount collected\",fontsize=15)\n",
    "loc, labels = plt.xticks()\n",
    "plt.xlabel('Fare Amount',fontsize = 10)\n",
    "plt.ylabel('Count',fontsize = 10)\n",
    "plt.xticks(fontsize=15,rotation='vertical')\n",
    "plt.show()"
   ]
  },
  {
   "cell_type": "code",
   "execution_count": 24,
   "metadata": {},
   "outputs": [
    {
     "data": {
      "image/png": "[encoded data removed]",
      "text/plain": [
       "<Figure size 720x360 with 1 Axes>"
      ]
     },
     "metadata": {
      "needs_background": "light"
     },
     "output_type": "display_data"
    }
   ],
   "source": [
    "plt.figure(figsize=(10,5))\n",
    "plt.hist(x='fare_amount', data=df ,bins=np.arange(-60,0,1),edgecolor='#99ccff',color='#000066')\n",
    "plt.xlabel('Month')\n",
    "plt.ylabel('Count')\n",
    "plt.title('Negative Revenue Count', fontsize=17);"
   ]
  },
  {
   "cell_type": "code",
   "execution_count": 25,
   "metadata": {},
   "outputs": [
    {
     "data": {
      "image/png": "[encoded data removed]",
      "text/plain": [
       "<Figure size 720x360 with 1 Axes>"
      ]
     },
     "metadata": {
      "needs_background": "light"
     },
     "output_type": "display_data"
    }
   ],
   "source": [
    "plt.figure(figsize=(10,5))\n",
    "plt.hist(x='fare_amount', data=df,bins=np.arange(0,100,10),edgecolor='#99ccff',color='#000066')\n",
    "plt.xlabel('Month')\n",
    "plt.ylabel('Count')\n",
    "plt.title('Positive Revenue Count', fontsize=17);"
   ]
  },
  {
   "cell_type": "code",
   "execution_count": 26,
   "metadata": {},
   "outputs": [
    {
     "data": {
      "text/plain": [
       "1      574490\n",
       "2      122423\n",
       "5       58793\n",
       "3       36597\n",
       "4       17644\n",
       "6       17365\n",
       "0        2927\n",
       "7           1\n",
       "208         1\n",
       "Name: passenger_count, dtype: int64"
      ]
     },
     "execution_count": 26,
     "metadata": {},
     "output_type": "execute_result"
    }
   ],
   "source": [
    "df.passenger_count.value_counts()"
   ]
  },
  {
   "cell_type": "code",
   "execution_count": 27,
   "metadata": {
    "scrolled": false
   },
   "outputs": [
    {
     "data": {
      "image/png": "[encoded data removed]",
      "text/plain": [
       "<Figure size 720x432 with 1 Axes>"
      ]
     },
     "metadata": {
      "needs_background": "light"
     },
     "output_type": "display_data"
    }
   ],
   "source": [
    "plt.figure(figsize=(10,6)) \n",
    "sns.countplot(x=df.passenger_count);"
   ]
  },
  {
   "cell_type": "code",
   "execution_count": 28,
   "metadata": {},
   "outputs": [
    {
     "data": {
      "text/plain": [
       "Index(['fare_amount', 'pickup_datetime', 'pickup_longitude', 'pickup_latitude',\n",
       "       'dropoff_longitude', 'dropoff_latitude', 'passenger_count'],\n",
       "      dtype='object')"
      ]
     },
     "execution_count": 28,
     "metadata": {},
     "output_type": "execute_result"
    }
   ],
   "source": [
    "df.columns"
   ]
  },
  {
   "cell_type": "code",
   "execution_count": 179,
   "metadata": {},
   "outputs": [
    {
     "data": {
      "image/png": "[encoded data removed]",
      "text/plain": [
       "<Figure size 1440x720 with 1 Axes>"
      ]
     },
     "metadata": {
      "needs_background": "light"
     },
     "output_type": "display_data"
    }
   ],
   "source": [
    "sns.catplot(x='passenger_count', y='fare_amount', data=df,palette='rocket',height=10, aspect=2)\n",
    "plt.title('Passengers count VS Fare amount',fontsize=30); \n",
    "plt.xlabel('Passengers count',fontsize = 15 ) \n",
    "plt.xticks(fontsize=20)\n",
    "plt.ylabel('Fare amount',fontsize = 15 )\n",
    "plt.yticks(fontsize=20)\n",
    "plt.show()"
   ]
  },
  {
   "cell_type": "markdown",
   "metadata": {},
   "source": [
    "### Typecasting of longitude and latitude"
   ]
  },
  {
   "cell_type": "code",
   "execution_count": 30,
   "metadata": {
    "scrolled": true
   },
   "outputs": [
    {
     "data": {
      "text/plain": [
       "0        -73\n",
       "1        -74\n",
       "2          0\n",
       "3        -73\n",
       "4        -73\n",
       "          ..\n",
       "830236   -73\n",
       "830237   -73\n",
       "830238   -74\n",
       "830239   -73\n",
       "830240   -73\n",
       "Name: pickup_longitude, Length: 830241, dtype: int64"
      ]
     },
     "execution_count": 30,
     "metadata": {},
     "output_type": "execute_result"
    }
   ],
   "source": [
    "df.pickup_longitude.apply(lambda x : int(x))"
   ]
  },
  {
   "cell_type": "code",
   "execution_count": 31,
   "metadata": {
    "scrolled": true
   },
   "outputs": [
    {
     "data": {
      "text/plain": [
       "0        -73\n",
       "1        -73\n",
       "2          0\n",
       "3        -73\n",
       "4        -73\n",
       "          ..\n",
       "830236   -73\n",
       "830237   -73\n",
       "830238   -73\n",
       "830239   -73\n",
       "830240   -74\n",
       "Name: dropoff_longitude, Length: 830241, dtype: int64"
      ]
     },
     "execution_count": 31,
     "metadata": {},
     "output_type": "execute_result"
    }
   ],
   "source": [
    "df.dropoff_longitude.apply(lambda x : 0 if pd.isna(x) else int(x))"
   ]
  },
  {
   "cell_type": "code",
   "execution_count": 32,
   "metadata": {
    "scrolled": true
   },
   "outputs": [
    {
     "data": {
      "text/plain": [
       "0         40\n",
       "1         40\n",
       "2          0\n",
       "3         40\n",
       "4         40\n",
       "          ..\n",
       "830236    40\n",
       "830237    40\n",
       "830238    40\n",
       "830239    40\n",
       "830240    40\n",
       "Name: dropoff_latitude, Length: 830241, dtype: int64"
      ]
     },
     "execution_count": 32,
     "metadata": {},
     "output_type": "execute_result"
    }
   ],
   "source": [
    "df.dropoff_latitude.apply(lambda x : 0 if pd.isna(x) else int(x))"
   ]
  },
  {
   "cell_type": "code",
   "execution_count": 33,
   "metadata": {
    "scrolled": true
   },
   "outputs": [
    {
     "data": {
      "text/plain": [
       "0         40\n",
       "1         40\n",
       "2          0\n",
       "3         40\n",
       "4         40\n",
       "          ..\n",
       "830236    40\n",
       "830237    40\n",
       "830238    40\n",
       "830239    40\n",
       "830240    40\n",
       "Name: pickup_latitude, Length: 830241, dtype: int64"
      ]
     },
     "execution_count": 33,
     "metadata": {},
     "output_type": "execute_result"
    }
   ],
   "source": [
    "df.pickup_latitude.apply(lambda x : int(x))"
   ]
  },
  {
   "cell_type": "markdown",
   "metadata": {
    "id": "7WIzKrOwTzGv"
   },
   "source": [
    "Observations about training data:\n",
    "\n",
    "- 550k+ rows, as expected\n",
    "- No missing data (in the sample)\n",
    "- `fare_amount` ranges from `$-52.0` to  `$499.0`\n",
    "- `passenger_count` ranges from 0 to 208 \n",
    "- There seem to be some errors in the latitude & longitude values\n",
    "- Dates range from 1st Jan 2009 to 30th June 2015\n",
    "- The dataset takes up ~19 MB of space in the RAM\n",
    "\n",
    "We may need to deal with outliers and data entry errors before we train our model.\n"
   ]
  },
  {
   "cell_type": "markdown",
   "metadata": {},
   "source": [
    "### Later we are analysing the same in Feature Engineering\n",
    "\n",
    "#### Splitting out pickup_datetime into year , month , day of week , time"
   ]
  },
  {
   "cell_type": "code",
   "execution_count": 34,
   "metadata": {},
   "outputs": [
    {
     "data": {
      "text/plain": [
       "0   2014-12-06 20:36:22+00:00\n",
       "1   2014-11-12 12:40:29+00:00\n",
       "2   2013-01-17 17:22:00+00:00\n",
       "3   2011-06-15 18:07:00+00:00\n",
       "4   2009-12-14 12:33:00+00:00\n",
       "Name: pickup_datetime, dtype: datetime64[ns, UTC]"
      ]
     },
     "execution_count": 34,
     "metadata": {},
     "output_type": "execute_result"
    }
   ],
   "source": [
    "df.pickup_datetime.head()"
   ]
  },
  {
   "cell_type": "code",
   "execution_count": 35,
   "metadata": {},
   "outputs": [
    {
     "data": {
      "text/plain": [
       "0    5\n",
       "1    2\n",
       "2    3\n",
       "3    2\n",
       "4    0\n",
       "Name: pickup_datetime, dtype: int64"
      ]
     },
     "execution_count": 35,
     "metadata": {},
     "output_type": "execute_result"
    }
   ],
   "source": [
    "pd.to_datetime(df.pickup_datetime).dt.day_of_week.head()"
   ]
  },
  {
   "cell_type": "markdown",
   "metadata": {},
   "source": [
    "- 0 --> Monday\n",
    "- 6 --> Sunday"
   ]
  },
  {
   "cell_type": "code",
   "execution_count": 36,
   "metadata": {},
   "outputs": [],
   "source": [
    "df['day']=pd.to_datetime(df.pickup_datetime).dt.dayofweek\n",
    "df['month']=pd.to_datetime(df.pickup_datetime).dt.month;\n",
    "df['year']=pd.to_datetime(df.pickup_datetime).dt.year;\n",
    "df['time']=pd.to_datetime(df.pickup_datetime).dt.time\n",
    "\n",
    "\n",
    "test_df['day']=pd.to_datetime(test_df.pickup_datetime).dt.dayofweek\n",
    "test_df['month']=pd.to_datetime(test_df.pickup_datetime).dt.month;\n",
    "test_df['year']=pd.to_datetime(test_df.pickup_datetime).dt.year;\n",
    "test_df['time']=pd.to_datetime(test_df.pickup_datetime).dt.time"
   ]
  },
  {
   "cell_type": "code",
   "execution_count": 37,
   "metadata": {},
   "outputs": [
    {
     "data": {
      "image/png": "[encoded data removed]",
      "text/plain": [
       "<Figure size 720x360 with 1 Axes>"
      ]
     },
     "metadata": {
      "needs_background": "light"
     },
     "output_type": "display_data"
    }
   ],
   "source": [
    "plt.figure(figsize=(10,5))\n",
    "sns.countplot(x='day',data=df,palette=\"rocket\")\n",
    "loc, labels = plt.xticks()\n",
    "loc, labels = loc, ['Monday','Tuesday','Wednesday','Thursday',\"Friday\",\"Saturday\",\"Sunday\"]\n",
    "plt.xticks(loc, labels,fontsize=10)\n",
    "plt.xlabel('Day',fontsize = 20)\n",
    "plt.ylabel('Total Trip',fontsize = 10)\n",
    "plt.title(\"Total Trip VS Day of week\",fontsize=15)\n",
    "plt.show()"
   ]
  },
  {
   "cell_type": "code",
   "execution_count": 38,
   "metadata": {},
   "outputs": [
    {
     "data": {
      "image/png": "[encoded data removed]",
      "text/plain": [
       "<Figure size 1080x360 with 1 Axes>"
      ]
     },
     "metadata": {
      "needs_background": "light"
     },
     "output_type": "display_data"
    }
   ],
   "source": [
    "plt.figure(figsize=(15,5))\n",
    "sns.countplot(x='month',data=df,palette=\"rocket_r\")\n",
    "loc, labels = plt.xticks()\n",
    "loc, labels = loc,  ['January', 'February', 'March', 'April', 'May', 'June', 'July','August', 'September', 'October', 'November', 'December']\n",
    "plt.xticks(loc, labels,fontsize=10)\n",
    "plt.xlabel('Months',fontsize = 20)\n",
    "plt.ylabel('Total Trip',fontsize = 10)\n",
    "plt.title(\"Total Trip VS Month of year\",fontsize=15)\n",
    "plt.show()"
   ]
  },
  {
   "cell_type": "markdown",
   "metadata": {},
   "source": [
    "# Creating Shifts"
   ]
  },
  {
   "cell_type": "markdown",
   "metadata": {},
   "source": [
    "**Creating a new column `Shift` based on `Minutes`**\n",
    "\n",
    "0 - Day shift (12am - 6pm)\n",
    "\n",
    "1 - Night shift"
   ]
  },
  {
   "cell_type": "code",
   "execution_count": 39,
   "metadata": {},
   "outputs": [
    {
     "data": {
      "text/plain": [
       "datetime.time(20, 36, 22)"
      ]
     },
     "execution_count": 39,
     "metadata": {},
     "output_type": "execute_result"
    }
   ],
   "source": [
    "df.time[0]"
   ]
  },
  {
   "cell_type": "code",
   "execution_count": 40,
   "metadata": {},
   "outputs": [
    {
     "data": {
      "text/plain": [
       "1236.3666666666666"
      ]
     },
     "execution_count": 40,
     "metadata": {},
     "output_type": "execute_result"
    }
   ],
   "source": [
    "# Converting time(hrs) to time(minutes) \n",
    "import datetime\n",
    "t = df.time[0]\n",
    "datetime.timedelta(hours=t.hour, minutes=t.minute, seconds=t.second).total_seconds()/60"
   ]
  },
  {
   "cell_type": "markdown",
   "metadata": {},
   "source": [
    "**Creating `Minutes` data column**"
   ]
  },
  {
   "cell_type": "code",
   "execution_count": 41,
   "metadata": {},
   "outputs": [],
   "source": [
    "df['minutes']=df.time.apply(lambda x : datetime.timedelta(hours=x.hour, minutes=x.minute, seconds=x.second).total_seconds()/60)"
   ]
  },
  {
   "cell_type": "code",
   "execution_count": 42,
   "metadata": {},
   "outputs": [
    {
     "data": {
      "text/plain": [
       "20     705.200000\n",
       "21     404.950000\n",
       "22     501.000000\n",
       "23     770.866667\n",
       "24    1072.000000\n",
       "25     158.000000\n",
       "26    1070.000000\n",
       "27     722.000000\n",
       "28      22.483333\n",
       "29    1083.116667\n",
       "Name: minutes, dtype: float64"
      ]
     },
     "execution_count": 42,
     "metadata": {},
     "output_type": "execute_result"
    }
   ],
   "source": [
    "df['minutes'][20:30]"
   ]
  },
  {
   "cell_type": "code",
   "execution_count": 43,
   "metadata": {},
   "outputs": [],
   "source": [
    "df['shift']=df.minutes.apply(lambda x : 0 if x<1080 else 1)"
   ]
  },
  {
   "cell_type": "code",
   "execution_count": 44,
   "metadata": {},
   "outputs": [
    {
     "data": {
      "text/plain": [
       "20    0\n",
       "21    0\n",
       "22    0\n",
       "23    0\n",
       "24    0\n",
       "25    0\n",
       "26    0\n",
       "27    0\n",
       "28    0\n",
       "29    1\n",
       "Name: shift, dtype: int64"
      ]
     },
     "execution_count": 44,
     "metadata": {},
     "output_type": "execute_result"
    }
   ],
   "source": [
    "df['shift'][20:30]"
   ]
  },
  {
   "cell_type": "markdown",
   "metadata": {},
   "source": [
    "### Removing outlier of data"
   ]
  },
  {
   "cell_type": "code",
   "execution_count": 45,
   "metadata": {},
   "outputs": [
    {
     "data": {
      "text/html": [
       "<div>\n",
       "<style scoped>\n",
       "    .dataframe tbody tr th:only-of-type {\n",
       "        vertical-align: middle;\n",
       "    }\n",
       "\n",
       "    .dataframe tbody tr th {\n",
       "        vertical-align: top;\n",
       "    }\n",
       "\n",
       "    .dataframe thead th {\n",
       "        text-align: right;\n",
       "    }\n",
       "</style>\n",
       "<table border=\"1\" class=\"dataframe\">\n",
       "  <thead>\n",
       "    <tr style=\"text-align: right;\">\n",
       "      <th></th>\n",
       "      <th>fare_amount</th>\n",
       "      <th>pickup_datetime</th>\n",
       "      <th>pickup_longitude</th>\n",
       "      <th>pickup_latitude</th>\n",
       "      <th>dropoff_longitude</th>\n",
       "      <th>dropoff_latitude</th>\n",
       "      <th>passenger_count</th>\n",
       "      <th>day</th>\n",
       "      <th>month</th>\n",
       "      <th>year</th>\n",
       "      <th>time</th>\n",
       "      <th>minutes</th>\n",
       "      <th>shift</th>\n",
       "    </tr>\n",
       "  </thead>\n",
       "  <tbody>\n",
       "    <tr>\n",
       "      <th>663236</th>\n",
       "      <td>2.5</td>\n",
       "      <td>2014-02-12 09:28:00+00:00</td>\n",
       "      <td>0.0</td>\n",
       "      <td>0.0</td>\n",
       "      <td>0.0</td>\n",
       "      <td>0.0</td>\n",
       "      <td>208</td>\n",
       "      <td>2</td>\n",
       "      <td>2</td>\n",
       "      <td>2014</td>\n",
       "      <td>09:28:00</td>\n",
       "      <td>568.0</td>\n",
       "      <td>0</td>\n",
       "    </tr>\n",
       "  </tbody>\n",
       "</table>\n",
       "</div>"
      ],
      "text/plain": [
       "        fare_amount           pickup_datetime  pickup_longitude  \\\n",
       "663236          2.5 2014-02-12 09:28:00+00:00               0.0   \n",
       "\n",
       "        pickup_latitude  dropoff_longitude  dropoff_latitude  passenger_count  \\\n",
       "663236              0.0                0.0               0.0              208   \n",
       "\n",
       "        day  month  year      time  minutes  shift  \n",
       "663236    2      2  2014  09:28:00    568.0      0  "
      ]
     },
     "execution_count": 45,
     "metadata": {},
     "output_type": "execute_result"
    }
   ],
   "source": [
    "df[df.passenger_count==208]"
   ]
  },
  {
   "cell_type": "code",
   "execution_count": 46,
   "metadata": {},
   "outputs": [
    {
     "data": {
      "text/plain": [
       "array([663236], dtype=int64)"
      ]
     },
     "execution_count": 46,
     "metadata": {},
     "output_type": "execute_result"
    }
   ],
   "source": [
    "df[df.passenger_count==208].index.values"
   ]
  },
  {
   "cell_type": "code",
   "execution_count": 47,
   "metadata": {},
   "outputs": [
    {
     "data": {
      "text/html": [
       "<div>\n",
       "<style scoped>\n",
       "    .dataframe tbody tr th:only-of-type {\n",
       "        vertical-align: middle;\n",
       "    }\n",
       "\n",
       "    .dataframe tbody tr th {\n",
       "        vertical-align: top;\n",
       "    }\n",
       "\n",
       "    .dataframe thead th {\n",
       "        text-align: right;\n",
       "    }\n",
       "</style>\n",
       "<table border=\"1\" class=\"dataframe\">\n",
       "  <thead>\n",
       "    <tr style=\"text-align: right;\">\n",
       "      <th></th>\n",
       "      <th>fare_amount</th>\n",
       "      <th>pickup_datetime</th>\n",
       "      <th>pickup_longitude</th>\n",
       "      <th>pickup_latitude</th>\n",
       "      <th>dropoff_longitude</th>\n",
       "      <th>dropoff_latitude</th>\n",
       "      <th>passenger_count</th>\n",
       "      <th>day</th>\n",
       "      <th>month</th>\n",
       "      <th>year</th>\n",
       "      <th>time</th>\n",
       "      <th>minutes</th>\n",
       "      <th>shift</th>\n",
       "    </tr>\n",
       "  </thead>\n",
       "  <tbody>\n",
       "  </tbody>\n",
       "</table>\n",
       "</div>"
      ],
      "text/plain": [
       "Empty DataFrame\n",
       "Columns: [fare_amount, pickup_datetime, pickup_longitude, pickup_latitude, dropoff_longitude, dropoff_latitude, passenger_count, day, month, year, time, minutes, shift]\n",
       "Index: []"
      ]
     },
     "execution_count": 47,
     "metadata": {},
     "output_type": "execute_result"
    }
   ],
   "source": [
    "df.drop(df[df.passenger_count==208].index.values[0],inplace=True)\n",
    "df[df.passenger_count==208]"
   ]
  },
  {
   "cell_type": "code",
   "execution_count": 48,
   "metadata": {},
   "outputs": [
    {
     "name": "stdout",
     "output_type": "stream",
     "text": [
      "CPU times: total: 13.6 s\n",
      "Wall time: 13.9 s\n"
     ]
    },
    {
     "data": {
      "text/plain": [
       "Text(0.5, 1.0, 'Passengers present vs Fare charges by Taxi based on shifts')"
      ]
     },
     "execution_count": 48,
     "metadata": {},
     "output_type": "execute_result"
    },
    {
     "data": {
      "image/png": "[encoded data removed]",
      "text/plain": [
       "<Figure size 720x432 with 1 Axes>"
      ]
     },
     "metadata": {
      "needs_background": "light"
     },
     "output_type": "display_data"
    }
   ],
   "source": [
    "%%time\n",
    "plt.figure(figsize=(10,6))\n",
    "sns.barplot(data=df, x=\"passenger_count\", y=\"fare_amount\",hue='shift',ci=0);\n",
    "plt.title(\"Passengers present vs Fare charges by Taxi based on shifts\", fontweight=20)"
   ]
  },
  {
   "cell_type": "markdown",
   "metadata": {
    "id": "DtRcylCW7Hvu"
   },
   "source": [
    "### Test Set"
   ]
  },
  {
   "cell_type": "code",
   "execution_count": 49,
   "metadata": {},
   "outputs": [],
   "source": [
    "test_df['shift']=test_df.time.apply(lambda x : datetime.timedelta(hours=x.hour, minutes=x.minute, seconds=x.second).total_seconds()/60).apply(lambda x : 0 if x<1080 else 1)"
   ]
  },
  {
   "cell_type": "code",
   "execution_count": 50,
   "metadata": {
    "id": "zK-AtxR_7I6X"
   },
   "outputs": [
    {
     "name": "stdout",
     "output_type": "stream",
     "text": [
      "<class 'pandas.core.frame.DataFrame'>\n",
      "RangeIndex: 9914 entries, 0 to 9913\n",
      "Data columns (total 12 columns):\n",
      " #   Column             Non-Null Count  Dtype              \n",
      "---  ------             --------------  -----              \n",
      " 0   key                9914 non-null   object             \n",
      " 1   pickup_datetime    9914 non-null   datetime64[ns, UTC]\n",
      " 2   pickup_longitude   9914 non-null   float32            \n",
      " 3   pickup_latitude    9914 non-null   float32            \n",
      " 4   dropoff_longitude  9914 non-null   float32            \n",
      " 5   dropoff_latitude   9914 non-null   float32            \n",
      " 6   passenger_count    9914 non-null   uint8              \n",
      " 7   day                9914 non-null   int64              \n",
      " 8   month              9914 non-null   int64              \n",
      " 9   year               9914 non-null   int64              \n",
      " 10  time               9914 non-null   object             \n",
      " 11  shift              9914 non-null   int64              \n",
      "dtypes: datetime64[ns, UTC](1), float32(4), int64(4), object(2), uint8(1)\n",
      "memory usage: 706.9+ KB\n"
     ]
    }
   ],
   "source": [
    "test_df.info()"
   ]
  },
  {
   "cell_type": "code",
   "execution_count": 51,
   "metadata": {
    "id": "lKA33FctWGEe"
   },
   "outputs": [
    {
     "data": {
      "text/html": [
       "<div>\n",
       "<style scoped>\n",
       "    .dataframe tbody tr th:only-of-type {\n",
       "        vertical-align: middle;\n",
       "    }\n",
       "\n",
       "    .dataframe tbody tr th {\n",
       "        vertical-align: top;\n",
       "    }\n",
       "\n",
       "    .dataframe thead th {\n",
       "        text-align: right;\n",
       "    }\n",
       "</style>\n",
       "<table border=\"1\" class=\"dataframe\">\n",
       "  <thead>\n",
       "    <tr style=\"text-align: right;\">\n",
       "      <th></th>\n",
       "      <th>pickup_longitude</th>\n",
       "      <th>pickup_latitude</th>\n",
       "      <th>dropoff_longitude</th>\n",
       "      <th>dropoff_latitude</th>\n",
       "      <th>passenger_count</th>\n",
       "      <th>day</th>\n",
       "      <th>month</th>\n",
       "      <th>year</th>\n",
       "      <th>shift</th>\n",
       "    </tr>\n",
       "  </thead>\n",
       "  <tbody>\n",
       "    <tr>\n",
       "      <th>count</th>\n",
       "      <td>9914.000000</td>\n",
       "      <td>9914.000000</td>\n",
       "      <td>9914.000000</td>\n",
       "      <td>9914.000000</td>\n",
       "      <td>9914.000000</td>\n",
       "      <td>9914.000000</td>\n",
       "      <td>9914.000000</td>\n",
       "      <td>9914.000000</td>\n",
       "      <td>9914.000000</td>\n",
       "    </tr>\n",
       "    <tr>\n",
       "      <th>mean</th>\n",
       "      <td>-73.974716</td>\n",
       "      <td>40.751041</td>\n",
       "      <td>-73.973656</td>\n",
       "      <td>40.751740</td>\n",
       "      <td>1.671273</td>\n",
       "      <td>2.852834</td>\n",
       "      <td>6.857979</td>\n",
       "      <td>2011.815816</td>\n",
       "      <td>0.354549</td>\n",
       "    </tr>\n",
       "    <tr>\n",
       "      <th>std</th>\n",
       "      <td>0.042774</td>\n",
       "      <td>0.033541</td>\n",
       "      <td>0.039072</td>\n",
       "      <td>0.035435</td>\n",
       "      <td>1.278747</td>\n",
       "      <td>1.994451</td>\n",
       "      <td>3.353272</td>\n",
       "      <td>1.803347</td>\n",
       "      <td>0.478401</td>\n",
       "    </tr>\n",
       "    <tr>\n",
       "      <th>min</th>\n",
       "      <td>-74.252190</td>\n",
       "      <td>40.573143</td>\n",
       "      <td>-74.263245</td>\n",
       "      <td>40.568974</td>\n",
       "      <td>1.000000</td>\n",
       "      <td>0.000000</td>\n",
       "      <td>1.000000</td>\n",
       "      <td>2009.000000</td>\n",
       "      <td>0.000000</td>\n",
       "    </tr>\n",
       "    <tr>\n",
       "      <th>25%</th>\n",
       "      <td>-73.992500</td>\n",
       "      <td>40.736125</td>\n",
       "      <td>-73.991249</td>\n",
       "      <td>40.735253</td>\n",
       "      <td>1.000000</td>\n",
       "      <td>1.000000</td>\n",
       "      <td>4.000000</td>\n",
       "      <td>2010.000000</td>\n",
       "      <td>0.000000</td>\n",
       "    </tr>\n",
       "    <tr>\n",
       "      <th>50%</th>\n",
       "      <td>-73.982327</td>\n",
       "      <td>40.753052</td>\n",
       "      <td>-73.980015</td>\n",
       "      <td>40.754065</td>\n",
       "      <td>1.000000</td>\n",
       "      <td>3.000000</td>\n",
       "      <td>7.000000</td>\n",
       "      <td>2012.000000</td>\n",
       "      <td>0.000000</td>\n",
       "    </tr>\n",
       "    <tr>\n",
       "      <th>75%</th>\n",
       "      <td>-73.968012</td>\n",
       "      <td>40.767113</td>\n",
       "      <td>-73.964062</td>\n",
       "      <td>40.768757</td>\n",
       "      <td>2.000000</td>\n",
       "      <td>5.000000</td>\n",
       "      <td>10.000000</td>\n",
       "      <td>2014.000000</td>\n",
       "      <td>1.000000</td>\n",
       "    </tr>\n",
       "    <tr>\n",
       "      <th>max</th>\n",
       "      <td>-72.986534</td>\n",
       "      <td>41.709557</td>\n",
       "      <td>-72.990967</td>\n",
       "      <td>41.696682</td>\n",
       "      <td>6.000000</td>\n",
       "      <td>6.000000</td>\n",
       "      <td>12.000000</td>\n",
       "      <td>2015.000000</td>\n",
       "      <td>1.000000</td>\n",
       "    </tr>\n",
       "  </tbody>\n",
       "</table>\n",
       "</div>"
      ],
      "text/plain": [
       "       pickup_longitude  pickup_latitude  dropoff_longitude  dropoff_latitude  \\\n",
       "count       9914.000000      9914.000000        9914.000000       9914.000000   \n",
       "mean         -73.974716        40.751041         -73.973656         40.751740   \n",
       "std            0.042774         0.033541           0.039072          0.035435   \n",
       "min          -74.252190        40.573143         -74.263245         40.568974   \n",
       "25%          -73.992500        40.736125         -73.991249         40.735253   \n",
       "50%          -73.982327        40.753052         -73.980015         40.754065   \n",
       "75%          -73.968012        40.767113         -73.964062         40.768757   \n",
       "max          -72.986534        41.709557         -72.990967         41.696682   \n",
       "\n",
       "       passenger_count          day        month         year        shift  \n",
       "count      9914.000000  9914.000000  9914.000000  9914.000000  9914.000000  \n",
       "mean          1.671273     2.852834     6.857979  2011.815816     0.354549  \n",
       "std           1.278747     1.994451     3.353272     1.803347     0.478401  \n",
       "min           1.000000     0.000000     1.000000  2009.000000     0.000000  \n",
       "25%           1.000000     1.000000     4.000000  2010.000000     0.000000  \n",
       "50%           1.000000     3.000000     7.000000  2012.000000     0.000000  \n",
       "75%           2.000000     5.000000    10.000000  2014.000000     1.000000  \n",
       "max           6.000000     6.000000    12.000000  2015.000000     1.000000  "
      ]
     },
     "execution_count": 51,
     "metadata": {},
     "output_type": "execute_result"
    }
   ],
   "source": [
    "test_df.describe()"
   ]
  },
  {
   "cell_type": "code",
   "execution_count": 52,
   "metadata": {},
   "outputs": [
    {
     "data": {
      "image/png": "[encoded data removed]",
      "text/plain": [
       "<Figure size 720x432 with 1 Axes>"
      ]
     },
     "metadata": {
      "needs_background": "light"
     },
     "output_type": "display_data"
    }
   ],
   "source": [
    "plt.figure(figsize=(10,6)) \n",
    "sns.countplot(x=test_df.passenger_count);"
   ]
  },
  {
   "cell_type": "code",
   "execution_count": 53,
   "metadata": {},
   "outputs": [
    {
     "data": {
      "text/plain": [
       "-73    8529\n",
       "-74    1384\n",
       "-72       1\n",
       "Name: pickup_longitude, dtype: int64"
      ]
     },
     "execution_count": 53,
     "metadata": {},
     "output_type": "execute_result"
    }
   ],
   "source": [
    "test_df.pickup_longitude.apply(lambda x : int(x)).value_counts()"
   ]
  },
  {
   "cell_type": "code",
   "execution_count": 54,
   "metadata": {},
   "outputs": [
    {
     "data": {
      "text/plain": [
       "-73    8612\n",
       "-74    1301\n",
       "-72       1\n",
       "Name: dropoff_longitude, dtype: int64"
      ]
     },
     "execution_count": 54,
     "metadata": {},
     "output_type": "execute_result"
    }
   ],
   "source": [
    "test_df.dropoff_longitude.apply(lambda x : int(x)).value_counts()"
   ]
  },
  {
   "cell_type": "code",
   "execution_count": 55,
   "metadata": {},
   "outputs": [
    {
     "data": {
      "text/plain": [
       "40    9905\n",
       "41       9\n",
       "Name: pickup_latitude, dtype: int64"
      ]
     },
     "execution_count": 55,
     "metadata": {},
     "output_type": "execute_result"
    }
   ],
   "source": [
    "test_df.pickup_latitude.apply(lambda x : int(x)).value_counts()"
   ]
  },
  {
   "cell_type": "code",
   "execution_count": 56,
   "metadata": {},
   "outputs": [
    {
     "data": {
      "text/plain": [
       "40    9908\n",
       "41       6\n",
       "Name: dropoff_latitude, dtype: int64"
      ]
     },
     "execution_count": 56,
     "metadata": {},
     "output_type": "execute_result"
    }
   ],
   "source": [
    "test_df.dropoff_latitude.apply(lambda x : int(x)).value_counts()"
   ]
  },
  {
   "cell_type": "code",
   "execution_count": 57,
   "metadata": {},
   "outputs": [
    {
     "data": {
      "text/plain": [
       "0       1\n",
       "1       1\n",
       "2       1\n",
       "3       1\n",
       "4       1\n",
       "       ..\n",
       "9909    6\n",
       "9910    6\n",
       "9911    6\n",
       "9912    6\n",
       "9913    6\n",
       "Name: passenger_count, Length: 9914, dtype: uint8"
      ]
     },
     "execution_count": 57,
     "metadata": {},
     "output_type": "execute_result"
    }
   ],
   "source": [
    "test_df.passenger_count"
   ]
  },
  {
   "cell_type": "code",
   "execution_count": 58,
   "metadata": {
    "id": "hRudxeE2Wfhm"
   },
   "outputs": [
    {
     "data": {
      "text/plain": [
       "(Timestamp('2009-01-01 11:04:24+0000', tz='UTC'),\n",
       " Timestamp('2015-06-30 20:03:50+0000', tz='UTC'))"
      ]
     },
     "execution_count": 58,
     "metadata": {},
     "output_type": "execute_result"
    }
   ],
   "source": [
    "test_df.pickup_datetime.min(), test_df.pickup_datetime.max()"
   ]
  },
  {
   "cell_type": "markdown",
   "metadata": {
    "id": "CQRCB4HiWLYb"
   },
   "source": [
    "Some observations about the test set:\n",
    "\n",
    "- 9914 rows of data\n",
    "- No missing values\n",
    "- No obvious data entry errors\n",
    "- 1 to 6 passengers (we can limit training data to this range)\n",
    "- Latitudes lie between 40 and 42\n",
    "- Longitudes lie between -75 and -72\n",
    "- Pickup dates range from Jan 1st 2009 to Jun  30th 2015 (same as training set)\n",
    "\n",
    "We can use the ranges of the test set to drop outliers/invalid data from the training set."
   ]
  },
  {
   "cell_type": "markdown",
   "metadata": {
    "id": "Fo0ue49U7eu4"
   },
   "source": [
    "## 3. Prepare Dataset for Training\n",
    "\n",
    "- Split Training & Validation Set\n",
    "- Fill/Remove Missing Values\n",
    "- Extract Inputs & Outputs\n",
    "   - Training\n",
    "   - Validation\n",
    "   - Test"
   ]
  },
  {
   "cell_type": "markdown",
   "metadata": {
    "id": "mswEXeiu7mrA"
   },
   "source": [
    "### Split Training & Validation Set\n",
    "\n",
    "We'll set aside 20% of the training data as the validation set, to evaluate the models we train on previously unseen data. \n",
    "\n",
    "Since the test set and training set have the same date ranges, we can pick a random 20% fraction.\n"
   ]
  },
  {
   "cell_type": "code",
   "execution_count": 59,
   "metadata": {
    "id": "-A1hKczB7U0I"
   },
   "outputs": [],
   "source": [
    "from sklearn.model_selection import train_test_split"
   ]
  },
  {
   "cell_type": "code",
   "execution_count": 60,
   "metadata": {
    "colab": {
     "background_save": true
    },
    "id": "223dkJPcZ5wM"
   },
   "outputs": [],
   "source": [
    "train_df, val_df = train_test_split(df, test_size=0.2, random_state=42)"
   ]
  },
  {
   "cell_type": "code",
   "execution_count": 61,
   "metadata": {
    "colab": {
     "background_save": true
    },
    "id": "fci2Mg9mZ6Dj"
   },
   "outputs": [
    {
     "data": {
      "text/plain": [
       "(664192, 166048)"
      ]
     },
     "execution_count": 61,
     "metadata": {},
     "output_type": "execute_result"
    }
   ],
   "source": [
    "len(train_df), len(val_df)"
   ]
  },
  {
   "cell_type": "markdown",
   "metadata": {
    "id": "RREUhZFx7k37"
   },
   "source": [
    "### Fill/Remove Missing Values\n",
    "\n",
    "There are no missing values in our sample, but if there were, we could simply drop the rows with missing values instead of trying to fill them (since we have a lot of training data)"
   ]
  },
  {
   "cell_type": "code",
   "execution_count": 62,
   "metadata": {},
   "outputs": [
    {
     "data": {
      "text/plain": [
       "fare_amount          0\n",
       "pickup_datetime      0\n",
       "pickup_longitude     0\n",
       "pickup_latitude      0\n",
       "dropoff_longitude    1\n",
       "dropoff_latitude     1\n",
       "passenger_count      0\n",
       "day                  0\n",
       "month                0\n",
       "year                 0\n",
       "time                 0\n",
       "minutes              0\n",
       "shift                0\n",
       "dtype: int64"
      ]
     },
     "execution_count": 62,
     "metadata": {},
     "output_type": "execute_result"
    }
   ],
   "source": [
    "train_df.isna().sum()"
   ]
  },
  {
   "cell_type": "code",
   "execution_count": 63,
   "metadata": {
    "colab": {
     "background_save": true
    },
    "id": "62tQ1Mkj-B1U"
   },
   "outputs": [],
   "source": [
    "train_df = train_df.dropna()\n",
    "val_df = val_df.dropna()"
   ]
  },
  {
   "cell_type": "markdown",
   "metadata": {
    "id": "v8aL-x9C-Gc5"
   },
   "source": [
    "### Extract Inputs and Outputs"
   ]
  },
  {
   "cell_type": "code",
   "execution_count": 64,
   "metadata": {
    "colab": {
     "background_save": true
    },
    "id": "3EznRfztapJd"
   },
   "outputs": [
    {
     "data": {
      "text/plain": [
       "Index(['fare_amount', 'pickup_datetime', 'pickup_longitude', 'pickup_latitude',\n",
       "       'dropoff_longitude', 'dropoff_latitude', 'passenger_count', 'day',\n",
       "       'month', 'year', 'time', 'minutes', 'shift'],\n",
       "      dtype='object')"
      ]
     },
     "execution_count": 64,
     "metadata": {},
     "output_type": "execute_result"
    }
   ],
   "source": [
    "df.columns"
   ]
  },
  {
   "cell_type": "code",
   "execution_count": 65,
   "metadata": {
    "colab": {
     "background_save": true
    },
    "id": "20_-9TgMapjR"
   },
   "outputs": [],
   "source": [
    "input_cols = ['pickup_longitude', 'pickup_latitude', 'dropoff_longitude', 'dropoff_latitude', 'passenger_count']"
   ]
  },
  {
   "cell_type": "code",
   "execution_count": 66,
   "metadata": {
    "colab": {
     "background_save": true
    },
    "id": "7CAarE7UapzF"
   },
   "outputs": [],
   "source": [
    "target_col = 'fare_amount'"
   ]
  },
  {
   "cell_type": "markdown",
   "metadata": {
    "id": "1b-bhEhS-Mz6"
   },
   "source": [
    "#### Training"
   ]
  },
  {
   "cell_type": "code",
   "execution_count": 67,
   "metadata": {
    "colab": {
     "background_save": true
    },
    "id": "1zTNkuqe-H3O"
   },
   "outputs": [],
   "source": [
    "train_inputs = train_df[input_cols]"
   ]
  },
  {
   "cell_type": "code",
   "execution_count": 68,
   "metadata": {
    "colab": {
     "background_save": true
    },
    "id": "rsdfMMSybTsQ"
   },
   "outputs": [],
   "source": [
    "train_targets = train_df[target_col]"
   ]
  },
  {
   "cell_type": "code",
   "execution_count": 69,
   "metadata": {
    "colab": {
     "background_save": true
    },
    "id": "yTNMLeEMbbT3"
   },
   "outputs": [
    {
     "data": {
      "text/html": [
       "<div>\n",
       "<style scoped>\n",
       "    .dataframe tbody tr th:only-of-type {\n",
       "        vertical-align: middle;\n",
       "    }\n",
       "\n",
       "    .dataframe tbody tr th {\n",
       "        vertical-align: top;\n",
       "    }\n",
       "\n",
       "    .dataframe thead th {\n",
       "        text-align: right;\n",
       "    }\n",
       "</style>\n",
       "<table border=\"1\" class=\"dataframe\">\n",
       "  <thead>\n",
       "    <tr style=\"text-align: right;\">\n",
       "      <th></th>\n",
       "      <th>pickup_longitude</th>\n",
       "      <th>pickup_latitude</th>\n",
       "      <th>dropoff_longitude</th>\n",
       "      <th>dropoff_latitude</th>\n",
       "      <th>passenger_count</th>\n",
       "    </tr>\n",
       "  </thead>\n",
       "  <tbody>\n",
       "    <tr>\n",
       "      <th>311742</th>\n",
       "      <td>-74.176964</td>\n",
       "      <td>40.691509</td>\n",
       "      <td>-74.176796</td>\n",
       "      <td>40.691898</td>\n",
       "      <td>1</td>\n",
       "    </tr>\n",
       "    <tr>\n",
       "      <th>227426</th>\n",
       "      <td>-73.977760</td>\n",
       "      <td>40.746037</td>\n",
       "      <td>-73.951874</td>\n",
       "      <td>40.801311</td>\n",
       "      <td>1</td>\n",
       "    </tr>\n",
       "    <tr>\n",
       "      <th>648948</th>\n",
       "      <td>-74.003723</td>\n",
       "      <td>40.732433</td>\n",
       "      <td>-73.988770</td>\n",
       "      <td>40.731167</td>\n",
       "      <td>1</td>\n",
       "    </tr>\n",
       "    <tr>\n",
       "      <th>16549</th>\n",
       "      <td>-73.998329</td>\n",
       "      <td>40.735176</td>\n",
       "      <td>-73.984596</td>\n",
       "      <td>40.754204</td>\n",
       "      <td>1</td>\n",
       "    </tr>\n",
       "    <tr>\n",
       "      <th>691491</th>\n",
       "      <td>-73.951881</td>\n",
       "      <td>40.784546</td>\n",
       "      <td>-73.985191</td>\n",
       "      <td>40.739117</td>\n",
       "      <td>2</td>\n",
       "    </tr>\n",
       "  </tbody>\n",
       "</table>\n",
       "</div>"
      ],
      "text/plain": [
       "        pickup_longitude  pickup_latitude  dropoff_longitude  \\\n",
       "311742        -74.176964        40.691509         -74.176796   \n",
       "227426        -73.977760        40.746037         -73.951874   \n",
       "648948        -74.003723        40.732433         -73.988770   \n",
       "16549         -73.998329        40.735176         -73.984596   \n",
       "691491        -73.951881        40.784546         -73.985191   \n",
       "\n",
       "        dropoff_latitude  passenger_count  \n",
       "311742         40.691898                1  \n",
       "227426         40.801311                1  \n",
       "648948         40.731167                1  \n",
       "16549          40.754204                1  \n",
       "691491         40.739117                2  "
      ]
     },
     "execution_count": 69,
     "metadata": {},
     "output_type": "execute_result"
    }
   ],
   "source": [
    "train_inputs.head()"
   ]
  },
  {
   "cell_type": "code",
   "execution_count": 70,
   "metadata": {
    "colab": {
     "background_save": true
    },
    "id": "qMnOoZ4Gbc3v"
   },
   "outputs": [
    {
     "data": {
      "text/plain": [
       "311742    60.700001\n",
       "227426    15.500000\n",
       "648948     7.500000\n",
       "16549     11.500000\n",
       "691491    10.900000\n",
       "            ...    \n",
       "259178    10.900000\n",
       "365838     4.000000\n",
       "131932     5.000000\n",
       "671156    18.000000\n",
       "121958     5.500000\n",
       "Name: fare_amount, Length: 664191, dtype: float32"
      ]
     },
     "execution_count": 70,
     "metadata": {},
     "output_type": "execute_result"
    }
   ],
   "source": [
    "train_targets"
   ]
  },
  {
   "cell_type": "markdown",
   "metadata": {
    "id": "tj49BUY_-InI"
   },
   "source": [
    "#### Validation"
   ]
  },
  {
   "cell_type": "code",
   "execution_count": 71,
   "metadata": {
    "colab": {
     "background_save": true
    },
    "id": "FR-5yVjY-PZV"
   },
   "outputs": [],
   "source": [
    "val_inputs = val_df[input_cols]"
   ]
  },
  {
   "cell_type": "code",
   "execution_count": 72,
   "metadata": {
    "colab": {
     "background_save": true
    },
    "id": "bL75iGCkbe3t"
   },
   "outputs": [],
   "source": [
    "val_targets = val_df[target_col]"
   ]
  },
  {
   "cell_type": "code",
   "execution_count": 73,
   "metadata": {
    "colab": {
     "background_save": true
    },
    "id": "IzYDUti4blBd"
   },
   "outputs": [
    {
     "data": {
      "text/html": [
       "<div>\n",
       "<style scoped>\n",
       "    .dataframe tbody tr th:only-of-type {\n",
       "        vertical-align: middle;\n",
       "    }\n",
       "\n",
       "    .dataframe tbody tr th {\n",
       "        vertical-align: top;\n",
       "    }\n",
       "\n",
       "    .dataframe thead th {\n",
       "        text-align: right;\n",
       "    }\n",
       "</style>\n",
       "<table border=\"1\" class=\"dataframe\">\n",
       "  <thead>\n",
       "    <tr style=\"text-align: right;\">\n",
       "      <th></th>\n",
       "      <th>pickup_longitude</th>\n",
       "      <th>pickup_latitude</th>\n",
       "      <th>dropoff_longitude</th>\n",
       "      <th>dropoff_latitude</th>\n",
       "      <th>passenger_count</th>\n",
       "    </tr>\n",
       "  </thead>\n",
       "  <tbody>\n",
       "    <tr>\n",
       "      <th>109379</th>\n",
       "      <td>-73.981850</td>\n",
       "      <td>40.766773</td>\n",
       "      <td>-73.990410</td>\n",
       "      <td>40.753918</td>\n",
       "      <td>1</td>\n",
       "    </tr>\n",
       "    <tr>\n",
       "      <th>665997</th>\n",
       "      <td>-73.985733</td>\n",
       "      <td>40.760170</td>\n",
       "      <td>-73.985321</td>\n",
       "      <td>40.747601</td>\n",
       "      <td>4</td>\n",
       "    </tr>\n",
       "    <tr>\n",
       "      <th>32826</th>\n",
       "      <td>-73.987968</td>\n",
       "      <td>40.749672</td>\n",
       "      <td>-73.980827</td>\n",
       "      <td>40.759773</td>\n",
       "      <td>1</td>\n",
       "    </tr>\n",
       "    <tr>\n",
       "      <th>781855</th>\n",
       "      <td>-73.986977</td>\n",
       "      <td>40.766193</td>\n",
       "      <td>-73.996971</td>\n",
       "      <td>40.716488</td>\n",
       "      <td>1</td>\n",
       "    </tr>\n",
       "    <tr>\n",
       "      <th>592499</th>\n",
       "      <td>-73.966621</td>\n",
       "      <td>40.757423</td>\n",
       "      <td>-73.961884</td>\n",
       "      <td>40.761246</td>\n",
       "      <td>1</td>\n",
       "    </tr>\n",
       "    <tr>\n",
       "      <th>...</th>\n",
       "      <td>...</td>\n",
       "      <td>...</td>\n",
       "      <td>...</td>\n",
       "      <td>...</td>\n",
       "      <td>...</td>\n",
       "    </tr>\n",
       "    <tr>\n",
       "      <th>546261</th>\n",
       "      <td>-73.979576</td>\n",
       "      <td>40.753551</td>\n",
       "      <td>-73.994331</td>\n",
       "      <td>40.728561</td>\n",
       "      <td>1</td>\n",
       "    </tr>\n",
       "    <tr>\n",
       "      <th>137549</th>\n",
       "      <td>-73.990929</td>\n",
       "      <td>40.736179</td>\n",
       "      <td>-73.995064</td>\n",
       "      <td>40.745167</td>\n",
       "      <td>1</td>\n",
       "    </tr>\n",
       "    <tr>\n",
       "      <th>771811</th>\n",
       "      <td>-73.988396</td>\n",
       "      <td>40.779270</td>\n",
       "      <td>-73.980171</td>\n",
       "      <td>40.759953</td>\n",
       "      <td>1</td>\n",
       "    </tr>\n",
       "    <tr>\n",
       "      <th>727433</th>\n",
       "      <td>-73.960312</td>\n",
       "      <td>40.766514</td>\n",
       "      <td>-73.978096</td>\n",
       "      <td>40.757843</td>\n",
       "      <td>1</td>\n",
       "    </tr>\n",
       "    <tr>\n",
       "      <th>568687</th>\n",
       "      <td>-73.973244</td>\n",
       "      <td>40.764050</td>\n",
       "      <td>-73.952187</td>\n",
       "      <td>40.786812</td>\n",
       "      <td>1</td>\n",
       "    </tr>\n",
       "  </tbody>\n",
       "</table>\n",
       "<p>166047 rows × 5 columns</p>\n",
       "</div>"
      ],
      "text/plain": [
       "        pickup_longitude  pickup_latitude  dropoff_longitude  \\\n",
       "109379        -73.981850        40.766773         -73.990410   \n",
       "665997        -73.985733        40.760170         -73.985321   \n",
       "32826         -73.987968        40.749672         -73.980827   \n",
       "781855        -73.986977        40.766193         -73.996971   \n",
       "592499        -73.966621        40.757423         -73.961884   \n",
       "...                  ...              ...                ...   \n",
       "546261        -73.979576        40.753551         -73.994331   \n",
       "137549        -73.990929        40.736179         -73.995064   \n",
       "771811        -73.988396        40.779270         -73.980171   \n",
       "727433        -73.960312        40.766514         -73.978096   \n",
       "568687        -73.973244        40.764050         -73.952187   \n",
       "\n",
       "        dropoff_latitude  passenger_count  \n",
       "109379         40.753918                1  \n",
       "665997         40.747601                4  \n",
       "32826          40.759773                1  \n",
       "781855         40.716488                1  \n",
       "592499         40.761246                1  \n",
       "...                  ...              ...  \n",
       "546261         40.728561                1  \n",
       "137549         40.745167                1  \n",
       "771811         40.759953                1  \n",
       "727433         40.757843                1  \n",
       "568687         40.786812                1  \n",
       "\n",
       "[166047 rows x 5 columns]"
      ]
     },
     "execution_count": 73,
     "metadata": {},
     "output_type": "execute_result"
    }
   ],
   "source": [
    "val_inputs"
   ]
  },
  {
   "cell_type": "code",
   "execution_count": 74,
   "metadata": {
    "colab": {
     "background_save": true
    },
    "id": "sPwn69GPbmsk"
   },
   "outputs": [
    {
     "data": {
      "text/plain": [
       "109379     8.5\n",
       "665997     9.5\n",
       "32826      4.9\n",
       "781855    15.0\n",
       "592499     4.1\n",
       "          ... \n",
       "546261     8.5\n",
       "137549     5.7\n",
       "771811    10.5\n",
       "727433    10.1\n",
       "568687    13.5\n",
       "Name: fare_amount, Length: 166047, dtype: float32"
      ]
     },
     "execution_count": 74,
     "metadata": {},
     "output_type": "execute_result"
    }
   ],
   "source": [
    "val_targets"
   ]
  },
  {
   "cell_type": "markdown",
   "metadata": {
    "id": "PxUKnWZG-SEP"
   },
   "source": [
    "#### Test"
   ]
  },
  {
   "cell_type": "code",
   "execution_count": 75,
   "metadata": {
    "colab": {
     "background_save": true
    },
    "id": "eszwMU1U-S04"
   },
   "outputs": [],
   "source": [
    "test_inputs = test_df[input_cols]"
   ]
  },
  {
   "cell_type": "code",
   "execution_count": 76,
   "metadata": {
    "colab": {
     "background_save": true
    },
    "id": "Qz0jK2pZbpiT"
   },
   "outputs": [
    {
     "data": {
      "text/html": [
       "<div>\n",
       "<style scoped>\n",
       "    .dataframe tbody tr th:only-of-type {\n",
       "        vertical-align: middle;\n",
       "    }\n",
       "\n",
       "    .dataframe tbody tr th {\n",
       "        vertical-align: top;\n",
       "    }\n",
       "\n",
       "    .dataframe thead th {\n",
       "        text-align: right;\n",
       "    }\n",
       "</style>\n",
       "<table border=\"1\" class=\"dataframe\">\n",
       "  <thead>\n",
       "    <tr style=\"text-align: right;\">\n",
       "      <th></th>\n",
       "      <th>pickup_longitude</th>\n",
       "      <th>pickup_latitude</th>\n",
       "      <th>dropoff_longitude</th>\n",
       "      <th>dropoff_latitude</th>\n",
       "      <th>passenger_count</th>\n",
       "    </tr>\n",
       "  </thead>\n",
       "  <tbody>\n",
       "    <tr>\n",
       "      <th>0</th>\n",
       "      <td>-73.973320</td>\n",
       "      <td>40.763805</td>\n",
       "      <td>-73.981430</td>\n",
       "      <td>40.743835</td>\n",
       "      <td>1</td>\n",
       "    </tr>\n",
       "    <tr>\n",
       "      <th>1</th>\n",
       "      <td>-73.986862</td>\n",
       "      <td>40.719383</td>\n",
       "      <td>-73.998886</td>\n",
       "      <td>40.739201</td>\n",
       "      <td>1</td>\n",
       "    </tr>\n",
       "    <tr>\n",
       "      <th>2</th>\n",
       "      <td>-73.982521</td>\n",
       "      <td>40.751259</td>\n",
       "      <td>-73.979652</td>\n",
       "      <td>40.746140</td>\n",
       "      <td>1</td>\n",
       "    </tr>\n",
       "    <tr>\n",
       "      <th>3</th>\n",
       "      <td>-73.981163</td>\n",
       "      <td>40.767807</td>\n",
       "      <td>-73.990448</td>\n",
       "      <td>40.751637</td>\n",
       "      <td>1</td>\n",
       "    </tr>\n",
       "    <tr>\n",
       "      <th>4</th>\n",
       "      <td>-73.966049</td>\n",
       "      <td>40.789776</td>\n",
       "      <td>-73.988564</td>\n",
       "      <td>40.744427</td>\n",
       "      <td>1</td>\n",
       "    </tr>\n",
       "  </tbody>\n",
       "</table>\n",
       "</div>"
      ],
      "text/plain": [
       "   pickup_longitude  pickup_latitude  dropoff_longitude  dropoff_latitude  \\\n",
       "0        -73.973320        40.763805         -73.981430         40.743835   \n",
       "1        -73.986862        40.719383         -73.998886         40.739201   \n",
       "2        -73.982521        40.751259         -73.979652         40.746140   \n",
       "3        -73.981163        40.767807         -73.990448         40.751637   \n",
       "4        -73.966049        40.789776         -73.988564         40.744427   \n",
       "\n",
       "   passenger_count  \n",
       "0                1  \n",
       "1                1  \n",
       "2                1  \n",
       "3                1  \n",
       "4                1  "
      ]
     },
     "execution_count": 76,
     "metadata": {},
     "output_type": "execute_result"
    }
   ],
   "source": [
    "test_inputs.head()"
   ]
  },
  {
   "cell_type": "markdown",
   "metadata": {
    "id": "D69gMpoc-T3x"
   },
   "source": [
    "## 4. Train Hardcoded & Baseline Models\n",
    "\n",
    "- Hardcoded model: always predict average fare\n",
    "- Baseline model: Linear regression \n",
    "\n",
    "For evaluation the dataset uses RMSE error: \n",
    "https://www.kaggle.com/c/new-york-city-taxi-fare-prediction/overview/evaluation"
   ]
  },
  {
   "cell_type": "markdown",
   "metadata": {
    "id": "HojOJqvh-8I2"
   },
   "source": [
    "### Train & Evaluate Hardcoded Model\n",
    "\n",
    "Let's create a simple model that always predicts the average."
   ]
  },
  {
   "cell_type": "code",
   "execution_count": 77,
   "metadata": {
    "id": "egLCJe0TdrGF"
   },
   "outputs": [],
   "source": [
    "import numpy as np"
   ]
  },
  {
   "cell_type": "code",
   "execution_count": 78,
   "metadata": {
    "id": "oC4UAWdp87ZJ"
   },
   "outputs": [
    {
     "data": {
      "text/plain": [
       "array([2, 2, 2, 2, 2, 2, 2, 2, 2, 2])"
      ]
     },
     "execution_count": 78,
     "metadata": {},
     "output_type": "execute_result"
    }
   ],
   "source": [
    "np.full(10,2)"
   ]
  },
  {
   "cell_type": "code",
   "execution_count": 79,
   "metadata": {
    "id": "qi3N8Kkh-_SZ"
   },
   "outputs": [],
   "source": [
    "class MeanRegressor():\n",
    "    def fit(self,targets):\n",
    "        self.mean = targets.mean()\n",
    "\n",
    "    def predict(self, inputs):\n",
    "        return np.full(inputs.shape[0], self.mean)"
   ]
  },
  {
   "cell_type": "code",
   "execution_count": 80,
   "metadata": {
    "id": "br8KFvGQdeWW"
   },
   "outputs": [],
   "source": [
    "mean_model = MeanRegressor()"
   ]
  },
  {
   "cell_type": "code",
   "execution_count": 81,
   "metadata": {
    "id": "YnR-_BSzdeqO"
   },
   "outputs": [],
   "source": [
    "mean_model.fit(train_targets)"
   ]
  },
  {
   "cell_type": "code",
   "execution_count": 82,
   "metadata": {
    "id": "LyJOWf0-dkbr"
   },
   "outputs": [
    {
     "data": {
      "text/plain": [
       "11.3500595"
      ]
     },
     "execution_count": 82,
     "metadata": {},
     "output_type": "execute_result"
    }
   ],
   "source": [
    "mean_model.mean"
   ]
  },
  {
   "cell_type": "code",
   "execution_count": 83,
   "metadata": {
    "id": "4Mp2LEKHdktj"
   },
   "outputs": [],
   "source": [
    "train_preds = mean_model.predict(train_inputs)"
   ]
  },
  {
   "cell_type": "code",
   "execution_count": 84,
   "metadata": {
    "id": "pkbSKOZqdm0z"
   },
   "outputs": [
    {
     "data": {
      "text/plain": [
       "array([11.3500595, 11.3500595, 11.3500595, ..., 11.3500595, 11.3500595,\n",
       "       11.3500595], dtype=float32)"
      ]
     },
     "execution_count": 84,
     "metadata": {},
     "output_type": "execute_result"
    }
   ],
   "source": [
    "train_preds"
   ]
  },
  {
   "cell_type": "code",
   "execution_count": 85,
   "metadata": {
    "id": "nvJkxaImdnP1"
   },
   "outputs": [],
   "source": [
    "val_preds = mean_model.predict(val_inputs)"
   ]
  },
  {
   "cell_type": "code",
   "execution_count": 86,
   "metadata": {
    "id": "AHoIUSyXdupG"
   },
   "outputs": [
    {
     "data": {
      "text/plain": [
       "array([11.3500595, 11.3500595, 11.3500595, ..., 11.3500595, 11.3500595,\n",
       "       11.3500595], dtype=float32)"
      ]
     },
     "execution_count": 86,
     "metadata": {},
     "output_type": "execute_result"
    }
   ],
   "source": [
    "val_preds"
   ]
  },
  {
   "cell_type": "code",
   "execution_count": 87,
   "metadata": {
    "id": "Kedz-UOFd4kM"
   },
   "outputs": [],
   "source": [
    "from sklearn.metrics import mean_squared_error"
   ]
  },
  {
   "cell_type": "code",
   "execution_count": 88,
   "metadata": {
    "id": "hJLGGq3Rdu6U"
   },
   "outputs": [],
   "source": [
    "train_rmse = mean_squared_error(train_targets, train_preds, squared=False)"
   ]
  },
  {
   "cell_type": "code",
   "execution_count": 89,
   "metadata": {
    "id": "6q6zRkNyeLSm"
   },
   "outputs": [
    {
     "data": {
      "text/plain": [
       "9.813676"
      ]
     },
     "execution_count": 89,
     "metadata": {},
     "output_type": "execute_result"
    }
   ],
   "source": [
    "train_rmse"
   ]
  },
  {
   "cell_type": "code",
   "execution_count": 90,
   "metadata": {
    "id": "O46X0AFWdyYx"
   },
   "outputs": [],
   "source": [
    "val_rmse = mean_squared_error(val_targets, val_preds, squared=False)"
   ]
  },
  {
   "cell_type": "code",
   "execution_count": 91,
   "metadata": {
    "id": "vXVmrtzRd7lb"
   },
   "outputs": [
    {
     "data": {
      "text/plain": [
       "9.681299"
      ]
     },
     "execution_count": 91,
     "metadata": {},
     "output_type": "execute_result"
    }
   ],
   "source": [
    "val_rmse"
   ]
  },
  {
   "cell_type": "markdown",
   "metadata": {
    "id": "52_3bDeJeOLl"
   },
   "source": [
    "Our dumb hard-coded model is off by `$9.899` on average, which is pretty bad considering the average fare is `$11.35`."
   ]
  },
  {
   "cell_type": "markdown",
   "metadata": {
    "id": "HwWoP6if-_uA"
   },
   "source": [
    "### Train & Evaluate Baseline Model\n",
    "\n",
    "We'll traina linear regression model as our baseline, which tries to express the target as a weighted sum of the inputs."
   ]
  },
  {
   "cell_type": "code",
   "execution_count": 92,
   "metadata": {
    "colab": {
     "background_save": true
    },
    "id": "F2ivNSaf_Bh3"
   },
   "outputs": [],
   "source": [
    "from sklearn.linear_model import LinearRegression"
   ]
  },
  {
   "cell_type": "code",
   "execution_count": 93,
   "metadata": {
    "colab": {
     "background_save": true
    },
    "id": "MSsDURPWecmP"
   },
   "outputs": [],
   "source": [
    "linreg_model = LinearRegression()"
   ]
  },
  {
   "cell_type": "code",
   "execution_count": 94,
   "metadata": {
    "colab": {
     "background_save": true
    },
    "id": "j9vkP2Wbec3Z"
   },
   "outputs": [
    {
     "data": {
      "text/plain": [
       "LinearRegression()"
      ]
     },
     "execution_count": 94,
     "metadata": {},
     "output_type": "execute_result"
    }
   ],
   "source": [
    "linreg_model.fit(train_inputs, train_targets)"
   ]
  },
  {
   "cell_type": "code",
   "execution_count": 95,
   "metadata": {
    "colab": {
     "background_save": true
    },
    "id": "ZFYfI2fledIo"
   },
   "outputs": [
    {
     "data": {
      "text/plain": [
       "array([11.266183, 11.266774, 11.266749, ..., 11.372637, 11.478688,\n",
       "       11.266629], dtype=float32)"
      ]
     },
     "execution_count": 95,
     "metadata": {},
     "output_type": "execute_result"
    }
   ],
   "source": [
    "train_preds = linreg_model.predict(train_inputs)\n",
    "train_preds"
   ]
  },
  {
   "cell_type": "code",
   "execution_count": 96,
   "metadata": {
    "colab": {
     "background_save": true
    },
    "id": "MyeI6iZmemFM"
   },
   "outputs": [
    {
     "data": {
      "text/plain": [
       "array([11.266578, 11.584482, 11.266683, ..., 11.266546, 11.266634,\n",
       "       11.266705], dtype=float32)"
      ]
     },
     "execution_count": 96,
     "metadata": {},
     "output_type": "execute_result"
    }
   ],
   "source": [
    "val_preds = linreg_model.predict(val_inputs)\n",
    "val_preds"
   ]
  },
  {
   "cell_type": "code",
   "execution_count": 97,
   "metadata": {
    "colab": {
     "background_save": true
    },
    "id": "3Gv3omU8emm-"
   },
   "outputs": [
    {
     "data": {
      "text/plain": [
       "9.8123"
      ]
     },
     "execution_count": 97,
     "metadata": {},
     "output_type": "execute_result"
    }
   ],
   "source": [
    "train_rmse = mean_squared_error(train_targets, train_preds, squared=False)\n",
    "train_rmse"
   ]
  },
  {
   "cell_type": "code",
   "execution_count": 98,
   "metadata": {
    "colab": {
     "background_save": true
    },
    "id": "d6SIpnucem5D"
   },
   "outputs": [
    {
     "data": {
      "text/plain": [
       "9.679881"
      ]
     },
     "execution_count": 98,
     "metadata": {},
     "output_type": "execute_result"
    }
   ],
   "source": [
    "val_rmse = mean_squared_error(val_targets, val_preds, squared=False)\n",
    "val_rmse"
   ]
  },
  {
   "cell_type": "markdown",
   "metadata": {
    "id": "c3y9WJfSe6Um"
   },
   "source": [
    "The linear regression model is off by $9.898, which isn't much better than simply predicting the average. \n",
    "\n",
    "This is mainly because the training data (geocoordinates) is not in a format that's useful for the model, and we're not using one of the most important columns: pickup date & time.\n",
    "\n",
    "However, now we have a baseline that our other models should ideally beat."
   ]
  },
  {
   "cell_type": "markdown",
   "metadata": {
    "id": "2c1nCUvn_B_o"
   },
   "source": [
    "## 5. Make Predictions and Submit to Kaggle\n",
    "\n",
    "- Make predictions for test set\n",
    "- Generate submissions CSV\n",
    "- Submit to Kaggle\n",
    "- Record in experiment tracking sheet"
   ]
  },
  {
   "cell_type": "code",
   "execution_count": 99,
   "metadata": {
    "colab": {
     "background_save": true
    },
    "id": "dtRdQgUV_Fh4"
   },
   "outputs": [
    {
     "data": {
      "text/html": [
       "<div>\n",
       "<style scoped>\n",
       "    .dataframe tbody tr th:only-of-type {\n",
       "        vertical-align: middle;\n",
       "    }\n",
       "\n",
       "    .dataframe tbody tr th {\n",
       "        vertical-align: top;\n",
       "    }\n",
       "\n",
       "    .dataframe thead th {\n",
       "        text-align: right;\n",
       "    }\n",
       "</style>\n",
       "<table border=\"1\" class=\"dataframe\">\n",
       "  <thead>\n",
       "    <tr style=\"text-align: right;\">\n",
       "      <th></th>\n",
       "      <th>pickup_longitude</th>\n",
       "      <th>pickup_latitude</th>\n",
       "      <th>dropoff_longitude</th>\n",
       "      <th>dropoff_latitude</th>\n",
       "      <th>passenger_count</th>\n",
       "    </tr>\n",
       "  </thead>\n",
       "  <tbody>\n",
       "    <tr>\n",
       "      <th>0</th>\n",
       "      <td>-73.973320</td>\n",
       "      <td>40.763805</td>\n",
       "      <td>-73.981430</td>\n",
       "      <td>40.743835</td>\n",
       "      <td>1</td>\n",
       "    </tr>\n",
       "    <tr>\n",
       "      <th>1</th>\n",
       "      <td>-73.986862</td>\n",
       "      <td>40.719383</td>\n",
       "      <td>-73.998886</td>\n",
       "      <td>40.739201</td>\n",
       "      <td>1</td>\n",
       "    </tr>\n",
       "    <tr>\n",
       "      <th>2</th>\n",
       "      <td>-73.982521</td>\n",
       "      <td>40.751259</td>\n",
       "      <td>-73.979652</td>\n",
       "      <td>40.746140</td>\n",
       "      <td>1</td>\n",
       "    </tr>\n",
       "    <tr>\n",
       "      <th>3</th>\n",
       "      <td>-73.981163</td>\n",
       "      <td>40.767807</td>\n",
       "      <td>-73.990448</td>\n",
       "      <td>40.751637</td>\n",
       "      <td>1</td>\n",
       "    </tr>\n",
       "    <tr>\n",
       "      <th>4</th>\n",
       "      <td>-73.966049</td>\n",
       "      <td>40.789776</td>\n",
       "      <td>-73.988564</td>\n",
       "      <td>40.744427</td>\n",
       "      <td>1</td>\n",
       "    </tr>\n",
       "    <tr>\n",
       "      <th>...</th>\n",
       "      <td>...</td>\n",
       "      <td>...</td>\n",
       "      <td>...</td>\n",
       "      <td>...</td>\n",
       "      <td>...</td>\n",
       "    </tr>\n",
       "    <tr>\n",
       "      <th>9909</th>\n",
       "      <td>-73.968124</td>\n",
       "      <td>40.796997</td>\n",
       "      <td>-73.955643</td>\n",
       "      <td>40.780388</td>\n",
       "      <td>6</td>\n",
       "    </tr>\n",
       "    <tr>\n",
       "      <th>9910</th>\n",
       "      <td>-73.945511</td>\n",
       "      <td>40.803600</td>\n",
       "      <td>-73.960213</td>\n",
       "      <td>40.776371</td>\n",
       "      <td>6</td>\n",
       "    </tr>\n",
       "    <tr>\n",
       "      <th>9911</th>\n",
       "      <td>-73.991600</td>\n",
       "      <td>40.726608</td>\n",
       "      <td>-73.789742</td>\n",
       "      <td>40.647011</td>\n",
       "      <td>6</td>\n",
       "    </tr>\n",
       "    <tr>\n",
       "      <th>9912</th>\n",
       "      <td>-73.985573</td>\n",
       "      <td>40.735432</td>\n",
       "      <td>-73.939178</td>\n",
       "      <td>40.801731</td>\n",
       "      <td>6</td>\n",
       "    </tr>\n",
       "    <tr>\n",
       "      <th>9913</th>\n",
       "      <td>-73.988022</td>\n",
       "      <td>40.754070</td>\n",
       "      <td>-74.000282</td>\n",
       "      <td>40.759220</td>\n",
       "      <td>6</td>\n",
       "    </tr>\n",
       "  </tbody>\n",
       "</table>\n",
       "<p>9914 rows × 5 columns</p>\n",
       "</div>"
      ],
      "text/plain": [
       "      pickup_longitude  pickup_latitude  dropoff_longitude  dropoff_latitude  \\\n",
       "0           -73.973320        40.763805         -73.981430         40.743835   \n",
       "1           -73.986862        40.719383         -73.998886         40.739201   \n",
       "2           -73.982521        40.751259         -73.979652         40.746140   \n",
       "3           -73.981163        40.767807         -73.990448         40.751637   \n",
       "4           -73.966049        40.789776         -73.988564         40.744427   \n",
       "...                ...              ...                ...               ...   \n",
       "9909        -73.968124        40.796997         -73.955643         40.780388   \n",
       "9910        -73.945511        40.803600         -73.960213         40.776371   \n",
       "9911        -73.991600        40.726608         -73.789742         40.647011   \n",
       "9912        -73.985573        40.735432         -73.939178         40.801731   \n",
       "9913        -73.988022        40.754070         -74.000282         40.759220   \n",
       "\n",
       "      passenger_count  \n",
       "0                   1  \n",
       "1                   1  \n",
       "2                   1  \n",
       "3                   1  \n",
       "4                   1  \n",
       "...               ...  \n",
       "9909                6  \n",
       "9910                6  \n",
       "9911                6  \n",
       "9912                6  \n",
       "9913                6  \n",
       "\n",
       "[9914 rows x 5 columns]"
      ]
     },
     "execution_count": 99,
     "metadata": {},
     "output_type": "execute_result"
    }
   ],
   "source": [
    "test_inputs"
   ]
  },
  {
   "cell_type": "code",
   "execution_count": 100,
   "metadata": {
    "colab": {
     "background_save": true
    },
    "id": "LaFg2Pc2gaOU"
   },
   "outputs": [],
   "source": [
    "test_preds = linreg_model.predict(test_inputs)"
   ]
  },
  {
   "cell_type": "code",
   "execution_count": 101,
   "metadata": {
    "colab": {
     "background_save": true
    },
    "id": "JatqolD1gado"
   },
   "outputs": [
    {
     "data": {
      "text/html": [
       "<div>\n",
       "<style scoped>\n",
       "    .dataframe tbody tr th:only-of-type {\n",
       "        vertical-align: middle;\n",
       "    }\n",
       "\n",
       "    .dataframe tbody tr th {\n",
       "        vertical-align: top;\n",
       "    }\n",
       "\n",
       "    .dataframe thead th {\n",
       "        text-align: right;\n",
       "    }\n",
       "</style>\n",
       "<table border=\"1\" class=\"dataframe\">\n",
       "  <thead>\n",
       "    <tr style=\"text-align: right;\">\n",
       "      <th></th>\n",
       "      <th>key</th>\n",
       "      <th>fare_amount</th>\n",
       "    </tr>\n",
       "  </thead>\n",
       "  <tbody>\n",
       "    <tr>\n",
       "      <th>0</th>\n",
       "      <td>2015-01-27 13:08:24.0000002</td>\n",
       "      <td>11.35</td>\n",
       "    </tr>\n",
       "    <tr>\n",
       "      <th>1</th>\n",
       "      <td>2015-01-27 13:08:24.0000003</td>\n",
       "      <td>11.35</td>\n",
       "    </tr>\n",
       "    <tr>\n",
       "      <th>2</th>\n",
       "      <td>2011-10-08 11:53:44.0000002</td>\n",
       "      <td>11.35</td>\n",
       "    </tr>\n",
       "    <tr>\n",
       "      <th>3</th>\n",
       "      <td>2012-12-01 21:12:12.0000002</td>\n",
       "      <td>11.35</td>\n",
       "    </tr>\n",
       "    <tr>\n",
       "      <th>4</th>\n",
       "      <td>2012-12-01 21:12:12.0000003</td>\n",
       "      <td>11.35</td>\n",
       "    </tr>\n",
       "    <tr>\n",
       "      <th>...</th>\n",
       "      <td>...</td>\n",
       "      <td>...</td>\n",
       "    </tr>\n",
       "    <tr>\n",
       "      <th>9909</th>\n",
       "      <td>2015-05-10 12:37:51.0000002</td>\n",
       "      <td>11.35</td>\n",
       "    </tr>\n",
       "    <tr>\n",
       "      <th>9910</th>\n",
       "      <td>2015-01-12 17:05:51.0000001</td>\n",
       "      <td>11.35</td>\n",
       "    </tr>\n",
       "    <tr>\n",
       "      <th>9911</th>\n",
       "      <td>2015-04-19 20:44:15.0000001</td>\n",
       "      <td>11.35</td>\n",
       "    </tr>\n",
       "    <tr>\n",
       "      <th>9912</th>\n",
       "      <td>2015-01-31 01:05:19.0000005</td>\n",
       "      <td>11.35</td>\n",
       "    </tr>\n",
       "    <tr>\n",
       "      <th>9913</th>\n",
       "      <td>2015-01-18 14:06:23.0000006</td>\n",
       "      <td>11.35</td>\n",
       "    </tr>\n",
       "  </tbody>\n",
       "</table>\n",
       "<p>9914 rows × 2 columns</p>\n",
       "</div>"
      ],
      "text/plain": [
       "                              key  fare_amount\n",
       "0     2015-01-27 13:08:24.0000002        11.35\n",
       "1     2015-01-27 13:08:24.0000003        11.35\n",
       "2     2011-10-08 11:53:44.0000002        11.35\n",
       "3     2012-12-01 21:12:12.0000002        11.35\n",
       "4     2012-12-01 21:12:12.0000003        11.35\n",
       "...                           ...          ...\n",
       "9909  2015-05-10 12:37:51.0000002        11.35\n",
       "9910  2015-01-12 17:05:51.0000001        11.35\n",
       "9911  2015-04-19 20:44:15.0000001        11.35\n",
       "9912  2015-01-31 01:05:19.0000005        11.35\n",
       "9913  2015-01-18 14:06:23.0000006        11.35\n",
       "\n",
       "[9914 rows x 2 columns]"
      ]
     },
     "execution_count": 101,
     "metadata": {},
     "output_type": "execute_result"
    }
   ],
   "source": [
    "submission_df = pd.read_csv(data_dir+'/sample_submission.csv')\n",
    "submission_df"
   ]
  },
  {
   "cell_type": "code",
   "execution_count": 102,
   "metadata": {
    "colab": {
     "background_save": true
    },
    "id": "A1rSS5Ctgjs_"
   },
   "outputs": [],
   "source": [
    "# Replace dummy value of submission.csv with actual value predicted by model\n",
    "def generate_submission(test_preds, fname):\n",
    "    sub_df = pd.read_csv(data_dir+'/sample_submission.csv')\n",
    "    sub_df['fare_amount'] = test_preds\n",
    "    sub_df.to_csv(fname, index=None)  # To avoid index in our final csv file "
   ]
  },
  {
   "cell_type": "code",
   "execution_count": 103,
   "metadata": {
    "colab": {
     "background_save": true
    },
    "id": "Jo7t2RcYgkCL"
   },
   "outputs": [],
   "source": [
    "generate_submission(test_preds, 'linreg_submission.csv')"
   ]
  },
  {
   "cell_type": "markdown",
   "metadata": {
    "id": "YA3RD2_BjHo7"
   },
   "source": [
    "![](https://i.imgur.com/DfCLCrE.png)"
   ]
  },
  {
   "cell_type": "markdown",
   "metadata": {
    "id": "JEbYT2mG_HgG"
   },
   "source": [
    "## 6. Feature Engineering\n",
    "\n",
    "\n",
    "- Extract parts of date\n",
    "- Remove outliers & invalid data\n",
    "- Add distance between pickup & drop\n",
    "- Add distance from landmarks\n",
    "\n",
    "Exercise: We're going to apply all of the above together, but you should observer the effect of adding each feature individually."
   ]
  },
  {
   "cell_type": "markdown",
   "metadata": {
    "id": "WcUB8lxy_sg6"
   },
   "source": [
    "### Extract Parts of Date\n",
    "\n",
    "- Year\n",
    "- Month\n",
    "- Day\n",
    "- Weekday\n",
    "- Hour\n",
    "\n"
   ]
  },
  {
   "cell_type": "code",
   "execution_count": 104,
   "metadata": {
    "colab": {
     "background_save": true
    },
    "id": "rKKoquFC87Ze"
   },
   "outputs": [
    {
     "data": {
      "text/html": [
       "<div>\n",
       "<style scoped>\n",
       "    .dataframe tbody tr th:only-of-type {\n",
       "        vertical-align: middle;\n",
       "    }\n",
       "\n",
       "    .dataframe tbody tr th {\n",
       "        vertical-align: top;\n",
       "    }\n",
       "\n",
       "    .dataframe thead th {\n",
       "        text-align: right;\n",
       "    }\n",
       "</style>\n",
       "<table border=\"1\" class=\"dataframe\">\n",
       "  <thead>\n",
       "    <tr style=\"text-align: right;\">\n",
       "      <th></th>\n",
       "      <th>fare_amount</th>\n",
       "      <th>pickup_datetime</th>\n",
       "      <th>pickup_longitude</th>\n",
       "      <th>pickup_latitude</th>\n",
       "      <th>dropoff_longitude</th>\n",
       "      <th>dropoff_latitude</th>\n",
       "      <th>passenger_count</th>\n",
       "      <th>day</th>\n",
       "      <th>month</th>\n",
       "      <th>year</th>\n",
       "      <th>time</th>\n",
       "      <th>minutes</th>\n",
       "      <th>shift</th>\n",
       "    </tr>\n",
       "  </thead>\n",
       "  <tbody>\n",
       "    <tr>\n",
       "      <th>311742</th>\n",
       "      <td>60.700001</td>\n",
       "      <td>2009-05-31 14:17:11+00:00</td>\n",
       "      <td>-74.176964</td>\n",
       "      <td>40.691509</td>\n",
       "      <td>-74.176796</td>\n",
       "      <td>40.691898</td>\n",
       "      <td>1</td>\n",
       "      <td>6</td>\n",
       "      <td>5</td>\n",
       "      <td>2009</td>\n",
       "      <td>14:17:11</td>\n",
       "      <td>857.183333</td>\n",
       "      <td>0</td>\n",
       "    </tr>\n",
       "    <tr>\n",
       "      <th>227426</th>\n",
       "      <td>15.500000</td>\n",
       "      <td>2012-12-20 04:03:04+00:00</td>\n",
       "      <td>-73.977760</td>\n",
       "      <td>40.746037</td>\n",
       "      <td>-73.951874</td>\n",
       "      <td>40.801311</td>\n",
       "      <td>1</td>\n",
       "      <td>3</td>\n",
       "      <td>12</td>\n",
       "      <td>2012</td>\n",
       "      <td>04:03:04</td>\n",
       "      <td>243.066667</td>\n",
       "      <td>0</td>\n",
       "    </tr>\n",
       "    <tr>\n",
       "      <th>648948</th>\n",
       "      <td>7.500000</td>\n",
       "      <td>2013-01-15 18:57:31+00:00</td>\n",
       "      <td>-74.003723</td>\n",
       "      <td>40.732433</td>\n",
       "      <td>-73.988770</td>\n",
       "      <td>40.731167</td>\n",
       "      <td>1</td>\n",
       "      <td>1</td>\n",
       "      <td>1</td>\n",
       "      <td>2013</td>\n",
       "      <td>18:57:31</td>\n",
       "      <td>1137.516667</td>\n",
       "      <td>1</td>\n",
       "    </tr>\n",
       "    <tr>\n",
       "      <th>16549</th>\n",
       "      <td>11.500000</td>\n",
       "      <td>2014-06-27 13:35:00+00:00</td>\n",
       "      <td>-73.998329</td>\n",
       "      <td>40.735176</td>\n",
       "      <td>-73.984596</td>\n",
       "      <td>40.754204</td>\n",
       "      <td>1</td>\n",
       "      <td>4</td>\n",
       "      <td>6</td>\n",
       "      <td>2014</td>\n",
       "      <td>13:35:00</td>\n",
       "      <td>815.000000</td>\n",
       "      <td>0</td>\n",
       "    </tr>\n",
       "    <tr>\n",
       "      <th>691491</th>\n",
       "      <td>10.900000</td>\n",
       "      <td>2009-11-24 20:25:56+00:00</td>\n",
       "      <td>-73.951881</td>\n",
       "      <td>40.784546</td>\n",
       "      <td>-73.985191</td>\n",
       "      <td>40.739117</td>\n",
       "      <td>2</td>\n",
       "      <td>1</td>\n",
       "      <td>11</td>\n",
       "      <td>2009</td>\n",
       "      <td>20:25:56</td>\n",
       "      <td>1225.933333</td>\n",
       "      <td>1</td>\n",
       "    </tr>\n",
       "  </tbody>\n",
       "</table>\n",
       "</div>"
      ],
      "text/plain": [
       "        fare_amount           pickup_datetime  pickup_longitude  \\\n",
       "311742    60.700001 2009-05-31 14:17:11+00:00        -74.176964   \n",
       "227426    15.500000 2012-12-20 04:03:04+00:00        -73.977760   \n",
       "648948     7.500000 2013-01-15 18:57:31+00:00        -74.003723   \n",
       "16549     11.500000 2014-06-27 13:35:00+00:00        -73.998329   \n",
       "691491    10.900000 2009-11-24 20:25:56+00:00        -73.951881   \n",
       "\n",
       "        pickup_latitude  dropoff_longitude  dropoff_latitude  passenger_count  \\\n",
       "311742        40.691509         -74.176796         40.691898                1   \n",
       "227426        40.746037         -73.951874         40.801311                1   \n",
       "648948        40.732433         -73.988770         40.731167                1   \n",
       "16549         40.735176         -73.984596         40.754204                1   \n",
       "691491        40.784546         -73.985191         40.739117                2   \n",
       "\n",
       "        day  month  year      time      minutes  shift  \n",
       "311742    6      5  2009  14:17:11   857.183333      0  \n",
       "227426    3     12  2012  04:03:04   243.066667      0  \n",
       "648948    1      1  2013  18:57:31  1137.516667      1  \n",
       "16549     4      6  2014  13:35:00   815.000000      0  \n",
       "691491    1     11  2009  20:25:56  1225.933333      1  "
      ]
     },
     "execution_count": 104,
     "metadata": {},
     "output_type": "execute_result"
    }
   ],
   "source": [
    "train_df.head()"
   ]
  },
  {
   "cell_type": "code",
   "execution_count": 105,
   "metadata": {
    "colab": {
     "background_save": true
    },
    "id": "iCWqT0ks87Zf"
   },
   "outputs": [
    {
     "data": {
      "text/plain": [
       "311742    2009\n",
       "227426    2012\n",
       "648948    2013\n",
       "16549     2014\n",
       "691491    2009\n",
       "Name: pickup_datetime, dtype: int64"
      ]
     },
     "execution_count": 105,
     "metadata": {},
     "output_type": "execute_result"
    }
   ],
   "source": [
    "train_df['pickup_datetime'].dt.year.head()"
   ]
  },
  {
   "cell_type": "code",
   "execution_count": 106,
   "metadata": {
    "id": "DIdXSnBJ87Zf"
   },
   "outputs": [
    {
     "data": {
      "text/plain": [
       "311742    31\n",
       "227426    20\n",
       "648948    15\n",
       "16549     27\n",
       "691491    24\n",
       "Name: pickup_datetime, dtype: int64"
      ]
     },
     "execution_count": 106,
     "metadata": {},
     "output_type": "execute_result"
    }
   ],
   "source": [
    "train_df['pickup_datetime'].dt.day.head()"
   ]
  },
  {
   "cell_type": "code",
   "execution_count": 107,
   "metadata": {},
   "outputs": [
    {
     "data": {
      "text/plain": [
       "311742    6\n",
       "227426    3\n",
       "648948    1\n",
       "16549     4\n",
       "691491    1\n",
       "Name: pickup_datetime, dtype: int64"
      ]
     },
     "execution_count": 107,
     "metadata": {},
     "output_type": "execute_result"
    }
   ],
   "source": [
    "train_df['pickup_datetime'].dt.weekday.head()"
   ]
  },
  {
   "cell_type": "markdown",
   "metadata": {},
   "source": [
    "#### Conversion into Year, Month, Date, Day, Hour"
   ]
  },
  {
   "cell_type": "code",
   "execution_count": 108,
   "metadata": {},
   "outputs": [
    {
     "data": {
      "text/html": [
       "<div>\n",
       "<style scoped>\n",
       "    .dataframe tbody tr th:only-of-type {\n",
       "        vertical-align: middle;\n",
       "    }\n",
       "\n",
       "    .dataframe tbody tr th {\n",
       "        vertical-align: top;\n",
       "    }\n",
       "\n",
       "    .dataframe thead th {\n",
       "        text-align: right;\n",
       "    }\n",
       "</style>\n",
       "<table border=\"1\" class=\"dataframe\">\n",
       "  <thead>\n",
       "    <tr style=\"text-align: right;\">\n",
       "      <th></th>\n",
       "      <th>fare_amount</th>\n",
       "      <th>pickup_datetime</th>\n",
       "      <th>pickup_longitude</th>\n",
       "      <th>pickup_latitude</th>\n",
       "      <th>dropoff_longitude</th>\n",
       "      <th>dropoff_latitude</th>\n",
       "      <th>passenger_count</th>\n",
       "      <th>day</th>\n",
       "      <th>month</th>\n",
       "      <th>year</th>\n",
       "      <th>time</th>\n",
       "      <th>minutes</th>\n",
       "      <th>shift</th>\n",
       "    </tr>\n",
       "  </thead>\n",
       "  <tbody>\n",
       "    <tr>\n",
       "      <th>311742</th>\n",
       "      <td>60.700001</td>\n",
       "      <td>2009-05-31 14:17:11+00:00</td>\n",
       "      <td>-74.176964</td>\n",
       "      <td>40.691509</td>\n",
       "      <td>-74.176796</td>\n",
       "      <td>40.691898</td>\n",
       "      <td>1</td>\n",
       "      <td>6</td>\n",
       "      <td>5</td>\n",
       "      <td>2009</td>\n",
       "      <td>14:17:11</td>\n",
       "      <td>857.183333</td>\n",
       "      <td>0</td>\n",
       "    </tr>\n",
       "    <tr>\n",
       "      <th>227426</th>\n",
       "      <td>15.500000</td>\n",
       "      <td>2012-12-20 04:03:04+00:00</td>\n",
       "      <td>-73.977760</td>\n",
       "      <td>40.746037</td>\n",
       "      <td>-73.951874</td>\n",
       "      <td>40.801311</td>\n",
       "      <td>1</td>\n",
       "      <td>3</td>\n",
       "      <td>12</td>\n",
       "      <td>2012</td>\n",
       "      <td>04:03:04</td>\n",
       "      <td>243.066667</td>\n",
       "      <td>0</td>\n",
       "    </tr>\n",
       "    <tr>\n",
       "      <th>648948</th>\n",
       "      <td>7.500000</td>\n",
       "      <td>2013-01-15 18:57:31+00:00</td>\n",
       "      <td>-74.003723</td>\n",
       "      <td>40.732433</td>\n",
       "      <td>-73.988770</td>\n",
       "      <td>40.731167</td>\n",
       "      <td>1</td>\n",
       "      <td>1</td>\n",
       "      <td>1</td>\n",
       "      <td>2013</td>\n",
       "      <td>18:57:31</td>\n",
       "      <td>1137.516667</td>\n",
       "      <td>1</td>\n",
       "    </tr>\n",
       "    <tr>\n",
       "      <th>16549</th>\n",
       "      <td>11.500000</td>\n",
       "      <td>2014-06-27 13:35:00+00:00</td>\n",
       "      <td>-73.998329</td>\n",
       "      <td>40.735176</td>\n",
       "      <td>-73.984596</td>\n",
       "      <td>40.754204</td>\n",
       "      <td>1</td>\n",
       "      <td>4</td>\n",
       "      <td>6</td>\n",
       "      <td>2014</td>\n",
       "      <td>13:35:00</td>\n",
       "      <td>815.000000</td>\n",
       "      <td>0</td>\n",
       "    </tr>\n",
       "    <tr>\n",
       "      <th>691491</th>\n",
       "      <td>10.900000</td>\n",
       "      <td>2009-11-24 20:25:56+00:00</td>\n",
       "      <td>-73.951881</td>\n",
       "      <td>40.784546</td>\n",
       "      <td>-73.985191</td>\n",
       "      <td>40.739117</td>\n",
       "      <td>2</td>\n",
       "      <td>1</td>\n",
       "      <td>11</td>\n",
       "      <td>2009</td>\n",
       "      <td>20:25:56</td>\n",
       "      <td>1225.933333</td>\n",
       "      <td>1</td>\n",
       "    </tr>\n",
       "  </tbody>\n",
       "</table>\n",
       "</div>"
      ],
      "text/plain": [
       "        fare_amount           pickup_datetime  pickup_longitude  \\\n",
       "311742    60.700001 2009-05-31 14:17:11+00:00        -74.176964   \n",
       "227426    15.500000 2012-12-20 04:03:04+00:00        -73.977760   \n",
       "648948     7.500000 2013-01-15 18:57:31+00:00        -74.003723   \n",
       "16549     11.500000 2014-06-27 13:35:00+00:00        -73.998329   \n",
       "691491    10.900000 2009-11-24 20:25:56+00:00        -73.951881   \n",
       "\n",
       "        pickup_latitude  dropoff_longitude  dropoff_latitude  passenger_count  \\\n",
       "311742        40.691509         -74.176796         40.691898                1   \n",
       "227426        40.746037         -73.951874         40.801311                1   \n",
       "648948        40.732433         -73.988770         40.731167                1   \n",
       "16549         40.735176         -73.984596         40.754204                1   \n",
       "691491        40.784546         -73.985191         40.739117                2   \n",
       "\n",
       "        day  month  year      time      minutes  shift  \n",
       "311742    6      5  2009  14:17:11   857.183333      0  \n",
       "227426    3     12  2012  04:03:04   243.066667      0  \n",
       "648948    1      1  2013  18:57:31  1137.516667      1  \n",
       "16549     4      6  2014  13:35:00   815.000000      0  \n",
       "691491    1     11  2009  20:25:56  1225.933333      1  "
      ]
     },
     "execution_count": 108,
     "metadata": {},
     "output_type": "execute_result"
    }
   ],
   "source": [
    "train_df.head()"
   ]
  },
  {
   "cell_type": "code",
   "execution_count": 109,
   "metadata": {
    "id": "t2CivTql_2Fu"
   },
   "outputs": [],
   "source": [
    "def add_dateparts(df, col):\n",
    "    df[col + '_year'] = df[col].dt.year\n",
    "    df[col + '_month'] = df[col].dt.month\n",
    "    df[col + '_date'] = df[col].dt.day\n",
    "    df[col + '_day'] = df[col].dt.weekday\n",
    "    df[col + '_hour'] = df[col].dt.hour"
   ]
  },
  {
   "cell_type": "code",
   "execution_count": 110,
   "metadata": {
    "id": "jOx5_kxOjZB5"
   },
   "outputs": [],
   "source": [
    "add_dateparts(train_df, 'pickup_datetime')"
   ]
  },
  {
   "cell_type": "code",
   "execution_count": 111,
   "metadata": {
    "id": "hDXVCaADjZT-"
   },
   "outputs": [],
   "source": [
    "add_dateparts(val_df, 'pickup_datetime')"
   ]
  },
  {
   "cell_type": "code",
   "execution_count": 112,
   "metadata": {
    "id": "ykp-Xdy-jY7A"
   },
   "outputs": [],
   "source": [
    "add_dateparts(test_df, 'pickup_datetime')"
   ]
  },
  {
   "cell_type": "code",
   "execution_count": 113,
   "metadata": {
    "id": "DzvyUWROkhfG"
   },
   "outputs": [
    {
     "data": {
      "text/html": [
       "<div>\n",
       "<style scoped>\n",
       "    .dataframe tbody tr th:only-of-type {\n",
       "        vertical-align: middle;\n",
       "    }\n",
       "\n",
       "    .dataframe tbody tr th {\n",
       "        vertical-align: top;\n",
       "    }\n",
       "\n",
       "    .dataframe thead th {\n",
       "        text-align: right;\n",
       "    }\n",
       "</style>\n",
       "<table border=\"1\" class=\"dataframe\">\n",
       "  <thead>\n",
       "    <tr style=\"text-align: right;\">\n",
       "      <th></th>\n",
       "      <th>fare_amount</th>\n",
       "      <th>pickup_datetime</th>\n",
       "      <th>pickup_longitude</th>\n",
       "      <th>pickup_latitude</th>\n",
       "      <th>dropoff_longitude</th>\n",
       "      <th>dropoff_latitude</th>\n",
       "      <th>passenger_count</th>\n",
       "      <th>day</th>\n",
       "      <th>month</th>\n",
       "      <th>year</th>\n",
       "      <th>time</th>\n",
       "      <th>minutes</th>\n",
       "      <th>shift</th>\n",
       "      <th>pickup_datetime_year</th>\n",
       "      <th>pickup_datetime_month</th>\n",
       "      <th>pickup_datetime_date</th>\n",
       "      <th>pickup_datetime_day</th>\n",
       "      <th>pickup_datetime_hour</th>\n",
       "    </tr>\n",
       "  </thead>\n",
       "  <tbody>\n",
       "    <tr>\n",
       "      <th>311742</th>\n",
       "      <td>60.700001</td>\n",
       "      <td>2009-05-31 14:17:11+00:00</td>\n",
       "      <td>-74.176964</td>\n",
       "      <td>40.691509</td>\n",
       "      <td>-74.176796</td>\n",
       "      <td>40.691898</td>\n",
       "      <td>1</td>\n",
       "      <td>6</td>\n",
       "      <td>5</td>\n",
       "      <td>2009</td>\n",
       "      <td>14:17:11</td>\n",
       "      <td>857.183333</td>\n",
       "      <td>0</td>\n",
       "      <td>2009</td>\n",
       "      <td>5</td>\n",
       "      <td>31</td>\n",
       "      <td>6</td>\n",
       "      <td>14</td>\n",
       "    </tr>\n",
       "    <tr>\n",
       "      <th>227426</th>\n",
       "      <td>15.500000</td>\n",
       "      <td>2012-12-20 04:03:04+00:00</td>\n",
       "      <td>-73.977760</td>\n",
       "      <td>40.746037</td>\n",
       "      <td>-73.951874</td>\n",
       "      <td>40.801311</td>\n",
       "      <td>1</td>\n",
       "      <td>3</td>\n",
       "      <td>12</td>\n",
       "      <td>2012</td>\n",
       "      <td>04:03:04</td>\n",
       "      <td>243.066667</td>\n",
       "      <td>0</td>\n",
       "      <td>2012</td>\n",
       "      <td>12</td>\n",
       "      <td>20</td>\n",
       "      <td>3</td>\n",
       "      <td>4</td>\n",
       "    </tr>\n",
       "    <tr>\n",
       "      <th>648948</th>\n",
       "      <td>7.500000</td>\n",
       "      <td>2013-01-15 18:57:31+00:00</td>\n",
       "      <td>-74.003723</td>\n",
       "      <td>40.732433</td>\n",
       "      <td>-73.988770</td>\n",
       "      <td>40.731167</td>\n",
       "      <td>1</td>\n",
       "      <td>1</td>\n",
       "      <td>1</td>\n",
       "      <td>2013</td>\n",
       "      <td>18:57:31</td>\n",
       "      <td>1137.516667</td>\n",
       "      <td>1</td>\n",
       "      <td>2013</td>\n",
       "      <td>1</td>\n",
       "      <td>15</td>\n",
       "      <td>1</td>\n",
       "      <td>18</td>\n",
       "    </tr>\n",
       "    <tr>\n",
       "      <th>16549</th>\n",
       "      <td>11.500000</td>\n",
       "      <td>2014-06-27 13:35:00+00:00</td>\n",
       "      <td>-73.998329</td>\n",
       "      <td>40.735176</td>\n",
       "      <td>-73.984596</td>\n",
       "      <td>40.754204</td>\n",
       "      <td>1</td>\n",
       "      <td>4</td>\n",
       "      <td>6</td>\n",
       "      <td>2014</td>\n",
       "      <td>13:35:00</td>\n",
       "      <td>815.000000</td>\n",
       "      <td>0</td>\n",
       "      <td>2014</td>\n",
       "      <td>6</td>\n",
       "      <td>27</td>\n",
       "      <td>4</td>\n",
       "      <td>13</td>\n",
       "    </tr>\n",
       "    <tr>\n",
       "      <th>691491</th>\n",
       "      <td>10.900000</td>\n",
       "      <td>2009-11-24 20:25:56+00:00</td>\n",
       "      <td>-73.951881</td>\n",
       "      <td>40.784546</td>\n",
       "      <td>-73.985191</td>\n",
       "      <td>40.739117</td>\n",
       "      <td>2</td>\n",
       "      <td>1</td>\n",
       "      <td>11</td>\n",
       "      <td>2009</td>\n",
       "      <td>20:25:56</td>\n",
       "      <td>1225.933333</td>\n",
       "      <td>1</td>\n",
       "      <td>2009</td>\n",
       "      <td>11</td>\n",
       "      <td>24</td>\n",
       "      <td>1</td>\n",
       "      <td>20</td>\n",
       "    </tr>\n",
       "  </tbody>\n",
       "</table>\n",
       "</div>"
      ],
      "text/plain": [
       "        fare_amount           pickup_datetime  pickup_longitude  \\\n",
       "311742    60.700001 2009-05-31 14:17:11+00:00        -74.176964   \n",
       "227426    15.500000 2012-12-20 04:03:04+00:00        -73.977760   \n",
       "648948     7.500000 2013-01-15 18:57:31+00:00        -74.003723   \n",
       "16549     11.500000 2014-06-27 13:35:00+00:00        -73.998329   \n",
       "691491    10.900000 2009-11-24 20:25:56+00:00        -73.951881   \n",
       "\n",
       "        pickup_latitude  dropoff_longitude  dropoff_latitude  passenger_count  \\\n",
       "311742        40.691509         -74.176796         40.691898                1   \n",
       "227426        40.746037         -73.951874         40.801311                1   \n",
       "648948        40.732433         -73.988770         40.731167                1   \n",
       "16549         40.735176         -73.984596         40.754204                1   \n",
       "691491        40.784546         -73.985191         40.739117                2   \n",
       "\n",
       "        day  month  year      time      minutes  shift  pickup_datetime_year  \\\n",
       "311742    6      5  2009  14:17:11   857.183333      0                  2009   \n",
       "227426    3     12  2012  04:03:04   243.066667      0                  2012   \n",
       "648948    1      1  2013  18:57:31  1137.516667      1                  2013   \n",
       "16549     4      6  2014  13:35:00   815.000000      0                  2014   \n",
       "691491    1     11  2009  20:25:56  1225.933333      1                  2009   \n",
       "\n",
       "        pickup_datetime_month  pickup_datetime_date  pickup_datetime_day  \\\n",
       "311742                      5                    31                    6   \n",
       "227426                     12                    20                    3   \n",
       "648948                      1                    15                    1   \n",
       "16549                       6                    27                    4   \n",
       "691491                     11                    24                    1   \n",
       "\n",
       "        pickup_datetime_hour  \n",
       "311742                    14  \n",
       "227426                     4  \n",
       "648948                    18  \n",
       "16549                     13  \n",
       "691491                    20  "
      ]
     },
     "execution_count": 113,
     "metadata": {},
     "output_type": "execute_result"
    }
   ],
   "source": [
    "train_df.head()"
   ]
  },
  {
   "cell_type": "markdown",
   "metadata": {
    "id": "CqmAKOdfASXX"
   },
   "source": [
    "### Add Distance Between Pickup and Drop\n",
    "\n",
    "**We can use the haversine distance:** \n",
    "The haversine formula determines the great-circle i.e distance between two points on a sphere (in KM) given their longitudes and latitudes.\n",
    "- https://en.wikipedia.org/wiki/Haversine_formula\n",
    "- https://stackoverflow.com/questions/29545704/fast-haversine-approximation-python-pandas"
   ]
  },
  {
   "cell_type": "code",
   "execution_count": 114,
   "metadata": {
    "colab": {
     "background_save": true
    },
    "id": "zmFyo4MRCB67"
   },
   "outputs": [],
   "source": [
    "import numpy as np\n",
    "\n",
    "def haversine_np(lon1, lat1, lon2, lat2):\n",
    "    \"\"\"\n",
    "    Calculate the great circle distance between two points\n",
    "    on the earth (specified in decimal degrees)\n",
    "\n",
    "    All args must be of equal length.    \n",
    "\n",
    "    \"\"\"\n",
    "    lon1, lat1, lon2, lat2 = map(np.radians, [lon1, lat1, lon2, lat2])\n",
    "\n",
    "    dlon = lon2 - lon1\n",
    "    dlat = lat2 - lat1\n",
    "\n",
    "    a = np.sin(dlat/2.0)**2 + np.cos(lat1) * np.cos(lat2) * np.sin(dlon/2.0)**2\n",
    "\n",
    "    c = 2 * np.arcsin(np.sqrt(a))\n",
    "    km = 6367 * c\n",
    "    return km"
   ]
  },
  {
   "cell_type": "code",
   "execution_count": 115,
   "metadata": {
    "colab": {
     "background_save": true
    },
    "id": "ahz4-U7GzoEM"
   },
   "outputs": [],
   "source": [
    "def add_trip_distance(df):\n",
    "    df['trip_distance(KM)'] = haversine_np(df['pickup_longitude'], \n",
    "                                       df['pickup_latitude'], \n",
    "                                       df['dropoff_longitude'], \n",
    "                                       df['dropoff_latitude'])"
   ]
  },
  {
   "cell_type": "code",
   "execution_count": 116,
   "metadata": {
    "colab": {
     "background_save": true
    },
    "id": "cvqOy7V409FF"
   },
   "outputs": [
    {
     "name": "stdout",
     "output_type": "stream",
     "text": [
      "CPU times: total: 62.5 ms\n",
      "Wall time: 66.5 ms\n"
     ]
    }
   ],
   "source": [
    "%%time\n",
    "add_trip_distance(train_df)"
   ]
  },
  {
   "cell_type": "code",
   "execution_count": 117,
   "metadata": {},
   "outputs": [
    {
     "data": {
      "text/plain": [
       "311742    0.045415\n",
       "227426    6.517126\n",
       "648948    1.266859\n",
       "16549     2.409806\n",
       "691491    5.774498\n",
       "Name: trip_distance(KM), dtype: float32"
      ]
     },
     "execution_count": 117,
     "metadata": {},
     "output_type": "execute_result"
    }
   ],
   "source": [
    "train_df['trip_distance(KM)'].head()"
   ]
  },
  {
   "cell_type": "code",
   "execution_count": 118,
   "metadata": {
    "colab": {
     "background_save": true
    },
    "id": "ojOOKh7i5rhC"
   },
   "outputs": [],
   "source": [
    "add_trip_distance(val_df)"
   ]
  },
  {
   "cell_type": "code",
   "execution_count": 119,
   "metadata": {
    "colab": {
     "background_save": true
    },
    "id": "Gqd69jAX5tXY"
   },
   "outputs": [],
   "source": [
    "add_trip_distance(test_df)"
   ]
  },
  {
   "cell_type": "markdown",
   "metadata": {
    "id": "pFpeLO4MCP4J"
   },
   "source": [
    "### Add Distance From Popular Landmarks\n",
    "\n",
    "- JFK Airport\n",
    "- LGA Airport\n",
    "- EWR Airport\n",
    "- Times Square\n",
    "- Met Meuseum\n",
    "- World Trade Center\n",
    "\n",
    "We'll add the distance from drop location. "
   ]
  },
  {
   "cell_type": "code",
   "execution_count": 120,
   "metadata": {
    "colab": {
     "background_save": true
    },
    "id": "y_hrTiYRAO5D"
   },
   "outputs": [],
   "source": [
    "jfk_lonlat = -73.7781, 40.6413\n",
    "lga_lonlat = -73.8740, 40.7769\n",
    "ewr_lonlat = -74.1745, 40.6895\n",
    "met_lonlat = -73.9632, 40.7794\n",
    "wtc_lonlat = -74.0099, 40.7126"
   ]
  },
  {
   "cell_type": "code",
   "execution_count": 121,
   "metadata": {
    "colab": {
     "background_save": true
    },
    "id": "FLTcCYNKCS04"
   },
   "outputs": [],
   "source": [
    "def add_landmark_dropoff_distance(df, landmark_name, landmark_lon_lat):\n",
    "    lon, lat = landmark_lon_lat\n",
    "    df[landmark_name + '_drop_distance'] = haversine_np(lon, lat, df['dropoff_longitude'], df['dropoff_latitude'])\n",
    "# Measure dropoff distances from famous landmarks , here we use 5 landmarks therefore 5 additional columns "
   ]
  },
  {
   "cell_type": "code",
   "execution_count": 122,
   "metadata": {
    "colab": {
     "background_save": true
    },
    "id": "AuKlVwkzBNRl"
   },
   "outputs": [
    {
     "name": "stdout",
     "output_type": "stream",
     "text": [
      "CPU times: total: 250 ms\n",
      "Wall time: 255 ms\n"
     ]
    }
   ],
   "source": [
    "%%time\n",
    "for a_df in [train_df, val_df, test_df]:\n",
    "    for name, lonlat in [('jfk', jfk_lonlat), ('lga', lga_lonlat), ('ewr', ewr_lonlat), ('met', met_lonlat), ('wtc', wtc_lonlat)]:\n",
    "        add_landmark_dropoff_distance(a_df, name, lonlat)"
   ]
  },
  {
   "cell_type": "code",
   "execution_count": 123,
   "metadata": {
    "colab": {
     "background_save": true
    },
    "id": "Vspm4UZlBx0S"
   },
   "outputs": [
    {
     "data": {
      "text/html": [
       "<div>\n",
       "<style scoped>\n",
       "    .dataframe tbody tr th:only-of-type {\n",
       "        vertical-align: middle;\n",
       "    }\n",
       "\n",
       "    .dataframe tbody tr th {\n",
       "        vertical-align: top;\n",
       "    }\n",
       "\n",
       "    .dataframe thead th {\n",
       "        text-align: right;\n",
       "    }\n",
       "</style>\n",
       "<table border=\"1\" class=\"dataframe\">\n",
       "  <thead>\n",
       "    <tr style=\"text-align: right;\">\n",
       "      <th></th>\n",
       "      <th>fare_amount</th>\n",
       "      <th>pickup_datetime</th>\n",
       "      <th>pickup_longitude</th>\n",
       "      <th>pickup_latitude</th>\n",
       "      <th>dropoff_longitude</th>\n",
       "      <th>dropoff_latitude</th>\n",
       "      <th>passenger_count</th>\n",
       "      <th>day</th>\n",
       "      <th>month</th>\n",
       "      <th>year</th>\n",
       "      <th>...</th>\n",
       "      <th>pickup_datetime_month</th>\n",
       "      <th>pickup_datetime_date</th>\n",
       "      <th>pickup_datetime_day</th>\n",
       "      <th>pickup_datetime_hour</th>\n",
       "      <th>trip_distance(KM)</th>\n",
       "      <th>jfk_drop_distance</th>\n",
       "      <th>lga_drop_distance</th>\n",
       "      <th>ewr_drop_distance</th>\n",
       "      <th>met_drop_distance</th>\n",
       "      <th>wtc_drop_distance</th>\n",
       "    </tr>\n",
       "  </thead>\n",
       "  <tbody>\n",
       "    <tr>\n",
       "      <th>311742</th>\n",
       "      <td>60.700001</td>\n",
       "      <td>2009-05-31 14:17:11+00:00</td>\n",
       "      <td>-74.176964</td>\n",
       "      <td>40.691509</td>\n",
       "      <td>-74.176796</td>\n",
       "      <td>40.691898</td>\n",
       "      <td>1</td>\n",
       "      <td>6</td>\n",
       "      <td>5</td>\n",
       "      <td>2009</td>\n",
       "      <td>...</td>\n",
       "      <td>5</td>\n",
       "      <td>31</td>\n",
       "      <td>6</td>\n",
       "      <td>14</td>\n",
       "      <td>0.045415</td>\n",
       "      <td>34.073402</td>\n",
       "      <td>27.190155</td>\n",
       "      <td>0.329192</td>\n",
       "      <td>20.445398</td>\n",
       "      <td>14.247078</td>\n",
       "    </tr>\n",
       "    <tr>\n",
       "      <th>227426</th>\n",
       "      <td>15.500000</td>\n",
       "      <td>2012-12-20 04:03:04+00:00</td>\n",
       "      <td>-73.977760</td>\n",
       "      <td>40.746037</td>\n",
       "      <td>-73.951874</td>\n",
       "      <td>40.801311</td>\n",
       "      <td>1</td>\n",
       "      <td>3</td>\n",
       "      <td>12</td>\n",
       "      <td>2012</td>\n",
       "      <td>...</td>\n",
       "      <td>12</td>\n",
       "      <td>20</td>\n",
       "      <td>3</td>\n",
       "      <td>4</td>\n",
       "      <td>6.517126</td>\n",
       "      <td>23.029657</td>\n",
       "      <td>7.091055</td>\n",
       "      <td>22.487532</td>\n",
       "      <td>2.614870</td>\n",
       "      <td>11.001786</td>\n",
       "    </tr>\n",
       "    <tr>\n",
       "      <th>648948</th>\n",
       "      <td>7.500000</td>\n",
       "      <td>2013-01-15 18:57:31+00:00</td>\n",
       "      <td>-74.003723</td>\n",
       "      <td>40.732433</td>\n",
       "      <td>-73.988770</td>\n",
       "      <td>40.731167</td>\n",
       "      <td>1</td>\n",
       "      <td>1</td>\n",
       "      <td>1</td>\n",
       "      <td>2013</td>\n",
       "      <td>...</td>\n",
       "      <td>1</td>\n",
       "      <td>15</td>\n",
       "      <td>1</td>\n",
       "      <td>18</td>\n",
       "      <td>1.266859</td>\n",
       "      <td>20.368402</td>\n",
       "      <td>10.916145</td>\n",
       "      <td>16.315994</td>\n",
       "      <td>5.775625</td>\n",
       "      <td>2.724902</td>\n",
       "    </tr>\n",
       "    <tr>\n",
       "      <th>16549</th>\n",
       "      <td>11.500000</td>\n",
       "      <td>2014-06-27 13:35:00+00:00</td>\n",
       "      <td>-73.998329</td>\n",
       "      <td>40.735176</td>\n",
       "      <td>-73.984596</td>\n",
       "      <td>40.754204</td>\n",
       "      <td>1</td>\n",
       "      <td>4</td>\n",
       "      <td>6</td>\n",
       "      <td>2014</td>\n",
       "      <td>...</td>\n",
       "      <td>6</td>\n",
       "      <td>27</td>\n",
       "      <td>4</td>\n",
       "      <td>13</td>\n",
       "      <td>2.409806</td>\n",
       "      <td>21.449570</td>\n",
       "      <td>9.643814</td>\n",
       "      <td>17.535774</td>\n",
       "      <td>3.328873</td>\n",
       "      <td>5.090558</td>\n",
       "    </tr>\n",
       "    <tr>\n",
       "      <th>691491</th>\n",
       "      <td>10.900000</td>\n",
       "      <td>2009-11-24 20:25:56+00:00</td>\n",
       "      <td>-73.951881</td>\n",
       "      <td>40.784546</td>\n",
       "      <td>-73.985191</td>\n",
       "      <td>40.739117</td>\n",
       "      <td>2</td>\n",
       "      <td>1</td>\n",
       "      <td>11</td>\n",
       "      <td>2009</td>\n",
       "      <td>...</td>\n",
       "      <td>11</td>\n",
       "      <td>24</td>\n",
       "      <td>1</td>\n",
       "      <td>20</td>\n",
       "      <td>5.774498</td>\n",
       "      <td>20.558338</td>\n",
       "      <td>10.257782</td>\n",
       "      <td>16.872097</td>\n",
       "      <td>4.843718</td>\n",
       "      <td>3.607603</td>\n",
       "    </tr>\n",
       "  </tbody>\n",
       "</table>\n",
       "<p>5 rows × 24 columns</p>\n",
       "</div>"
      ],
      "text/plain": [
       "        fare_amount           pickup_datetime  pickup_longitude  \\\n",
       "311742    60.700001 2009-05-31 14:17:11+00:00        -74.176964   \n",
       "227426    15.500000 2012-12-20 04:03:04+00:00        -73.977760   \n",
       "648948     7.500000 2013-01-15 18:57:31+00:00        -74.003723   \n",
       "16549     11.500000 2014-06-27 13:35:00+00:00        -73.998329   \n",
       "691491    10.900000 2009-11-24 20:25:56+00:00        -73.951881   \n",
       "\n",
       "        pickup_latitude  dropoff_longitude  dropoff_latitude  passenger_count  \\\n",
       "311742        40.691509         -74.176796         40.691898                1   \n",
       "227426        40.746037         -73.951874         40.801311                1   \n",
       "648948        40.732433         -73.988770         40.731167                1   \n",
       "16549         40.735176         -73.984596         40.754204                1   \n",
       "691491        40.784546         -73.985191         40.739117                2   \n",
       "\n",
       "        day  month  year  ... pickup_datetime_month  pickup_datetime_date  \\\n",
       "311742    6      5  2009  ...                     5                    31   \n",
       "227426    3     12  2012  ...                    12                    20   \n",
       "648948    1      1  2013  ...                     1                    15   \n",
       "16549     4      6  2014  ...                     6                    27   \n",
       "691491    1     11  2009  ...                    11                    24   \n",
       "\n",
       "        pickup_datetime_day  pickup_datetime_hour  trip_distance(KM)  \\\n",
       "311742                    6                    14           0.045415   \n",
       "227426                    3                     4           6.517126   \n",
       "648948                    1                    18           1.266859   \n",
       "16549                     4                    13           2.409806   \n",
       "691491                    1                    20           5.774498   \n",
       "\n",
       "        jfk_drop_distance  lga_drop_distance  ewr_drop_distance  \\\n",
       "311742          34.073402          27.190155           0.329192   \n",
       "227426          23.029657           7.091055          22.487532   \n",
       "648948          20.368402          10.916145          16.315994   \n",
       "16549           21.449570           9.643814          17.535774   \n",
       "691491          20.558338          10.257782          16.872097   \n",
       "\n",
       "        met_drop_distance  wtc_drop_distance  \n",
       "311742          20.445398          14.247078  \n",
       "227426           2.614870          11.001786  \n",
       "648948           5.775625           2.724902  \n",
       "16549            3.328873           5.090558  \n",
       "691491           4.843718           3.607603  \n",
       "\n",
       "[5 rows x 24 columns]"
      ]
     },
     "execution_count": 123,
     "metadata": {},
     "output_type": "execute_result"
    }
   ],
   "source": [
    "train_df.head()"
   ]
  },
  {
   "cell_type": "markdown",
   "metadata": {
    "id": "gm99KRT__3GS"
   },
   "source": [
    "### Remove Outliers and Invalid Data\n",
    "\n",
    "There seems to be some invalide data in each of the following columns:\n",
    "\n",
    "- Fare amount\n",
    "- Passenger count\n",
    "- Pickup latitude & longitude\n",
    "- Drop latitude & longitude"
   ]
  },
  {
   "cell_type": "code",
   "execution_count": 124,
   "metadata": {
    "colab": {
     "background_save": true
    },
    "id": "qPmogG3dk4p6"
   },
   "outputs": [
    {
     "data": {
      "text/html": [
       "<div>\n",
       "<style scoped>\n",
       "    .dataframe tbody tr th:only-of-type {\n",
       "        vertical-align: middle;\n",
       "    }\n",
       "\n",
       "    .dataframe tbody tr th {\n",
       "        vertical-align: top;\n",
       "    }\n",
       "\n",
       "    .dataframe thead th {\n",
       "        text-align: right;\n",
       "    }\n",
       "</style>\n",
       "<table border=\"1\" class=\"dataframe\">\n",
       "  <thead>\n",
       "    <tr style=\"text-align: right;\">\n",
       "      <th></th>\n",
       "      <th>fare_amount</th>\n",
       "      <th>pickup_longitude</th>\n",
       "      <th>pickup_latitude</th>\n",
       "      <th>dropoff_longitude</th>\n",
       "      <th>dropoff_latitude</th>\n",
       "      <th>passenger_count</th>\n",
       "      <th>day</th>\n",
       "      <th>month</th>\n",
       "      <th>year</th>\n",
       "      <th>minutes</th>\n",
       "      <th>...</th>\n",
       "      <th>pickup_datetime_month</th>\n",
       "      <th>pickup_datetime_date</th>\n",
       "      <th>pickup_datetime_day</th>\n",
       "      <th>pickup_datetime_hour</th>\n",
       "      <th>trip_distance(KM)</th>\n",
       "      <th>jfk_drop_distance</th>\n",
       "      <th>lga_drop_distance</th>\n",
       "      <th>ewr_drop_distance</th>\n",
       "      <th>met_drop_distance</th>\n",
       "      <th>wtc_drop_distance</th>\n",
       "    </tr>\n",
       "  </thead>\n",
       "  <tbody>\n",
       "    <tr>\n",
       "      <th>count</th>\n",
       "      <td>664191.000000</td>\n",
       "      <td>664191.000000</td>\n",
       "      <td>664191.000000</td>\n",
       "      <td>664191.000000</td>\n",
       "      <td>664191.000000</td>\n",
       "      <td>664191.000000</td>\n",
       "      <td>664191.000000</td>\n",
       "      <td>664191.000000</td>\n",
       "      <td>664191.000000</td>\n",
       "      <td>664191.000000</td>\n",
       "      <td>...</td>\n",
       "      <td>664191.000000</td>\n",
       "      <td>664191.000000</td>\n",
       "      <td>664191.000000</td>\n",
       "      <td>664191.000000</td>\n",
       "      <td>664191.000000</td>\n",
       "      <td>664191.000000</td>\n",
       "      <td>664191.000000</td>\n",
       "      <td>664191.000000</td>\n",
       "      <td>664191.000000</td>\n",
       "      <td>664191.000000</td>\n",
       "    </tr>\n",
       "    <tr>\n",
       "      <th>mean</th>\n",
       "      <td>11.350060</td>\n",
       "      <td>-72.506638</td>\n",
       "      <td>39.910675</td>\n",
       "      <td>-72.517166</td>\n",
       "      <td>39.932354</td>\n",
       "      <td>1.683823</td>\n",
       "      <td>3.039206</td>\n",
       "      <td>6.268144</td>\n",
       "      <td>2011.739075</td>\n",
       "      <td>840.403378</td>\n",
       "      <td>...</td>\n",
       "      <td>6.268144</td>\n",
       "      <td>15.724712</td>\n",
       "      <td>3.039206</td>\n",
       "      <td>13.508979</td>\n",
       "      <td>19.978056</td>\n",
       "      <td>192.509125</td>\n",
       "      <td>181.723923</td>\n",
       "      <td>190.773666</td>\n",
       "      <td>176.770401</td>\n",
       "      <td>178.260162</td>\n",
       "    </tr>\n",
       "    <tr>\n",
       "      <th>std</th>\n",
       "      <td>9.813684</td>\n",
       "      <td>12.082679</td>\n",
       "      <td>8.703658</td>\n",
       "      <td>12.217980</td>\n",
       "      <td>9.040429</td>\n",
       "      <td>1.306399</td>\n",
       "      <td>1.949036</td>\n",
       "      <td>3.436272</td>\n",
       "      <td>1.858420</td>\n",
       "      <td>391.409709</td>\n",
       "      <td>...</td>\n",
       "      <td>3.436272</td>\n",
       "      <td>8.687737</td>\n",
       "      <td>1.949036</td>\n",
       "      <td>6.517223</td>\n",
       "      <td>373.512085</td>\n",
       "      <td>1220.677734</td>\n",
       "      <td>1223.729248</td>\n",
       "      <td>1225.571899</td>\n",
       "      <td>1225.444458</td>\n",
       "      <td>1225.543457</td>\n",
       "    </tr>\n",
       "    <tr>\n",
       "      <th>min</th>\n",
       "      <td>-52.000000</td>\n",
       "      <td>-2027.098999</td>\n",
       "      <td>-3084.490234</td>\n",
       "      <td>-3356.729736</td>\n",
       "      <td>-2073.150635</td>\n",
       "      <td>0.000000</td>\n",
       "      <td>0.000000</td>\n",
       "      <td>1.000000</td>\n",
       "      <td>2009.000000</td>\n",
       "      <td>0.000000</td>\n",
       "      <td>...</td>\n",
       "      <td>1.000000</td>\n",
       "      <td>1.000000</td>\n",
       "      <td>0.000000</td>\n",
       "      <td>0.000000</td>\n",
       "      <td>0.000000</td>\n",
       "      <td>0.109021</td>\n",
       "      <td>0.116402</td>\n",
       "      <td>0.240268</td>\n",
       "      <td>0.023163</td>\n",
       "      <td>0.005808</td>\n",
       "    </tr>\n",
       "    <tr>\n",
       "      <th>25%</th>\n",
       "      <td>6.000000</td>\n",
       "      <td>-73.992050</td>\n",
       "      <td>40.734852</td>\n",
       "      <td>-73.991417</td>\n",
       "      <td>40.733959</td>\n",
       "      <td>1.000000</td>\n",
       "      <td>1.000000</td>\n",
       "      <td>3.000000</td>\n",
       "      <td>2010.000000</td>\n",
       "      <td>565.408333</td>\n",
       "      <td>...</td>\n",
       "      <td>3.000000</td>\n",
       "      <td>8.000000</td>\n",
       "      <td>1.000000</td>\n",
       "      <td>9.000000</td>\n",
       "      <td>1.211901</td>\n",
       "      <td>20.537387</td>\n",
       "      <td>8.348354</td>\n",
       "      <td>16.502042</td>\n",
       "      <td>2.166604</td>\n",
       "      <td>3.642463</td>\n",
       "    </tr>\n",
       "    <tr>\n",
       "      <th>50%</th>\n",
       "      <td>8.500000</td>\n",
       "      <td>-73.981804</td>\n",
       "      <td>40.752602</td>\n",
       "      <td>-73.980186</td>\n",
       "      <td>40.753105</td>\n",
       "      <td>1.000000</td>\n",
       "      <td>3.000000</td>\n",
       "      <td>6.000000</td>\n",
       "      <td>2012.000000</td>\n",
       "      <td>880.000000</td>\n",
       "      <td>...</td>\n",
       "      <td>6.000000</td>\n",
       "      <td>16.000000</td>\n",
       "      <td>3.000000</td>\n",
       "      <td>14.000000</td>\n",
       "      <td>2.116572</td>\n",
       "      <td>21.204018</td>\n",
       "      <td>9.580408</td>\n",
       "      <td>18.017487</td>\n",
       "      <td>3.812537</td>\n",
       "      <td>5.561881</td>\n",
       "    </tr>\n",
       "    <tr>\n",
       "      <th>75%</th>\n",
       "      <td>12.500000</td>\n",
       "      <td>-73.967140</td>\n",
       "      <td>40.767059</td>\n",
       "      <td>-73.963699</td>\n",
       "      <td>40.768074</td>\n",
       "      <td>2.000000</td>\n",
       "      <td>5.000000</td>\n",
       "      <td>9.000000</td>\n",
       "      <td>2013.000000</td>\n",
       "      <td>1172.000000</td>\n",
       "      <td>...</td>\n",
       "      <td>9.000000</td>\n",
       "      <td>23.000000</td>\n",
       "      <td>5.000000</td>\n",
       "      <td>19.000000</td>\n",
       "      <td>3.875521</td>\n",
       "      <td>21.950105</td>\n",
       "      <td>11.123855</td>\n",
       "      <td>19.958725</td>\n",
       "      <td>6.065363</td>\n",
       "      <td>7.816385</td>\n",
       "    </tr>\n",
       "    <tr>\n",
       "      <th>max</th>\n",
       "      <td>499.000000</td>\n",
       "      <td>2420.209473</td>\n",
       "      <td>473.116669</td>\n",
       "      <td>2467.752686</td>\n",
       "      <td>3351.403076</td>\n",
       "      <td>7.000000</td>\n",
       "      <td>6.000000</td>\n",
       "      <td>12.000000</td>\n",
       "      <td>2015.000000</td>\n",
       "      <td>1439.983333</td>\n",
       "      <td>...</td>\n",
       "      <td>12.000000</td>\n",
       "      <td>31.000000</td>\n",
       "      <td>6.000000</td>\n",
       "      <td>23.000000</td>\n",
       "      <td>16913.427734</td>\n",
       "      <td>16091.647461</td>\n",
       "      <td>16094.354492</td>\n",
       "      <td>16068.338867</td>\n",
       "      <td>16088.547852</td>\n",
       "      <td>16080.922852</td>\n",
       "    </tr>\n",
       "  </tbody>\n",
       "</table>\n",
       "<p>8 rows × 22 columns</p>\n",
       "</div>"
      ],
      "text/plain": [
       "         fare_amount  pickup_longitude  pickup_latitude  dropoff_longitude  \\\n",
       "count  664191.000000     664191.000000    664191.000000      664191.000000   \n",
       "mean       11.350060        -72.506638        39.910675         -72.517166   \n",
       "std         9.813684         12.082679         8.703658          12.217980   \n",
       "min       -52.000000      -2027.098999     -3084.490234       -3356.729736   \n",
       "25%         6.000000        -73.992050        40.734852         -73.991417   \n",
       "50%         8.500000        -73.981804        40.752602         -73.980186   \n",
       "75%        12.500000        -73.967140        40.767059         -73.963699   \n",
       "max       499.000000       2420.209473       473.116669        2467.752686   \n",
       "\n",
       "       dropoff_latitude  passenger_count            day          month  \\\n",
       "count     664191.000000    664191.000000  664191.000000  664191.000000   \n",
       "mean          39.932354         1.683823       3.039206       6.268144   \n",
       "std            9.040429         1.306399       1.949036       3.436272   \n",
       "min        -2073.150635         0.000000       0.000000       1.000000   \n",
       "25%           40.733959         1.000000       1.000000       3.000000   \n",
       "50%           40.753105         1.000000       3.000000       6.000000   \n",
       "75%           40.768074         2.000000       5.000000       9.000000   \n",
       "max         3351.403076         7.000000       6.000000      12.000000   \n",
       "\n",
       "                year        minutes  ...  pickup_datetime_month  \\\n",
       "count  664191.000000  664191.000000  ...          664191.000000   \n",
       "mean     2011.739075     840.403378  ...               6.268144   \n",
       "std         1.858420     391.409709  ...               3.436272   \n",
       "min      2009.000000       0.000000  ...               1.000000   \n",
       "25%      2010.000000     565.408333  ...               3.000000   \n",
       "50%      2012.000000     880.000000  ...               6.000000   \n",
       "75%      2013.000000    1172.000000  ...               9.000000   \n",
       "max      2015.000000    1439.983333  ...              12.000000   \n",
       "\n",
       "       pickup_datetime_date  pickup_datetime_day  pickup_datetime_hour  \\\n",
       "count         664191.000000        664191.000000         664191.000000   \n",
       "mean              15.724712             3.039206             13.508979   \n",
       "std                8.687737             1.949036              6.517223   \n",
       "min                1.000000             0.000000              0.000000   \n",
       "25%                8.000000             1.000000              9.000000   \n",
       "50%               16.000000             3.000000             14.000000   \n",
       "75%               23.000000             5.000000             19.000000   \n",
       "max               31.000000             6.000000             23.000000   \n",
       "\n",
       "       trip_distance(KM)  jfk_drop_distance  lga_drop_distance  \\\n",
       "count      664191.000000      664191.000000      664191.000000   \n",
       "mean           19.978056         192.509125         181.723923   \n",
       "std           373.512085        1220.677734        1223.729248   \n",
       "min             0.000000           0.109021           0.116402   \n",
       "25%             1.211901          20.537387           8.348354   \n",
       "50%             2.116572          21.204018           9.580408   \n",
       "75%             3.875521          21.950105          11.123855   \n",
       "max         16913.427734       16091.647461       16094.354492   \n",
       "\n",
       "       ewr_drop_distance  met_drop_distance  wtc_drop_distance  \n",
       "count      664191.000000      664191.000000      664191.000000  \n",
       "mean          190.773666         176.770401         178.260162  \n",
       "std          1225.571899        1225.444458        1225.543457  \n",
       "min             0.240268           0.023163           0.005808  \n",
       "25%            16.502042           2.166604           3.642463  \n",
       "50%            18.017487           3.812537           5.561881  \n",
       "75%            19.958725           6.065363           7.816385  \n",
       "max         16068.338867       16088.547852       16080.922852  \n",
       "\n",
       "[8 rows x 22 columns]"
      ]
     },
     "execution_count": 124,
     "metadata": {},
     "output_type": "execute_result"
    }
   ],
   "source": [
    "train_df.describe()"
   ]
  },
  {
   "cell_type": "code",
   "execution_count": 125,
   "metadata": {
    "colab": {
     "background_save": true
    },
    "id": "lu1iN719AQX9"
   },
   "outputs": [
    {
     "data": {
      "text/html": [
       "<div>\n",
       "<style scoped>\n",
       "    .dataframe tbody tr th:only-of-type {\n",
       "        vertical-align: middle;\n",
       "    }\n",
       "\n",
       "    .dataframe tbody tr th {\n",
       "        vertical-align: top;\n",
       "    }\n",
       "\n",
       "    .dataframe thead th {\n",
       "        text-align: right;\n",
       "    }\n",
       "</style>\n",
       "<table border=\"1\" class=\"dataframe\">\n",
       "  <thead>\n",
       "    <tr style=\"text-align: right;\">\n",
       "      <th></th>\n",
       "      <th>pickup_longitude</th>\n",
       "      <th>pickup_latitude</th>\n",
       "      <th>dropoff_longitude</th>\n",
       "      <th>dropoff_latitude</th>\n",
       "      <th>passenger_count</th>\n",
       "      <th>day</th>\n",
       "      <th>month</th>\n",
       "      <th>year</th>\n",
       "      <th>shift</th>\n",
       "      <th>pickup_datetime_year</th>\n",
       "      <th>pickup_datetime_month</th>\n",
       "      <th>pickup_datetime_date</th>\n",
       "      <th>pickup_datetime_day</th>\n",
       "      <th>pickup_datetime_hour</th>\n",
       "      <th>trip_distance(KM)</th>\n",
       "      <th>jfk_drop_distance</th>\n",
       "      <th>lga_drop_distance</th>\n",
       "      <th>ewr_drop_distance</th>\n",
       "      <th>met_drop_distance</th>\n",
       "      <th>wtc_drop_distance</th>\n",
       "    </tr>\n",
       "  </thead>\n",
       "  <tbody>\n",
       "    <tr>\n",
       "      <th>count</th>\n",
       "      <td>9914.000000</td>\n",
       "      <td>9914.000000</td>\n",
       "      <td>9914.000000</td>\n",
       "      <td>9914.000000</td>\n",
       "      <td>9914.000000</td>\n",
       "      <td>9914.000000</td>\n",
       "      <td>9914.000000</td>\n",
       "      <td>9914.000000</td>\n",
       "      <td>9914.000000</td>\n",
       "      <td>9914.000000</td>\n",
       "      <td>9914.000000</td>\n",
       "      <td>9914.000000</td>\n",
       "      <td>9914.000000</td>\n",
       "      <td>9914.000000</td>\n",
       "      <td>9914.000000</td>\n",
       "      <td>9914.000000</td>\n",
       "      <td>9914.000000</td>\n",
       "      <td>9914.000000</td>\n",
       "      <td>9914.000000</td>\n",
       "      <td>9914.000000</td>\n",
       "    </tr>\n",
       "    <tr>\n",
       "      <th>mean</th>\n",
       "      <td>-73.974716</td>\n",
       "      <td>40.751041</td>\n",
       "      <td>-73.973656</td>\n",
       "      <td>40.751740</td>\n",
       "      <td>1.671273</td>\n",
       "      <td>2.852834</td>\n",
       "      <td>6.857979</td>\n",
       "      <td>2011.815816</td>\n",
       "      <td>0.354549</td>\n",
       "      <td>2011.815816</td>\n",
       "      <td>6.857979</td>\n",
       "      <td>16.194170</td>\n",
       "      <td>2.852834</td>\n",
       "      <td>13.467420</td>\n",
       "      <td>3.433216</td>\n",
       "      <td>20.916754</td>\n",
       "      <td>9.675180</td>\n",
       "      <td>18.546659</td>\n",
       "      <td>4.512898</td>\n",
       "      <td>6.037652</td>\n",
       "    </tr>\n",
       "    <tr>\n",
       "      <th>std</th>\n",
       "      <td>0.042774</td>\n",
       "      <td>0.033541</td>\n",
       "      <td>0.039072</td>\n",
       "      <td>0.035435</td>\n",
       "      <td>1.278747</td>\n",
       "      <td>1.994451</td>\n",
       "      <td>3.353272</td>\n",
       "      <td>1.803347</td>\n",
       "      <td>0.478401</td>\n",
       "      <td>1.803347</td>\n",
       "      <td>3.353272</td>\n",
       "      <td>8.838482</td>\n",
       "      <td>1.994451</td>\n",
       "      <td>6.868584</td>\n",
       "      <td>3.969883</td>\n",
       "      <td>3.303943</td>\n",
       "      <td>3.295647</td>\n",
       "      <td>4.035820</td>\n",
       "      <td>4.018427</td>\n",
       "      <td>4.252539</td>\n",
       "    </tr>\n",
       "    <tr>\n",
       "      <th>min</th>\n",
       "      <td>-74.252190</td>\n",
       "      <td>40.573143</td>\n",
       "      <td>-74.263245</td>\n",
       "      <td>40.568974</td>\n",
       "      <td>1.000000</td>\n",
       "      <td>0.000000</td>\n",
       "      <td>1.000000</td>\n",
       "      <td>2009.000000</td>\n",
       "      <td>0.000000</td>\n",
       "      <td>2009.000000</td>\n",
       "      <td>1.000000</td>\n",
       "      <td>1.000000</td>\n",
       "      <td>0.000000</td>\n",
       "      <td>0.000000</td>\n",
       "      <td>0.000000</td>\n",
       "      <td>0.401900</td>\n",
       "      <td>0.285629</td>\n",
       "      <td>0.284680</td>\n",
       "      <td>0.085747</td>\n",
       "      <td>0.040269</td>\n",
       "    </tr>\n",
       "    <tr>\n",
       "      <th>25%</th>\n",
       "      <td>-73.992500</td>\n",
       "      <td>40.736125</td>\n",
       "      <td>-73.991249</td>\n",
       "      <td>40.735253</td>\n",
       "      <td>1.000000</td>\n",
       "      <td>1.000000</td>\n",
       "      <td>4.000000</td>\n",
       "      <td>2010.000000</td>\n",
       "      <td>0.000000</td>\n",
       "      <td>2010.000000</td>\n",
       "      <td>4.000000</td>\n",
       "      <td>9.000000</td>\n",
       "      <td>1.000000</td>\n",
       "      <td>8.000000</td>\n",
       "      <td>1.297261</td>\n",
       "      <td>20.513337</td>\n",
       "      <td>8.311565</td>\n",
       "      <td>16.520517</td>\n",
       "      <td>2.126287</td>\n",
       "      <td>3.670107</td>\n",
       "    </tr>\n",
       "    <tr>\n",
       "      <th>50%</th>\n",
       "      <td>-73.982327</td>\n",
       "      <td>40.753052</td>\n",
       "      <td>-73.980015</td>\n",
       "      <td>40.754065</td>\n",
       "      <td>1.000000</td>\n",
       "      <td>3.000000</td>\n",
       "      <td>7.000000</td>\n",
       "      <td>2012.000000</td>\n",
       "      <td>0.000000</td>\n",
       "      <td>2012.000000</td>\n",
       "      <td>7.000000</td>\n",
       "      <td>16.000000</td>\n",
       "      <td>3.000000</td>\n",
       "      <td>15.000000</td>\n",
       "      <td>2.215648</td>\n",
       "      <td>21.181472</td>\n",
       "      <td>9.477797</td>\n",
       "      <td>18.024350</td>\n",
       "      <td>3.698123</td>\n",
       "      <td>5.541466</td>\n",
       "    </tr>\n",
       "    <tr>\n",
       "      <th>75%</th>\n",
       "      <td>-73.968012</td>\n",
       "      <td>40.767113</td>\n",
       "      <td>-73.964062</td>\n",
       "      <td>40.768757</td>\n",
       "      <td>2.000000</td>\n",
       "      <td>5.000000</td>\n",
       "      <td>10.000000</td>\n",
       "      <td>2014.000000</td>\n",
       "      <td>1.000000</td>\n",
       "      <td>2014.000000</td>\n",
       "      <td>10.000000</td>\n",
       "      <td>25.000000</td>\n",
       "      <td>5.000000</td>\n",
       "      <td>19.000000</td>\n",
       "      <td>4.043051</td>\n",
       "      <td>21.909794</td>\n",
       "      <td>10.965272</td>\n",
       "      <td>19.880536</td>\n",
       "      <td>5.922544</td>\n",
       "      <td>7.757612</td>\n",
       "    </tr>\n",
       "    <tr>\n",
       "      <th>max</th>\n",
       "      <td>-72.986534</td>\n",
       "      <td>41.709557</td>\n",
       "      <td>-72.990967</td>\n",
       "      <td>41.696682</td>\n",
       "      <td>6.000000</td>\n",
       "      <td>6.000000</td>\n",
       "      <td>12.000000</td>\n",
       "      <td>2015.000000</td>\n",
       "      <td>1.000000</td>\n",
       "      <td>2015.000000</td>\n",
       "      <td>12.000000</td>\n",
       "      <td>31.000000</td>\n",
       "      <td>6.000000</td>\n",
       "      <td>23.000000</td>\n",
       "      <td>99.933281</td>\n",
       "      <td>134.497726</td>\n",
       "      <td>126.062576</td>\n",
       "      <td>149.400787</td>\n",
       "      <td>130.347153</td>\n",
       "      <td>138.619492</td>\n",
       "    </tr>\n",
       "  </tbody>\n",
       "</table>\n",
       "</div>"
      ],
      "text/plain": [
       "       pickup_longitude  pickup_latitude  dropoff_longitude  dropoff_latitude  \\\n",
       "count       9914.000000      9914.000000        9914.000000       9914.000000   \n",
       "mean         -73.974716        40.751041         -73.973656         40.751740   \n",
       "std            0.042774         0.033541           0.039072          0.035435   \n",
       "min          -74.252190        40.573143         -74.263245         40.568974   \n",
       "25%          -73.992500        40.736125         -73.991249         40.735253   \n",
       "50%          -73.982327        40.753052         -73.980015         40.754065   \n",
       "75%          -73.968012        40.767113         -73.964062         40.768757   \n",
       "max          -72.986534        41.709557         -72.990967         41.696682   \n",
       "\n",
       "       passenger_count          day        month         year        shift  \\\n",
       "count      9914.000000  9914.000000  9914.000000  9914.000000  9914.000000   \n",
       "mean          1.671273     2.852834     6.857979  2011.815816     0.354549   \n",
       "std           1.278747     1.994451     3.353272     1.803347     0.478401   \n",
       "min           1.000000     0.000000     1.000000  2009.000000     0.000000   \n",
       "25%           1.000000     1.000000     4.000000  2010.000000     0.000000   \n",
       "50%           1.000000     3.000000     7.000000  2012.000000     0.000000   \n",
       "75%           2.000000     5.000000    10.000000  2014.000000     1.000000   \n",
       "max           6.000000     6.000000    12.000000  2015.000000     1.000000   \n",
       "\n",
       "       pickup_datetime_year  pickup_datetime_month  pickup_datetime_date  \\\n",
       "count           9914.000000            9914.000000           9914.000000   \n",
       "mean            2011.815816               6.857979             16.194170   \n",
       "std                1.803347               3.353272              8.838482   \n",
       "min             2009.000000               1.000000              1.000000   \n",
       "25%             2010.000000               4.000000              9.000000   \n",
       "50%             2012.000000               7.000000             16.000000   \n",
       "75%             2014.000000              10.000000             25.000000   \n",
       "max             2015.000000              12.000000             31.000000   \n",
       "\n",
       "       pickup_datetime_day  pickup_datetime_hour  trip_distance(KM)  \\\n",
       "count          9914.000000           9914.000000        9914.000000   \n",
       "mean              2.852834             13.467420           3.433216   \n",
       "std               1.994451              6.868584           3.969883   \n",
       "min               0.000000              0.000000           0.000000   \n",
       "25%               1.000000              8.000000           1.297261   \n",
       "50%               3.000000             15.000000           2.215648   \n",
       "75%               5.000000             19.000000           4.043051   \n",
       "max               6.000000             23.000000          99.933281   \n",
       "\n",
       "       jfk_drop_distance  lga_drop_distance  ewr_drop_distance  \\\n",
       "count        9914.000000        9914.000000        9914.000000   \n",
       "mean           20.916754           9.675180          18.546659   \n",
       "std             3.303943           3.295647           4.035820   \n",
       "min             0.401900           0.285629           0.284680   \n",
       "25%            20.513337           8.311565          16.520517   \n",
       "50%            21.181472           9.477797          18.024350   \n",
       "75%            21.909794          10.965272          19.880536   \n",
       "max           134.497726         126.062576         149.400787   \n",
       "\n",
       "       met_drop_distance  wtc_drop_distance  \n",
       "count        9914.000000        9914.000000  \n",
       "mean            4.512898           6.037652  \n",
       "std             4.018427           4.252539  \n",
       "min             0.085747           0.040269  \n",
       "25%             2.126287           3.670107  \n",
       "50%             3.698123           5.541466  \n",
       "75%             5.922544           7.757612  \n",
       "max           130.347153         138.619492  "
      ]
     },
     "execution_count": 125,
     "metadata": {},
     "output_type": "execute_result"
    }
   ],
   "source": [
    "test_df.describe()"
   ]
  },
  {
   "cell_type": "code",
   "execution_count": 126,
   "metadata": {},
   "outputs": [
    {
     "data": {
      "text/html": [
       "<div>\n",
       "<style scoped>\n",
       "    .dataframe tbody tr th:only-of-type {\n",
       "        vertical-align: middle;\n",
       "    }\n",
       "\n",
       "    .dataframe tbody tr th {\n",
       "        vertical-align: top;\n",
       "    }\n",
       "\n",
       "    .dataframe thead th {\n",
       "        text-align: right;\n",
       "    }\n",
       "</style>\n",
       "<table border=\"1\" class=\"dataframe\">\n",
       "  <thead>\n",
       "    <tr style=\"text-align: right;\">\n",
       "      <th></th>\n",
       "      <th>fare_amount</th>\n",
       "      <th>pickup_datetime</th>\n",
       "      <th>pickup_longitude</th>\n",
       "      <th>pickup_latitude</th>\n",
       "      <th>dropoff_longitude</th>\n",
       "      <th>dropoff_latitude</th>\n",
       "      <th>passenger_count</th>\n",
       "      <th>day</th>\n",
       "      <th>month</th>\n",
       "      <th>year</th>\n",
       "      <th>...</th>\n",
       "      <th>pickup_datetime_month</th>\n",
       "      <th>pickup_datetime_date</th>\n",
       "      <th>pickup_datetime_day</th>\n",
       "      <th>pickup_datetime_hour</th>\n",
       "      <th>trip_distance(KM)</th>\n",
       "      <th>jfk_drop_distance</th>\n",
       "      <th>lga_drop_distance</th>\n",
       "      <th>ewr_drop_distance</th>\n",
       "      <th>met_drop_distance</th>\n",
       "      <th>wtc_drop_distance</th>\n",
       "    </tr>\n",
       "  </thead>\n",
       "  <tbody>\n",
       "    <tr>\n",
       "      <th>113237</th>\n",
       "      <td>499.0</td>\n",
       "      <td>2011-03-20 08:08:00+00:00</td>\n",
       "      <td>-73.979179</td>\n",
       "      <td>40.749504</td>\n",
       "      <td>-73.979210</td>\n",
       "      <td>40.749481</td>\n",
       "      <td>1</td>\n",
       "      <td>6</td>\n",
       "      <td>3</td>\n",
       "      <td>2011</td>\n",
       "      <td>...</td>\n",
       "      <td>3</td>\n",
       "      <td>20</td>\n",
       "      <td>6</td>\n",
       "      <td>8</td>\n",
       "      <td>0.003236</td>\n",
       "      <td>20.775639</td>\n",
       "      <td>9.364369</td>\n",
       "      <td>17.747671</td>\n",
       "      <td>3.586939</td>\n",
       "      <td>4.845595</td>\n",
       "    </tr>\n",
       "    <tr>\n",
       "      <th>553097</th>\n",
       "      <td>425.0</td>\n",
       "      <td>2013-10-30 01:36:00+00:00</td>\n",
       "      <td>0.000000</td>\n",
       "      <td>0.000000</td>\n",
       "      <td>-73.961426</td>\n",
       "      <td>40.579697</td>\n",
       "      <td>1</td>\n",
       "      <td>2</td>\n",
       "      <td>10</td>\n",
       "      <td>2013</td>\n",
       "      <td>...</td>\n",
       "      <td>10</td>\n",
       "      <td>30</td>\n",
       "      <td>2</td>\n",
       "      <td>1</td>\n",
       "      <td>8655.213867</td>\n",
       "      <td>16.913052</td>\n",
       "      <td>23.119457</td>\n",
       "      <td>21.719942</td>\n",
       "      <td>22.192308</td>\n",
       "      <td>15.323833</td>\n",
       "    </tr>\n",
       "    <tr>\n",
       "      <th>461205</th>\n",
       "      <td>350.0</td>\n",
       "      <td>2013-05-18 18:15:00+00:00</td>\n",
       "      <td>0.000000</td>\n",
       "      <td>0.000000</td>\n",
       "      <td>0.000000</td>\n",
       "      <td>0.000000</td>\n",
       "      <td>1</td>\n",
       "      <td>5</td>\n",
       "      <td>5</td>\n",
       "      <td>2013</td>\n",
       "      <td>...</td>\n",
       "      <td>5</td>\n",
       "      <td>18</td>\n",
       "      <td>5</td>\n",
       "      <td>18</td>\n",
       "      <td>0.000000</td>\n",
       "      <td>8641.281250</td>\n",
       "      <td>8652.019531</td>\n",
       "      <td>8675.110352</td>\n",
       "      <td>8659.449219</td>\n",
       "      <td>8661.944336</td>\n",
       "    </tr>\n",
       "    <tr>\n",
       "      <th>435700</th>\n",
       "      <td>400.0</td>\n",
       "      <td>2014-02-04 23:41:32+00:00</td>\n",
       "      <td>-73.977364</td>\n",
       "      <td>40.753597</td>\n",
       "      <td>-73.977364</td>\n",
       "      <td>40.753597</td>\n",
       "      <td>2</td>\n",
       "      <td>1</td>\n",
       "      <td>2</td>\n",
       "      <td>2014</td>\n",
       "      <td>...</td>\n",
       "      <td>2</td>\n",
       "      <td>4</td>\n",
       "      <td>1</td>\n",
       "      <td>23</td>\n",
       "      <td>0.000000</td>\n",
       "      <td>20.918242</td>\n",
       "      <td>9.076596</td>\n",
       "      <td>18.066595</td>\n",
       "      <td>3.104930</td>\n",
       "      <td>5.316388</td>\n",
       "    </tr>\n",
       "    <tr>\n",
       "      <th>731448</th>\n",
       "      <td>350.0</td>\n",
       "      <td>2012-12-04 02:53:00+00:00</td>\n",
       "      <td>-73.828026</td>\n",
       "      <td>40.689346</td>\n",
       "      <td>0.000000</td>\n",
       "      <td>0.000000</td>\n",
       "      <td>2</td>\n",
       "      <td>1</td>\n",
       "      <td>12</td>\n",
       "      <td>2012</td>\n",
       "      <td>...</td>\n",
       "      <td>12</td>\n",
       "      <td>4</td>\n",
       "      <td>1</td>\n",
       "      <td>2</td>\n",
       "      <td>8646.409180</td>\n",
       "      <td>8641.281250</td>\n",
       "      <td>8652.019531</td>\n",
       "      <td>8675.110352</td>\n",
       "      <td>8659.449219</td>\n",
       "      <td>8661.944336</td>\n",
       "    </tr>\n",
       "  </tbody>\n",
       "</table>\n",
       "<p>5 rows × 24 columns</p>\n",
       "</div>"
      ],
      "text/plain": [
       "        fare_amount           pickup_datetime  pickup_longitude  \\\n",
       "113237        499.0 2011-03-20 08:08:00+00:00        -73.979179   \n",
       "553097        425.0 2013-10-30 01:36:00+00:00          0.000000   \n",
       "461205        350.0 2013-05-18 18:15:00+00:00          0.000000   \n",
       "435700        400.0 2014-02-04 23:41:32+00:00        -73.977364   \n",
       "731448        350.0 2012-12-04 02:53:00+00:00        -73.828026   \n",
       "\n",
       "        pickup_latitude  dropoff_longitude  dropoff_latitude  passenger_count  \\\n",
       "113237        40.749504         -73.979210         40.749481                1   \n",
       "553097         0.000000         -73.961426         40.579697                1   \n",
       "461205         0.000000           0.000000          0.000000                1   \n",
       "435700        40.753597         -73.977364         40.753597                2   \n",
       "731448        40.689346           0.000000          0.000000                2   \n",
       "\n",
       "        day  month  year  ... pickup_datetime_month  pickup_datetime_date  \\\n",
       "113237    6      3  2011  ...                     3                    20   \n",
       "553097    2     10  2013  ...                    10                    30   \n",
       "461205    5      5  2013  ...                     5                    18   \n",
       "435700    1      2  2014  ...                     2                     4   \n",
       "731448    1     12  2012  ...                    12                     4   \n",
       "\n",
       "        pickup_datetime_day  pickup_datetime_hour  trip_distance(KM)  \\\n",
       "113237                    6                     8           0.003236   \n",
       "553097                    2                     1        8655.213867   \n",
       "461205                    5                    18           0.000000   \n",
       "435700                    1                    23           0.000000   \n",
       "731448                    1                     2        8646.409180   \n",
       "\n",
       "        jfk_drop_distance  lga_drop_distance  ewr_drop_distance  \\\n",
       "113237          20.775639           9.364369          17.747671   \n",
       "553097          16.913052          23.119457          21.719942   \n",
       "461205        8641.281250        8652.019531        8675.110352   \n",
       "435700          20.918242           9.076596          18.066595   \n",
       "731448        8641.281250        8652.019531        8675.110352   \n",
       "\n",
       "        met_drop_distance  wtc_drop_distance  \n",
       "113237           3.586939           4.845595  \n",
       "553097          22.192308          15.323833  \n",
       "461205        8659.449219        8661.944336  \n",
       "435700           3.104930           5.316388  \n",
       "731448        8659.449219        8661.944336  \n",
       "\n",
       "[5 rows x 24 columns]"
      ]
     },
     "execution_count": 126,
     "metadata": {},
     "output_type": "execute_result"
    }
   ],
   "source": [
    "train_df[train_df.fare_amount>300]"
   ]
  },
  {
   "cell_type": "markdown",
   "metadata": {
    "id": "-Ct4Vbq-87Zl"
   },
   "source": [
    "# Limiting our feature so that it could be within appropriate range"
   ]
  },
  {
   "cell_type": "markdown",
   "metadata": {
    "id": "v0Z33hGclw04"
   },
   "source": [
    "We'll use the following ranges:\n",
    "\n",
    "- `fare_amount`: `$1` to $500\n",
    "- `longitudes`: -75 to -72\n",
    "- `latitudes`: 40 to 42\n",
    "- `passenger_count`: 1 to 6\n",
    "- `trip_distance(KM)` > 0.00001\n"
   ]
  },
  {
   "cell_type": "code",
   "execution_count": 127,
   "metadata": {},
   "outputs": [
    {
     "data": {
      "text/html": [
       "<div>\n",
       "<style scoped>\n",
       "    .dataframe tbody tr th:only-of-type {\n",
       "        vertical-align: middle;\n",
       "    }\n",
       "\n",
       "    .dataframe tbody tr th {\n",
       "        vertical-align: top;\n",
       "    }\n",
       "\n",
       "    .dataframe thead th {\n",
       "        text-align: right;\n",
       "    }\n",
       "</style>\n",
       "<table border=\"1\" class=\"dataframe\">\n",
       "  <thead>\n",
       "    <tr style=\"text-align: right;\">\n",
       "      <th></th>\n",
       "      <th>fare_amount</th>\n",
       "      <th>trip_distance(KM)</th>\n",
       "    </tr>\n",
       "  </thead>\n",
       "  <tbody>\n",
       "    <tr>\n",
       "      <th>408127</th>\n",
       "      <td>12.9</td>\n",
       "      <td>0.0</td>\n",
       "    </tr>\n",
       "    <tr>\n",
       "      <th>317617</th>\n",
       "      <td>12.0</td>\n",
       "      <td>0.0</td>\n",
       "    </tr>\n",
       "    <tr>\n",
       "      <th>478596</th>\n",
       "      <td>9.7</td>\n",
       "      <td>0.0</td>\n",
       "    </tr>\n",
       "    <tr>\n",
       "      <th>649449</th>\n",
       "      <td>2.5</td>\n",
       "      <td>0.0</td>\n",
       "    </tr>\n",
       "    <tr>\n",
       "      <th>145326</th>\n",
       "      <td>4.5</td>\n",
       "      <td>0.0</td>\n",
       "    </tr>\n",
       "    <tr>\n",
       "      <th>...</th>\n",
       "      <td>...</td>\n",
       "      <td>...</td>\n",
       "    </tr>\n",
       "    <tr>\n",
       "      <th>220884</th>\n",
       "      <td>12.5</td>\n",
       "      <td>0.0</td>\n",
       "    </tr>\n",
       "    <tr>\n",
       "      <th>822353</th>\n",
       "      <td>20.5</td>\n",
       "      <td>0.0</td>\n",
       "    </tr>\n",
       "    <tr>\n",
       "      <th>417113</th>\n",
       "      <td>13.5</td>\n",
       "      <td>0.0</td>\n",
       "    </tr>\n",
       "    <tr>\n",
       "      <th>256840</th>\n",
       "      <td>4.1</td>\n",
       "      <td>0.0</td>\n",
       "    </tr>\n",
       "    <tr>\n",
       "      <th>191335</th>\n",
       "      <td>6.0</td>\n",
       "      <td>0.0</td>\n",
       "    </tr>\n",
       "  </tbody>\n",
       "</table>\n",
       "<p>19160 rows × 2 columns</p>\n",
       "</div>"
      ],
      "text/plain": [
       "        fare_amount  trip_distance(KM)\n",
       "408127         12.9                0.0\n",
       "317617         12.0                0.0\n",
       "478596          9.7                0.0\n",
       "649449          2.5                0.0\n",
       "145326          4.5                0.0\n",
       "...             ...                ...\n",
       "220884         12.5                0.0\n",
       "822353         20.5                0.0\n",
       "417113         13.5                0.0\n",
       "256840          4.1                0.0\n",
       "191335          6.0                0.0\n",
       "\n",
       "[19160 rows x 2 columns]"
      ]
     },
     "execution_count": 127,
     "metadata": {},
     "output_type": "execute_result"
    }
   ],
   "source": [
    "# 19160 rows are with 0 trip distance\n",
    "train_df[train_df['trip_distance(KM)']<0.00001][['fare_amount','trip_distance(KM)']]"
   ]
  },
  {
   "cell_type": "code",
   "execution_count": 128,
   "metadata": {
    "colab": {
     "background_save": true
    },
    "id": "-HXy4CHsk_sI"
   },
   "outputs": [],
   "source": [
    "# Return only those value from dataset for which all below conditions satisfied\n",
    "def remove_outliers(df):\n",
    "    return df[(df['fare_amount'] >= 1.)         &    (df['fare_amount'] <= 500.) &\n",
    "              (df['pickup_longitude'] >= -75)   &    (df['pickup_longitude'] <= -72) & \n",
    "              (df['dropoff_longitude'] >= -75)  &    (df['dropoff_longitude'] <= -72) & \n",
    "              (df['pickup_latitude'] >= 40)     &    (df['pickup_latitude'] <= 42) & \n",
    "              (df['dropoff_latitude'] >=40)     &    (df['dropoff_latitude'] <= 42) & \n",
    "              (df['passenger_count'] >= 1)      &    (df['passenger_count'] <= 6) ]"
   ]
  },
  {
   "cell_type": "code",
   "execution_count": 129,
   "metadata": {
    "colab": {
     "background_save": true
    },
    "id": "dQPGJQmik_pR"
   },
   "outputs": [],
   "source": [
    "train_df = remove_outliers(train_df)"
   ]
  },
  {
   "cell_type": "code",
   "execution_count": 130,
   "metadata": {
    "colab": {
     "background_save": true
    },
    "id": "KqndbWx-k_jG"
   },
   "outputs": [],
   "source": [
    "val_df = remove_outliers(val_df)"
   ]
  },
  {
   "cell_type": "code",
   "execution_count": 131,
   "metadata": {},
   "outputs": [
    {
     "data": {
      "text/plain": [
       "0.0    7134\n",
       "Name: trip_distance(KM), dtype: int64"
      ]
     },
     "execution_count": 131,
     "metadata": {},
     "output_type": "execute_result"
    }
   ],
   "source": [
    "train_df[train_df['trip_distance(KM)']<0.00001]['trip_distance(KM)'].value_counts()"
   ]
  },
  {
   "cell_type": "markdown",
   "metadata": {
    "id": "qFbB6PkkD9X2"
   },
   "source": [
    "### Save Intermediate DataFrames\n",
    "\n",
    "Let's save the processed datasets in the Apache Parquet format, so that we can load them back easily to resume our work from this point.\n",
    "\n",
    "You may also want to create differnt notebooks for EDA, feature engineering and model training.\n"
   ]
  },
  {
   "cell_type": "code",
   "execution_count": 132,
   "metadata": {
    "id": "Uz7PVN_T87Zn"
   },
   "outputs": [],
   "source": [
    "!pip install pyarrow --quiet"
   ]
  },
  {
   "cell_type": "code",
   "execution_count": 133,
   "metadata": {
    "colab": {
     "background_save": true
    },
    "id": "w26KhYmIEBO0"
   },
   "outputs": [],
   "source": [
    "train_df.to_parquet('../Datasets/new-york-city-taxi-fare-prediction/train.parquet')"
   ]
  },
  {
   "cell_type": "code",
   "execution_count": 134,
   "metadata": {
    "colab": {
     "background_save": true
    },
    "id": "3u7e8FxdEBsR"
   },
   "outputs": [],
   "source": [
    "val_df.to_parquet('../Datasets/new-york-city-taxi-fare-prediction/val.parquet')"
   ]
  },
  {
   "cell_type": "code",
   "execution_count": 135,
   "metadata": {
    "colab": {
     "background_save": true
    },
    "id": "XjAvvW6_EmVI"
   },
   "outputs": [],
   "source": [
    "test_df.to_parquet('../Datasets/new-york-city-taxi-fare-prediction/test.parquet')"
   ]
  },
  {
   "cell_type": "markdown",
   "metadata": {
    "id": "bP_jiS_ZFDL2"
   },
   "source": [
    "### Split Inputs & Targets"
   ]
  },
  {
   "cell_type": "code",
   "execution_count": 136,
   "metadata": {
    "id": "B-nmx270E-7z"
   },
   "outputs": [
    {
     "data": {
      "text/plain": [
       "Index(['fare_amount', 'pickup_datetime', 'pickup_longitude', 'pickup_latitude',\n",
       "       'dropoff_longitude', 'dropoff_latitude', 'passenger_count', 'day',\n",
       "       'month', 'year', 'time', 'minutes', 'shift', 'pickup_datetime_year',\n",
       "       'pickup_datetime_month', 'pickup_datetime_date', 'pickup_datetime_day',\n",
       "       'pickup_datetime_hour', 'trip_distance(KM)', 'jfk_drop_distance',\n",
       "       'lga_drop_distance', 'ewr_drop_distance', 'met_drop_distance',\n",
       "       'wtc_drop_distance'],\n",
       "      dtype='object')"
      ]
     },
     "execution_count": 136,
     "metadata": {},
     "output_type": "execute_result"
    }
   ],
   "source": [
    "train_df.columns"
   ]
  },
  {
   "cell_type": "code",
   "execution_count": 137,
   "metadata": {
    "id": "Vy778UxeE-eG"
   },
   "outputs": [],
   "source": [
    "input_cols = ['pickup_longitude', 'pickup_latitude',\n",
    "       'dropoff_longitude', 'dropoff_latitude', 'passenger_count','day',\n",
    "       'month', 'year', 'shift', 'trip_distance(KM)',\n",
    "       'jfk_drop_distance', 'lga_drop_distance', 'ewr_drop_distance',\n",
    "       'met_drop_distance', 'wtc_drop_distance']"
   ]
  },
  {
   "cell_type": "code",
   "execution_count": 138,
   "metadata": {
    "id": "zgeRhiSdE-Rr"
   },
   "outputs": [],
   "source": [
    "target_col = 'fare_amount'"
   ]
  },
  {
   "cell_type": "code",
   "execution_count": 139,
   "metadata": {
    "id": "c8Js99j5F450"
   },
   "outputs": [],
   "source": [
    "train_inputs = train_df[input_cols]\n",
    "train_targets = train_df[target_col]"
   ]
  },
  {
   "cell_type": "code",
   "execution_count": 140,
   "metadata": {
    "id": "BIMlsS7pF4qd"
   },
   "outputs": [],
   "source": [
    "val_inputs = val_df[input_cols]\n",
    "val_targets = val_df[target_col]"
   ]
  },
  {
   "cell_type": "code",
   "execution_count": 141,
   "metadata": {
    "id": "m47bx3LEF9Iu"
   },
   "outputs": [],
   "source": [
    "test_inputs = test_df[input_cols]"
   ]
  },
  {
   "cell_type": "markdown",
   "metadata": {
    "id": "J-gkmg0BFG4b"
   },
   "source": [
    "Let's define a helper function to evaluate models and generate test predictions"
   ]
  },
  {
   "cell_type": "code",
   "execution_count": 142,
   "metadata": {
    "id": "LSnSkTrXExU1"
   },
   "outputs": [],
   "source": [
    "def evaluate(model):\n",
    "    train_preds = model.predict(train_inputs)\n",
    "    train_rmse = mean_squared_error(train_targets, train_preds, squared=False)\n",
    "    train_acc = model.score(train_inputs,train_targets)\n",
    "    val_preds = model.predict(val_inputs)\n",
    "    val_rmse = mean_squared_error(val_targets, val_preds, squared=False)\n",
    "    val_acc = model.score(val_inputs,val_targets)\n",
    "    return {\"Train RMSE\":train_rmse,\"Val RMSE\": val_rmse,\"Train Accuracy\" : train_acc,\"Val Accuracy\" :val_acc}"
   ]
  },
  {
   "cell_type": "code",
   "execution_count": 143,
   "metadata": {
    "id": "ukUeGNLxGFCv"
   },
   "outputs": [],
   "source": [
    "def predict_and_submit(model, fname):\n",
    "    test_preds = model.predict(test_inputs)\n",
    "    sub_df = pd.read_csv(data_dir+'/sample_submission.csv')\n",
    "    sub_df['fare_amount'] = test_preds\n",
    "    sub_df.to_csv(fname, index=None)\n",
    "    return sub_df"
   ]
  },
  {
   "cell_type": "markdown",
   "metadata": {
    "id": "xOtwHcOzFRn4"
   },
   "source": [
    "### Ridge Regression"
   ]
  },
  {
   "cell_type": "code",
   "execution_count": 144,
   "metadata": {
    "id": "HHGpiRjbGjFf"
   },
   "outputs": [],
   "source": [
    "from sklearn.linear_model import Ridge\n",
    "from sklearn.metrics import accuracy_score"
   ]
  },
  {
   "cell_type": "code",
   "execution_count": 145,
   "metadata": {
    "id": "1nf2a_i3FTV7"
   },
   "outputs": [],
   "source": [
    "model1 = Ridge(random_state=42)"
   ]
  },
  {
   "cell_type": "code",
   "execution_count": 146,
   "metadata": {
    "id": "q_Gk8A4qGtea"
   },
   "outputs": [
    {
     "name": "stdout",
     "output_type": "stream",
     "text": [
      "CPU times: total: 172 ms\n",
      "Wall time: 204 ms\n"
     ]
    },
    {
     "data": {
      "text/plain": [
       "Ridge(random_state=42)"
      ]
     },
     "execution_count": 146,
     "metadata": {},
     "output_type": "execute_result"
    }
   ],
   "source": [
    "%%time\n",
    "model1.fit(train_inputs, train_targets)"
   ]
  },
  {
   "cell_type": "code",
   "execution_count": 147,
   "metadata": {},
   "outputs": [
    {
     "data": {
      "text/plain": [
       "{'Train RMSE': 5.141227088929265,\n",
       " 'Val RMSE': 4.931980969978089,\n",
       " 'Train Accuracy': 0.7200582188342372,\n",
       " 'Val Accuracy': 0.7370458257010213}"
      ]
     },
     "execution_count": 147,
     "metadata": {},
     "output_type": "execute_result"
    }
   ],
   "source": [
    "evaluate(model1)"
   ]
  },
  {
   "cell_type": "markdown",
   "metadata": {
    "id": "LrTd7DSuG4og"
   },
   "source": [
    "Our model was able to get to an RMSE of $5.2, much better than our baseline model."
   ]
  },
  {
   "cell_type": "code",
   "execution_count": 148,
   "metadata": {
    "id": "leUTkRhVG4T2"
   },
   "outputs": [
    {
     "data": {
      "text/html": [
       "<div>\n",
       "<style scoped>\n",
       "    .dataframe tbody tr th:only-of-type {\n",
       "        vertical-align: middle;\n",
       "    }\n",
       "\n",
       "    .dataframe tbody tr th {\n",
       "        vertical-align: top;\n",
       "    }\n",
       "\n",
       "    .dataframe thead th {\n",
       "        text-align: right;\n",
       "    }\n",
       "</style>\n",
       "<table border=\"1\" class=\"dataframe\">\n",
       "  <thead>\n",
       "    <tr style=\"text-align: right;\">\n",
       "      <th></th>\n",
       "      <th>key</th>\n",
       "      <th>fare_amount</th>\n",
       "    </tr>\n",
       "  </thead>\n",
       "  <tbody>\n",
       "    <tr>\n",
       "      <th>0</th>\n",
       "      <td>2015-01-27 13:08:24.0000002</td>\n",
       "      <td>10.259055</td>\n",
       "    </tr>\n",
       "    <tr>\n",
       "      <th>1</th>\n",
       "      <td>2015-01-27 13:08:24.0000003</td>\n",
       "      <td>11.599170</td>\n",
       "    </tr>\n",
       "    <tr>\n",
       "      <th>2</th>\n",
       "      <td>2011-10-08 11:53:44.0000002</td>\n",
       "      <td>5.594006</td>\n",
       "    </tr>\n",
       "    <tr>\n",
       "      <th>3</th>\n",
       "      <td>2012-12-01 21:12:12.0000002</td>\n",
       "      <td>8.333735</td>\n",
       "    </tr>\n",
       "    <tr>\n",
       "      <th>4</th>\n",
       "      <td>2012-12-01 21:12:12.0000003</td>\n",
       "      <td>14.019877</td>\n",
       "    </tr>\n",
       "    <tr>\n",
       "      <th>...</th>\n",
       "      <td>...</td>\n",
       "      <td>...</td>\n",
       "    </tr>\n",
       "    <tr>\n",
       "      <th>9909</th>\n",
       "      <td>2015-05-10 12:37:51.0000002</td>\n",
       "      <td>9.166874</td>\n",
       "    </tr>\n",
       "    <tr>\n",
       "      <th>9910</th>\n",
       "      <td>2015-01-12 17:05:51.0000001</td>\n",
       "      <td>11.342532</td>\n",
       "    </tr>\n",
       "    <tr>\n",
       "      <th>9911</th>\n",
       "      <td>2015-04-19 20:44:15.0000001</td>\n",
       "      <td>47.270818</td>\n",
       "    </tr>\n",
       "    <tr>\n",
       "      <th>9912</th>\n",
       "      <td>2015-01-31 01:05:19.0000005</td>\n",
       "      <td>22.763250</td>\n",
       "    </tr>\n",
       "    <tr>\n",
       "      <th>9913</th>\n",
       "      <td>2015-01-18 14:06:23.0000006</td>\n",
       "      <td>9.183034</td>\n",
       "    </tr>\n",
       "  </tbody>\n",
       "</table>\n",
       "<p>9914 rows × 2 columns</p>\n",
       "</div>"
      ],
      "text/plain": [
       "                              key  fare_amount\n",
       "0     2015-01-27 13:08:24.0000002    10.259055\n",
       "1     2015-01-27 13:08:24.0000003    11.599170\n",
       "2     2011-10-08 11:53:44.0000002     5.594006\n",
       "3     2012-12-01 21:12:12.0000002     8.333735\n",
       "4     2012-12-01 21:12:12.0000003    14.019877\n",
       "...                           ...          ...\n",
       "9909  2015-05-10 12:37:51.0000002     9.166874\n",
       "9910  2015-01-12 17:05:51.0000001    11.342532\n",
       "9911  2015-04-19 20:44:15.0000001    47.270818\n",
       "9912  2015-01-31 01:05:19.0000005    22.763250\n",
       "9913  2015-01-18 14:06:23.0000006     9.183034\n",
       "\n",
       "[9914 rows x 2 columns]"
      ]
     },
     "execution_count": 148,
     "metadata": {},
     "output_type": "execute_result"
    }
   ],
   "source": [
    "predict_and_submit(model1, 'ridge_submission.csv')"
   ]
  },
  {
   "cell_type": "markdown",
   "metadata": {
    "id": "asLsXKZxHceo"
   },
   "source": [
    "![](https://i.imgur.com/aMAFpbH.png)\n",
    "\n",
    "We were able to get to a position of around 1100"
   ]
  },
  {
   "cell_type": "markdown",
   "metadata": {
    "id": "qwLUw-xXFdRj"
   },
   "source": [
    "### Random Forest\n",
    "\n",
    "https://scikit-learn.org/stable/modules/generated/sklearn.ensemble.RandomForestRegressor.html"
   ]
  },
  {
   "cell_type": "code",
   "execution_count": 149,
   "metadata": {
    "id": "ynZuqnImHuR3"
   },
   "outputs": [],
   "source": [
    "from sklearn.ensemble import RandomForestRegressor"
   ]
  },
  {
   "cell_type": "code",
   "execution_count": 150,
   "metadata": {
    "id": "QYWVBE0bHuOg"
   },
   "outputs": [],
   "source": [
    "model2 = RandomForestRegressor(max_depth=10, n_jobs=-1, random_state=42, n_estimators=50)"
   ]
  },
  {
   "cell_type": "code",
   "execution_count": 151,
   "metadata": {
    "id": "QEC8Ll3LHuLN"
   },
   "outputs": [
    {
     "name": "stdout",
     "output_type": "stream",
     "text": [
      "CPU times: total: 10min 20s\n",
      "Wall time: 3min 29s\n"
     ]
    },
    {
     "data": {
      "text/plain": [
       "RandomForestRegressor(max_depth=10, n_estimators=50, n_jobs=-1, random_state=42)"
      ]
     },
     "execution_count": 151,
     "metadata": {},
     "output_type": "execute_result"
    }
   ],
   "source": [
    "%%time\n",
    "model2.fit(train_inputs, train_targets)"
   ]
  },
  {
   "cell_type": "code",
   "execution_count": 152,
   "metadata": {},
   "outputs": [
    {
     "data": {
      "text/plain": [
       "{'Train RMSE': 3.718438576848081,\n",
       " 'Val RMSE': 3.884522604624705,\n",
       " 'Train Accuracy': 0.8535614664487773,\n",
       " 'Val Accuracy': 0.8368779799022938}"
      ]
     },
     "execution_count": 152,
     "metadata": {},
     "output_type": "execute_result"
    }
   ],
   "source": [
    "evaluate(model2)"
   ]
  },
  {
   "cell_type": "code",
   "execution_count": 153,
   "metadata": {
    "id": "OTXYvMefIaPM"
   },
   "outputs": [
    {
     "data": {
      "text/html": [
       "<div>\n",
       "<style scoped>\n",
       "    .dataframe tbody tr th:only-of-type {\n",
       "        vertical-align: middle;\n",
       "    }\n",
       "\n",
       "    .dataframe tbody tr th {\n",
       "        vertical-align: top;\n",
       "    }\n",
       "\n",
       "    .dataframe thead th {\n",
       "        text-align: right;\n",
       "    }\n",
       "</style>\n",
       "<table border=\"1\" class=\"dataframe\">\n",
       "  <thead>\n",
       "    <tr style=\"text-align: right;\">\n",
       "      <th></th>\n",
       "      <th>key</th>\n",
       "      <th>fare_amount</th>\n",
       "    </tr>\n",
       "  </thead>\n",
       "  <tbody>\n",
       "    <tr>\n",
       "      <th>0</th>\n",
       "      <td>2015-01-27 13:08:24.0000002</td>\n",
       "      <td>10.542251</td>\n",
       "    </tr>\n",
       "    <tr>\n",
       "      <th>1</th>\n",
       "      <td>2015-01-27 13:08:24.0000003</td>\n",
       "      <td>10.428913</td>\n",
       "    </tr>\n",
       "    <tr>\n",
       "      <th>2</th>\n",
       "      <td>2011-10-08 11:53:44.0000002</td>\n",
       "      <td>5.026192</td>\n",
       "    </tr>\n",
       "    <tr>\n",
       "      <th>3</th>\n",
       "      <td>2012-12-01 21:12:12.0000002</td>\n",
       "      <td>8.897551</td>\n",
       "    </tr>\n",
       "    <tr>\n",
       "      <th>4</th>\n",
       "      <td>2012-12-01 21:12:12.0000003</td>\n",
       "      <td>14.867722</td>\n",
       "    </tr>\n",
       "    <tr>\n",
       "      <th>...</th>\n",
       "      <td>...</td>\n",
       "      <td>...</td>\n",
       "    </tr>\n",
       "    <tr>\n",
       "      <th>9909</th>\n",
       "      <td>2015-05-10 12:37:51.0000002</td>\n",
       "      <td>8.374951</td>\n",
       "    </tr>\n",
       "    <tr>\n",
       "      <th>9910</th>\n",
       "      <td>2015-01-12 17:05:51.0000001</td>\n",
       "      <td>11.904298</td>\n",
       "    </tr>\n",
       "    <tr>\n",
       "      <th>9911</th>\n",
       "      <td>2015-04-19 20:44:15.0000001</td>\n",
       "      <td>55.243569</td>\n",
       "    </tr>\n",
       "    <tr>\n",
       "      <th>9912</th>\n",
       "      <td>2015-01-31 01:05:19.0000005</td>\n",
       "      <td>22.364443</td>\n",
       "    </tr>\n",
       "    <tr>\n",
       "      <th>9913</th>\n",
       "      <td>2015-01-18 14:06:23.0000006</td>\n",
       "      <td>6.636138</td>\n",
       "    </tr>\n",
       "  </tbody>\n",
       "</table>\n",
       "<p>9914 rows × 2 columns</p>\n",
       "</div>"
      ],
      "text/plain": [
       "                              key  fare_amount\n",
       "0     2015-01-27 13:08:24.0000002    10.542251\n",
       "1     2015-01-27 13:08:24.0000003    10.428913\n",
       "2     2011-10-08 11:53:44.0000002     5.026192\n",
       "3     2012-12-01 21:12:12.0000002     8.897551\n",
       "4     2012-12-01 21:12:12.0000003    14.867722\n",
       "...                           ...          ...\n",
       "9909  2015-05-10 12:37:51.0000002     8.374951\n",
       "9910  2015-01-12 17:05:51.0000001    11.904298\n",
       "9911  2015-04-19 20:44:15.0000001    55.243569\n",
       "9912  2015-01-31 01:05:19.0000005    22.364443\n",
       "9913  2015-01-18 14:06:23.0000006     6.636138\n",
       "\n",
       "[9914 rows x 2 columns]"
      ]
     },
     "execution_count": 153,
     "metadata": {},
     "output_type": "execute_result"
    }
   ],
   "source": [
    "predict_and_submit(model2, 'rf_submission.csv')"
   ]
  },
  {
   "cell_type": "markdown",
   "metadata": {
    "id": "7nvcXsLnIozx"
   },
   "source": [
    "![](https://i.imgur.com/jyMniFW.png)\n",
    "\n",
    "This puts us at position 573 out of 1483 i.e. top 40%, which is already a really good score. \n",
    "\n",
    "Remember that we're only using 1% of the data, and we haven't done much hyperparameter tuning yet."
   ]
  },
  {
   "cell_type": "markdown",
   "metadata": {
    "id": "tK7hXI8IFgZ5"
   },
   "source": [
    "### Gradient Boosting\n",
    "\n",
    "https://xgboost.readthedocs.io/en/latest/python/python_api.html#module-xgboost.sklearn"
   ]
  },
  {
   "cell_type": "code",
   "execution_count": 154,
   "metadata": {
    "id": "DpPz5PvBFjxb"
   },
   "outputs": [],
   "source": [
    "from xgboost import XGBRegressor "
   ]
  },
  {
   "cell_type": "code",
   "execution_count": 155,
   "metadata": {
    "id": "fWka7h5_ycx2"
   },
   "outputs": [],
   "source": [
    "model3 = XGBRegressor(random_state=42, n_jobs=-1, objective='reg:squarederror') \n",
    "# as we are dealing with RMSE"
   ]
  },
  {
   "cell_type": "code",
   "execution_count": 156,
   "metadata": {},
   "outputs": [
    {
     "data": {
      "text/plain": [
       "Index(['pickup_longitude', 'pickup_latitude', 'dropoff_longitude',\n",
       "       'dropoff_latitude', 'passenger_count', 'day', 'month', 'year', 'shift',\n",
       "       'trip_distance(KM)', 'jfk_drop_distance', 'lga_drop_distance',\n",
       "       'ewr_drop_distance', 'met_drop_distance', 'wtc_drop_distance'],\n",
       "      dtype='object')"
      ]
     },
     "execution_count": 156,
     "metadata": {},
     "output_type": "execute_result"
    }
   ],
   "source": [
    "train_inputs.columns"
   ]
  },
  {
   "cell_type": "code",
   "execution_count": 157,
   "metadata": {
    "id": "N0RqiicaInkM"
   },
   "outputs": [
    {
     "name": "stdout",
     "output_type": "stream",
     "text": [
      "CPU times: total: 6min 32s\n",
      "Wall time: 3min 8s\n"
     ]
    },
    {
     "data": {
      "text/plain": [
       "XGBRegressor(base_score=0.5, booster='gbtree', callbacks=None,\n",
       "             colsample_bylevel=1, colsample_bynode=1, colsample_bytree=1,\n",
       "             early_stopping_rounds=None, enable_categorical=False,\n",
       "             eval_metric=None, feature_types=None, gamma=0, gpu_id=-1,\n",
       "             grow_policy='depthwise', importance_type=None,\n",
       "             interaction_constraints='', learning_rate=0.300000012, max_bin=256,\n",
       "             max_cat_threshold=64, max_cat_to_onehot=4, max_delta_step=0,\n",
       "             max_depth=6, max_leaves=0, min_child_weight=1, missing=nan,\n",
       "             monotone_constraints='()', n_estimators=100, n_jobs=-1,\n",
       "             num_parallel_tree=1, predictor='auto', random_state=42, ...)"
      ]
     },
     "execution_count": 157,
     "metadata": {},
     "output_type": "execute_result"
    }
   ],
   "source": [
    "%%time\n",
    "model3.fit(train_inputs, train_targets)"
   ]
  },
  {
   "cell_type": "code",
   "execution_count": 158,
   "metadata": {},
   "outputs": [
    {
     "data": {
      "text/plain": [
       "{'Train RMSE': 3.287628,\n",
       " 'Val RMSE': 3.7317066,\n",
       " 'Train Accuracy': 0.8855279597881786,\n",
       " 'Val Accuracy': 0.8494598790634258}"
      ]
     },
     "execution_count": 158,
     "metadata": {},
     "output_type": "execute_result"
    }
   ],
   "source": [
    "evaluate(model3)"
   ]
  },
  {
   "cell_type": "code",
   "execution_count": 159,
   "metadata": {
    "id": "SmDlr-AbLIFk"
   },
   "outputs": [
    {
     "data": {
      "text/html": [
       "<div>\n",
       "<style scoped>\n",
       "    .dataframe tbody tr th:only-of-type {\n",
       "        vertical-align: middle;\n",
       "    }\n",
       "\n",
       "    .dataframe tbody tr th {\n",
       "        vertical-align: top;\n",
       "    }\n",
       "\n",
       "    .dataframe thead th {\n",
       "        text-align: right;\n",
       "    }\n",
       "</style>\n",
       "<table border=\"1\" class=\"dataframe\">\n",
       "  <thead>\n",
       "    <tr style=\"text-align: right;\">\n",
       "      <th></th>\n",
       "      <th>key</th>\n",
       "      <th>fare_amount</th>\n",
       "    </tr>\n",
       "  </thead>\n",
       "  <tbody>\n",
       "    <tr>\n",
       "      <th>0</th>\n",
       "      <td>2015-01-27 13:08:24.0000002</td>\n",
       "      <td>9.737747</td>\n",
       "    </tr>\n",
       "    <tr>\n",
       "      <th>1</th>\n",
       "      <td>2015-01-27 13:08:24.0000003</td>\n",
       "      <td>10.916374</td>\n",
       "    </tr>\n",
       "    <tr>\n",
       "      <th>2</th>\n",
       "      <td>2011-10-08 11:53:44.0000002</td>\n",
       "      <td>4.796618</td>\n",
       "    </tr>\n",
       "    <tr>\n",
       "      <th>3</th>\n",
       "      <td>2012-12-01 21:12:12.0000002</td>\n",
       "      <td>9.094748</td>\n",
       "    </tr>\n",
       "    <tr>\n",
       "      <th>4</th>\n",
       "      <td>2012-12-01 21:12:12.0000003</td>\n",
       "      <td>16.420876</td>\n",
       "    </tr>\n",
       "    <tr>\n",
       "      <th>...</th>\n",
       "      <td>...</td>\n",
       "      <td>...</td>\n",
       "    </tr>\n",
       "    <tr>\n",
       "      <th>9909</th>\n",
       "      <td>2015-05-10 12:37:51.0000002</td>\n",
       "      <td>8.653605</td>\n",
       "    </tr>\n",
       "    <tr>\n",
       "      <th>9910</th>\n",
       "      <td>2015-01-12 17:05:51.0000001</td>\n",
       "      <td>12.309554</td>\n",
       "    </tr>\n",
       "    <tr>\n",
       "      <th>9911</th>\n",
       "      <td>2015-04-19 20:44:15.0000001</td>\n",
       "      <td>54.727722</td>\n",
       "    </tr>\n",
       "    <tr>\n",
       "      <th>9912</th>\n",
       "      <td>2015-01-31 01:05:19.0000005</td>\n",
       "      <td>20.397995</td>\n",
       "    </tr>\n",
       "    <tr>\n",
       "      <th>9913</th>\n",
       "      <td>2015-01-18 14:06:23.0000006</td>\n",
       "      <td>6.286970</td>\n",
       "    </tr>\n",
       "  </tbody>\n",
       "</table>\n",
       "<p>9914 rows × 2 columns</p>\n",
       "</div>"
      ],
      "text/plain": [
       "                              key  fare_amount\n",
       "0     2015-01-27 13:08:24.0000002     9.737747\n",
       "1     2015-01-27 13:08:24.0000003    10.916374\n",
       "2     2011-10-08 11:53:44.0000002     4.796618\n",
       "3     2012-12-01 21:12:12.0000002     9.094748\n",
       "4     2012-12-01 21:12:12.0000003    16.420876\n",
       "...                           ...          ...\n",
       "9909  2015-05-10 12:37:51.0000002     8.653605\n",
       "9910  2015-01-12 17:05:51.0000001    12.309554\n",
       "9911  2015-04-19 20:44:15.0000001    54.727722\n",
       "9912  2015-01-31 01:05:19.0000005    20.397995\n",
       "9913  2015-01-18 14:06:23.0000006     6.286970\n",
       "\n",
       "[9914 rows x 2 columns]"
      ]
     },
     "execution_count": 159,
     "metadata": {},
     "output_type": "execute_result"
    }
   ],
   "source": [
    "predict_and_submit(model3, 'xgb_submission.csv')"
   ]
  },
  {
   "cell_type": "markdown",
   "metadata": {
    "id": "_LqXWIBCLxUR"
   },
   "source": [
    "![](https://i.imgur.com/GIC08hz.png)"
   ]
  },
  {
   "cell_type": "markdown",
   "metadata": {
    "id": "4AA1qCyqVLew"
   },
   "source": [
    "## References\n",
    "\n",
    "* Dataset: https://www.kaggle.com/c/new-york-city-taxi-fare-prediction/overview\n",
    "* Missing semester (Shell scripting): https://missing.csail.mit.edu/\n",
    "* Opendatsets library: https://github.com/JovianML/opendatasets \n",
    "* EDA project from scratch: https://www.youtube.com/watch?v=kLDTbavcmd0\n",
    "* GeoPy: https://geopy.readthedocs.io/en/stable/#module-geopy.distance \n",
    "* Blog post by Allen Kong: https://towardsdatascience.com/nyc-taxi-fare-prediction-605159aa9c24 \n",
    "* Machine Learning with Python: Zero to GBMs - https://zerotogbms.com \n",
    "* Experiment tracking spreadsheet: https://bit.ly/mltrackingsheet \n",
    "* Pandas datetime components: https://pandas.pydata.org/pandas-docs/stable/user_guide/timeseries.html#time-date-components \n",
    "* Haversine distance: https://en.wikipedia.org/wiki/Haversine_formula \n",
    "* Haversine distance with Numpy: https://stackoverflow.com/questions/29545704/fast-haversine-approximation-python-pandas \n",
    "\n"
   ]
  },
  {
   "cell_type": "code",
   "execution_count": null,
   "metadata": {},
   "outputs": [],
   "source": []
  }
 ],
 "metadata": {
  "accelerator": "GPU",
  "colab": {
   "collapsed_sections": [],
   "machine_shape": "hm",
   "name": "nyc_taxi_fare_prediction.ipynb",
   "version": ""
  },
  "kernelspec": {
   "display_name": "Python 3 (ipykernel)",
   "language": "python",
   "name": "python3"
  },
  "language_info": {
   "codemirror_mode": {
    "name": "ipython",
    "version": 3
   },
   "file_extension": ".py",
   "mimetype": "text/x-python",
   "name": "python",
   "nbconvert_exporter": "python",
   "pygments_lexer": "ipython3",
   "version": "3.10.2"
  }
 },
 "nbformat": 4,
 "nbformat_minor": 1
}
